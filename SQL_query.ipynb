{
  "nbformat": 4,
  "nbformat_minor": 0,
  "metadata": {
    "colab": {
      "provenance": [],
      "authorship_tag": "ABX9TyN+PBClG1KLI5ydAGtAhE/Q",
      "include_colab_link": true
    },
    "kernelspec": {
      "name": "python3",
      "display_name": "Python 3"
    },
    "language_info": {
      "name": "python"
    }
  },
  "cells": [
    {
      "cell_type": "markdown",
      "metadata": {
        "id": "view-in-github",
        "colab_type": "text"
      },
      "source": [
        "<a href=\"https://colab.research.google.com/github/Margo-s-M/Portfolio_Python/blob/master/SQL_query.ipynb\" target=\"_parent\"><img src=\"https://colab.research.google.com/assets/colab-badge.svg\" alt=\"Open In Colab\"/></a>"
      ]
    },
    {
      "cell_type": "code",
      "source": [
        "from google.colab import auth ,files\n",
        "from google.cloud import bigquery"
      ],
      "metadata": {
        "id": "-DJnAPGsNdto"
      },
      "execution_count": 1,
      "outputs": []
    },
    {
      "cell_type": "code",
      "source": [
        "auth.authenticate_user()\n",
        "client = bigquery.Client(project=\"data-analytics-mate\")"
      ],
      "metadata": {
        "id": "iRuB_sNLNwhu"
      },
      "execution_count": 2,
      "outputs": []
    },
    {
      "cell_type": "code",
      "execution_count": 3,
      "metadata": {
        "colab": {
          "base_uri": "https://localhost:8080/"
        },
        "id": "gpPQmvojNbf7",
        "outputId": "948ebc27-fc39-4f64-e2c5-0c1722853d70"
      },
      "outputs": [
        {
          "output_type": "stream",
          "name": "stdout",
          "text": [
            "         date country  send_interval  is_verified  is_unsubscribed  \\\n",
            "0  2020-11-01  Canada              1            1                0   \n",
            "1  2020-11-01  Canada              1            1                1   \n",
            "2  2020-11-01  Canada              1            0                0   \n",
            "3  2020-11-01   China              1            1                0   \n",
            "4  2020-11-01  France              1            1                1   \n",
            "\n",
            "   account_cnt  sent_msg  open_msg  visit_msg  total_country_account_cnt  \\\n",
            "0            8         6         3          0                       2067   \n",
            "1            3         2         2          0                       2067   \n",
            "2            5         0         0          0                       2067   \n",
            "3            2         3         0          0                        490   \n",
            "4            1         0         0          0                        553   \n",
            "\n",
            "   total_country_sent_cnt  rank_total_country_account_cnt  \\\n",
            "0                   37914                               3   \n",
            "1                   37914                               3   \n",
            "2                   37914                               3   \n",
            "3                   10181                               8   \n",
            "4                    9520                               5   \n",
            "\n",
            "   rank_total_country_sent_cnt  \n",
            "0                            3  \n",
            "1                            3  \n",
            "2                            3  \n",
            "3                            5  \n",
            "4                            6  \n"
          ]
        }
      ],
      "source": [
        "query =\"\"\"WITH\n",
        "\n",
        "\n",
        "accounts_info AS (      #1-cte with comon info about accounts\n",
        "  SELECT\n",
        "    s.date AS date,\n",
        "    sp.country,\n",
        "    a.send_interval,\n",
        "    a.is_verified,\n",
        "    a.is_unsubscribed,\n",
        "    COUNT(DISTINCT a.id) AS account_cnt,\n",
        "    0 AS sent_cnt,\n",
        "    0 AS open_cnt,\n",
        "    0 AS visit_cnt\n",
        "  FROM `data-analytics-mate.DA.account` a\n",
        "  JOIN `data-analytics-mate.DA.account_session` acc_s ON a.id = acc_s.account_id\n",
        "  JOIN `data-analytics-mate.DA.session` s ON acc_s.ga_session_id = s.ga_session_id\n",
        "  JOIN `data-analytics-mate.DA.session_params` sp ON s.ga_session_id = sp.ga_session_id\n",
        "  GROUP BY 1, 2, 3, 4, 5\n",
        "),\n",
        "\n",
        "\n",
        "\n",
        "\n",
        "emails_info AS (    #2-cte with emails info\n",
        "  SELECT\n",
        "    DATE_ADD(s.date, INTERVAL es.sent_date DAY) AS date,#whith interval only\n",
        "    sp.country,\n",
        "    a.send_interval,\n",
        "    a.is_verified,\n",
        "    a.is_unsubscribed,\n",
        "    0 AS account_cnt,        #counting all 3types of mess with dist.\n",
        "    COUNT(DISTINCT es.id_message) AS sent_cnt,\n",
        "    COUNT(DISTINCT eo.id_message) AS open_cnt,\n",
        "    COUNT(DISTINCT ev.id_message) AS visit_cnt\n",
        "  FROM `data-analytics-mate.DA.email_sent` es\n",
        "  JOIN `data-analytics-mate.DA.account` a ON es.id_account = a.id\n",
        "  JOIN `data-analytics-mate.DA.account_session` acc_s ON a.id = acc_s.account_id\n",
        "  JOIN `data-analytics-mate.DA.session` s ON acc_s.ga_session_id = s.ga_session_id\n",
        "  JOIN `data-analytics-mate.DA.session_params` sp ON s.ga_session_id = sp.ga_session_id\n",
        "  LEFT JOIN `data-analytics-mate.DA.email_open` eo ON es.id_message = eo.id_message\n",
        "  LEFT JOIN `data-analytics-mate.DA.email_visit` ev ON es.id_message = ev.id_message\n",
        "  GROUP BY 1, 2, 3, 4, 5\n",
        "),\n",
        "\n",
        "\n",
        "\n",
        "\n",
        "#1st cte and 2nd conected\n",
        "union_data AS (\n",
        "  SELECT * FROM accounts_info\n",
        "  UNION ALL\n",
        "  SELECT * FROM emails_info\n",
        "),\n",
        "\n",
        "\n",
        "\n",
        "\n",
        "#Aggregation of metrics in the required sections.\n",
        "\n",
        "\n",
        "total AS (\n",
        "  SELECT\n",
        "    date,\n",
        "    country,\n",
        "    send_interval,\n",
        "    is_verified,\n",
        "    is_unsubscribed,\n",
        "    SUM(account_cnt) AS account_cnt,\n",
        "    SUM(sent_cnt) AS sent_msg,\n",
        "    SUM(open_cnt) AS open_msg,\n",
        "    SUM(visit_cnt) AS visit_msg\n",
        "  FROM union_data\n",
        "  GROUP BY 1, 2, 3, 4, 5\n",
        "),\n",
        "\n",
        "\n",
        "#window functions, sum by partittion\n",
        "\n",
        "\n",
        "with_totals AS (\n",
        "  SELECT\n",
        "    *,\n",
        "    SUM(account_cnt) OVER (PARTITION BY country) AS total_country_account_cnt,\n",
        "    SUM(sent_msg) OVER (PARTITION BY country) AS total_country_sent_cnt\n",
        "  FROM total\n",
        "),\n",
        "\n",
        "\n",
        "#Ranking by country, using DENSE_RANK\n",
        "last_cte AS (\n",
        "  SELECT\n",
        "    *,\n",
        "    DENSE_RANK() OVER (ORDER BY total_country_account_cnt DESC) AS rank_total_country_account_cnt,\n",
        "    DENSE_RANK() OVER (ORDER BY total_country_sent_cnt DESC) AS rank_total_country_sent_cnt\n",
        "  FROM with_totals\n",
        ")\n",
        "\n",
        "\n",
        "# final select country counts top 10\n",
        "SELECT *\n",
        "FROM last_cte\n",
        "WHERE rank_total_country_account_cnt <= 10\n",
        "   OR rank_total_country_sent_cnt <= 10\n",
        "ORDER BY date, country;\n",
        "\"\"\"\n",
        "\n",
        "df = client.query(query).to_dataframe()\n",
        "\n",
        "\n",
        "df.to_csv('dataset_from_bigquery.csv', index=False)\n",
        "\n",
        "\n",
        "print(df.head())\n"
      ]
    }
  ]
}
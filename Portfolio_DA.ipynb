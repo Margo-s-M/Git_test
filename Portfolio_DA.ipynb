{
  "nbformat": 4,
  "nbformat_minor": 0,
  "metadata": {
    "colab": {
      "provenance": [],
      "authorship_tag": "ABX9TyNnA/Q+9SKANDdTYRh+dYN0",
      "include_colab_link": true
    },
    "kernelspec": {
      "name": "python3",
      "display_name": "Python 3"
    },
    "language_info": {
      "name": "python"
    }
  },
  "cells": [
    {
      "cell_type": "markdown",
      "metadata": {
        "id": "view-in-github",
        "colab_type": "text"
      },
      "source": [
        "<a href=\"https://colab.research.google.com/github/Margo-s-M/Portfolio_Python/blob/master/Portfolio_DA.ipynb\" target=\"_parent\"><img src=\"https://colab.research.google.com/assets/colab-badge.svg\" alt=\"Open In Colab\"/></a>"
      ]
    },
    {
      "cell_type": "markdown",
      "source": [
        "#Імпорт  бібліотек  \n",
        "#Підключення Goole Bigquery"
      ],
      "metadata": {
        "id": "hLfDZGysIYbY"
      }
    },
    {
      "cell_type": "code",
      "execution_count": null,
      "metadata": {
        "id": "eFlQ49VWsz2q"
      },
      "outputs": [],
      "source": [
        "from google.colab import auth ,files\n",
        "from google.cloud import bigquery\n",
        "\n",
        "#бібліотеки для аналізу\n",
        "import pandas as pd\n",
        "import numpy as np\n",
        "#бібліотеки для візуалізації\n",
        "import matplotlib.pyplot as plt\n",
        "import seaborn as sns\n",
        "sns.set(style=\"whitegrid\")\n",
        "import plotly.express as px\n",
        "import plotly.graph_objects as go\n",
        "from plotly.subplots import make_subplots\n",
        "\n",
        "\n",
        "#бібліотеки для статистики\n",
        "from scipy import  stats\n",
        "from scipy.stats import pearsonr, spearmanr, shapiro, kruskal, mannwhitneyu\n",
        "from statsmodels.stats.proportion import proportions_ztest\n",
        "import statsmodels.api as sm\n",
        "import statsmodels.formula.api as smf"
      ]
    },
    {
      "cell_type": "code",
      "source": [
        "# Збереження DataFrame у CSV-файл\n",
        "df.to_csv('dataset_from_bigquery.csv', index=False)\n",
        "\n",
        "# Вивантаження файлу на комп'ютер\n",
        "from google.colab import files\n",
        "files.download('dataset_from_bigquery.csv')"
      ],
      "metadata": {
        "colab": {
          "base_uri": "https://localhost:8080/",
          "height": 17
        },
        "id": "n5oL5ljA63j8",
        "outputId": "c1fc66c4-d0b1-4ea3-9694-99822eed83f1"
      },
      "execution_count": null,
      "outputs": [
        {
          "output_type": "display_data",
          "data": {
            "text/plain": [
              "<IPython.core.display.Javascript object>"
            ],
            "application/javascript": [
              "\n",
              "    async function download(id, filename, size) {\n",
              "      if (!google.colab.kernel.accessAllowed) {\n",
              "        return;\n",
              "      }\n",
              "      const div = document.createElement('div');\n",
              "      const label = document.createElement('label');\n",
              "      label.textContent = `Downloading \"${filename}\": `;\n",
              "      div.appendChild(label);\n",
              "      const progress = document.createElement('progress');\n",
              "      progress.max = size;\n",
              "      div.appendChild(progress);\n",
              "      document.body.appendChild(div);\n",
              "\n",
              "      const buffers = [];\n",
              "      let downloaded = 0;\n",
              "\n",
              "      const channel = await google.colab.kernel.comms.open(id);\n",
              "      // Send a message to notify the kernel that we're ready.\n",
              "      channel.send({})\n",
              "\n",
              "      for await (const message of channel.messages) {\n",
              "        // Send a message to notify the kernel that we're ready.\n",
              "        channel.send({})\n",
              "        if (message.buffers) {\n",
              "          for (const buffer of message.buffers) {\n",
              "            buffers.push(buffer);\n",
              "            downloaded += buffer.byteLength;\n",
              "            progress.value = downloaded;\n",
              "          }\n",
              "        }\n",
              "      }\n",
              "      const blob = new Blob(buffers, {type: 'application/binary'});\n",
              "      const a = document.createElement('a');\n",
              "      a.href = window.URL.createObjectURL(blob);\n",
              "      a.download = filename;\n",
              "      div.appendChild(a);\n",
              "      a.click();\n",
              "      div.remove();\n",
              "    }\n",
              "  "
            ]
          },
          "metadata": {}
        },
        {
          "output_type": "display_data",
          "data": {
            "text/plain": [
              "<IPython.core.display.Javascript object>"
            ],
            "application/javascript": [
              "download(\"download_4ff1f027-485c-48ad-8c27-156d68744569\", \"dataset_from_bigquery.csv\", 51854516)"
            ]
          },
          "metadata": {}
        }
      ]
    },
    {
      "cell_type": "markdown",
      "source": [
        "#**Формування датасету**\n",
        "\n",
        "1. Формування таблиці\n",
        "2. Поєднання колонок\n",
        "3. Перегляд даних\n",
        "4. Перевірка на консистентність\n",
        "\n",
        "\n",
        "\n",
        "\n",
        "\n"
      ],
      "metadata": {
        "id": "72PXb6HqTyaG"
      }
    },
    {
      "cell_type": "code",
      "source": [
        "# Аутентифікація користувача для доступу до BigQuery\n",
        "auth.authenticate_user()\n",
        "\n",
        "#Створення клієнта BigQuery з вказаним проектом\n",
        "client = bigquery.Client(project=\"data-analytics-mate\")\n",
        "\n",
        "# SQL-запит для створення датасету\n",
        "# Ми починаємо з таблиці session, щоб отримати всі сесії. Використовуємо LEFT JOIN для всіх інших таблиць\n",
        "\n",
        "query = \"\"\"\n",
        "SELECT\n",
        "  s.date as date,\n",
        "  s.ga_session_id as session_id,\n",
        "  sp.continent,\n",
        "  sp.country,\n",
        "  sp.device,\n",
        "  sp.browser,\n",
        "  sp.mobile_model_name,\n",
        "  sp.operating_system,\n",
        "  sp.language,\n",
        "  sp.medium as source,\n",
        "  sp.channel,\n",
        "  ac.id as user_id,\n",
        "  ac.is_verified,\n",
        "  ac.is_unsubscribed,\n",
        "  p.category,\n",
        "  p.name as product_name,\n",
        "  p.price,\n",
        "  p.short_description\n",
        "FROM\n",
        "  `data-analytics-mate.DA.session` s\n",
        "LEFT JOIN\n",
        "  `data-analytics-mate.DA.session_params` sp ON sp.ga_session_id = s.ga_session_id\n",
        "LEFT JOIN\n",
        "  `data-analytics-mate.DA.order` o ON o.ga_session_id = s.ga_session_id\n",
        "LEFT JOIN\n",
        "  `data-analytics-mate.DA.product` p ON p.item_id = o.item_id\n",
        "LEFT JOIN\n",
        "  `data-analytics-mate.DA.account_session` acs ON acs.ga_session_id = s.ga_session_id\n",
        "LEFT JOIN\n",
        "  `data-analytics-mate.DA.account` ac ON ac.id = acs.account_id\n",
        "\"\"\"\n",
        "\n",
        "# Виконання запиту та завантаження результату в Pandas DataFrame\n",
        "df = client.query(query).to_dataframe()\n",
        "\n",
        "# Збереження датасету в CSV для подальшого використання\n",
        "df.to_csv('dataset_from_bigquery.csv', index=False)\n",
        "\n",
        "#Вивід перших кількох рядків для перевірки\n",
        "print(df.head())"
      ],
      "metadata": {
        "colab": {
          "base_uri": "https://localhost:8080/"
        },
        "id": "OTRxsBmPUcbu",
        "outputId": "6d905216-8d55-4cf3-bca7-4ec8b81089c0"
      },
      "execution_count": null,
      "outputs": [
        {
          "output_type": "stream",
          "name": "stdout",
          "text": [
            "         date  session_id continent         country   device browser  \\\n",
            "0  2020-11-01  5760483956  Americas   United States  desktop  Chrome   \n",
            "1  2020-11-01  7115337200    Europe  United Kingdom  desktop  Chrome   \n",
            "2  2020-11-01  3978035233    Europe          Norway   mobile  Chrome   \n",
            "3  2020-11-01  9648986282    Africa         Nigeria   mobile  Chrome   \n",
            "4  2020-11-01  4393441533      Asia           China  desktop  Chrome   \n",
            "\n",
            "  mobile_model_name operating_system language   source         channel  \\\n",
            "0            Safari        Macintosh       zh  <Other>     Paid Search   \n",
            "1            Chrome              Web    en-us  organic  Organic Search   \n",
            "2           <Other>              Web       zh   (none)          Direct   \n",
            "3           <Other>          Android    es-es   (none)          Direct   \n",
            "4            Chrome          Windows    en-us   (none)          Direct   \n",
            "\n",
            "   user_id  is_verified  is_unsubscribed                    category  \\\n",
            "0     <NA>         <NA>             <NA>  Bookcases & shelving units   \n",
            "1     <NA>         <NA>             <NA>  Bookcases & shelving units   \n",
            "2     <NA>         <NA>             <NA>              Tables & desks   \n",
            "3     <NA>         <NA>             <NA>  Bookcases & shelving units   \n",
            "4     <NA>         <NA>             <NA>  Bookcases & shelving units   \n",
            "\n",
            "  product_name  price                               short_description  \n",
            "0      VITTSJÖ  609.0  Shelving unit with laptop table, 202x36x175 cm  \n",
            "1      VITTSJÖ  609.0  Shelving unit with laptop table, 202x36x175 cm  \n",
            "2       RÅSKOG  189.0                            Trolley, 35x45x78 cm  \n",
            "3      VITTSJÖ  609.0  Shelving unit with laptop table, 202x36x175 cm  \n",
            "4      VITTSJÖ  609.0  Shelving unit with laptop table, 202x36x175 cm  \n"
          ]
        }
      ]
    },
    {
      "cell_type": "code",
      "source": [
        "#Загальна інформація\n",
        "df.info()"
      ],
      "metadata": {
        "colab": {
          "base_uri": "https://localhost:8080/"
        },
        "id": "vugonAgTU0h-",
        "outputId": "0150327a-cf9b-42b1-d909-17b56351c944"
      },
      "execution_count": null,
      "outputs": [
        {
          "output_type": "stream",
          "name": "stdout",
          "text": [
            "<class 'pandas.core.frame.DataFrame'>\n",
            "RangeIndex: 349545 entries, 0 to 349544\n",
            "Data columns (total 18 columns):\n",
            " #   Column             Non-Null Count   Dtype  \n",
            "---  ------             --------------   -----  \n",
            " 0   date               349545 non-null  dbdate \n",
            " 1   session_id         349545 non-null  Int64  \n",
            " 2   continent          349545 non-null  object \n",
            " 3   country            349545 non-null  object \n",
            " 4   device             349545 non-null  object \n",
            " 5   browser            349545 non-null  object \n",
            " 6   mobile_model_name  349545 non-null  object \n",
            " 7   operating_system   349545 non-null  object \n",
            " 8   language           235279 non-null  object \n",
            " 9   source             349545 non-null  object \n",
            " 10  channel            349545 non-null  object \n",
            " 11  user_id            27945 non-null   Int64  \n",
            " 12  is_verified        27945 non-null   Int64  \n",
            " 13  is_unsubscribed    27945 non-null   Int64  \n",
            " 14  category           33538 non-null   object \n",
            " 15  product_name       33538 non-null   object \n",
            " 16  price              33538 non-null   float64\n",
            " 17  short_description  33538 non-null   object \n",
            "dtypes: Int64(4), dbdate(1), float64(1), object(12)\n",
            "memory usage: 49.3+ MB\n"
          ]
        }
      ]
    },
    {
      "cell_type": "code",
      "source": [
        "# Перевірка на вміст нульових та пропущенних значень\n",
        "print(df.isnull().sum())"
      ],
      "metadata": {
        "colab": {
          "base_uri": "https://localhost:8080/"
        },
        "id": "Dpp8dmZgU39u",
        "outputId": "cfaec636-cc0f-482a-d0d2-eb43863e0fa4"
      },
      "execution_count": null,
      "outputs": [
        {
          "output_type": "stream",
          "name": "stdout",
          "text": [
            "date                      0\n",
            "session_id                0\n",
            "continent                 0\n",
            "country                   0\n",
            "device                    0\n",
            "browser                   0\n",
            "mobile_model_name         0\n",
            "operating_system          0\n",
            "language             114266\n",
            "source                    0\n",
            "channel                   0\n",
            "user_id              321600\n",
            "is_verified          321600\n",
            "is_unsubscribed      321600\n",
            "category             316007\n",
            "product_name         316007\n",
            "price                316007\n",
            "short_description    316007\n",
            "dtype: int64\n"
          ]
        }
      ]
    },
    {
      "cell_type": "code",
      "source": [
        "# Базова статистика для числових колонок\n",
        "\n",
        "display(df.describe())\n",
        "print(\"\\nБазова статистика:\")"
      ],
      "metadata": {
        "colab": {
          "base_uri": "https://localhost:8080/",
          "height": 335
        },
        "id": "u39_qY3QWlNT",
        "outputId": "65c76955-6f8b-4744-d70f-e9efec448faa"
      },
      "execution_count": null,
      "outputs": [
        {
          "output_type": "display_data",
          "data": {
            "text/plain": [
              "              session_id        user_id  is_verified  is_unsubscribed  \\\n",
              "count           349545.0        27945.0      27945.0          27945.0   \n",
              "mean   4992250296.631739  659005.065557      0.71698          0.16944   \n",
              "std    2887450949.537772   13216.529465     0.450474         0.375147   \n",
              "min               1205.0       636133.0          0.0              0.0   \n",
              "25%         2493646855.0       647576.0          0.0              0.0   \n",
              "50%         4988476074.0       658952.0          1.0              0.0   \n",
              "75%         7491286508.0       670414.0          1.0              0.0   \n",
              "max         9999997129.0       681962.0          1.0              1.0   \n",
              "\n",
              "              price  \n",
              "count  33538.000000  \n",
              "mean     953.298679  \n",
              "std     1317.001775  \n",
              "min        3.000000  \n",
              "25%      170.000000  \n",
              "50%      445.000000  \n",
              "75%     1195.000000  \n",
              "max     9585.000000  "
            ],
            "text/html": [
              "\n",
              "  <div id=\"df-d0f1ef91-e198-47bc-b163-3e12899b3e00\" class=\"colab-df-container\">\n",
              "    <div>\n",
              "<style scoped>\n",
              "    .dataframe tbody tr th:only-of-type {\n",
              "        vertical-align: middle;\n",
              "    }\n",
              "\n",
              "    .dataframe tbody tr th {\n",
              "        vertical-align: top;\n",
              "    }\n",
              "\n",
              "    .dataframe thead th {\n",
              "        text-align: right;\n",
              "    }\n",
              "</style>\n",
              "<table border=\"1\" class=\"dataframe\">\n",
              "  <thead>\n",
              "    <tr style=\"text-align: right;\">\n",
              "      <th></th>\n",
              "      <th>session_id</th>\n",
              "      <th>user_id</th>\n",
              "      <th>is_verified</th>\n",
              "      <th>is_unsubscribed</th>\n",
              "      <th>price</th>\n",
              "    </tr>\n",
              "  </thead>\n",
              "  <tbody>\n",
              "    <tr>\n",
              "      <th>count</th>\n",
              "      <td>349545.0</td>\n",
              "      <td>27945.0</td>\n",
              "      <td>27945.0</td>\n",
              "      <td>27945.0</td>\n",
              "      <td>33538.000000</td>\n",
              "    </tr>\n",
              "    <tr>\n",
              "      <th>mean</th>\n",
              "      <td>4992250296.631739</td>\n",
              "      <td>659005.065557</td>\n",
              "      <td>0.71698</td>\n",
              "      <td>0.16944</td>\n",
              "      <td>953.298679</td>\n",
              "    </tr>\n",
              "    <tr>\n",
              "      <th>std</th>\n",
              "      <td>2887450949.537772</td>\n",
              "      <td>13216.529465</td>\n",
              "      <td>0.450474</td>\n",
              "      <td>0.375147</td>\n",
              "      <td>1317.001775</td>\n",
              "    </tr>\n",
              "    <tr>\n",
              "      <th>min</th>\n",
              "      <td>1205.0</td>\n",
              "      <td>636133.0</td>\n",
              "      <td>0.0</td>\n",
              "      <td>0.0</td>\n",
              "      <td>3.000000</td>\n",
              "    </tr>\n",
              "    <tr>\n",
              "      <th>25%</th>\n",
              "      <td>2493646855.0</td>\n",
              "      <td>647576.0</td>\n",
              "      <td>0.0</td>\n",
              "      <td>0.0</td>\n",
              "      <td>170.000000</td>\n",
              "    </tr>\n",
              "    <tr>\n",
              "      <th>50%</th>\n",
              "      <td>4988476074.0</td>\n",
              "      <td>658952.0</td>\n",
              "      <td>1.0</td>\n",
              "      <td>0.0</td>\n",
              "      <td>445.000000</td>\n",
              "    </tr>\n",
              "    <tr>\n",
              "      <th>75%</th>\n",
              "      <td>7491286508.0</td>\n",
              "      <td>670414.0</td>\n",
              "      <td>1.0</td>\n",
              "      <td>0.0</td>\n",
              "      <td>1195.000000</td>\n",
              "    </tr>\n",
              "    <tr>\n",
              "      <th>max</th>\n",
              "      <td>9999997129.0</td>\n",
              "      <td>681962.0</td>\n",
              "      <td>1.0</td>\n",
              "      <td>1.0</td>\n",
              "      <td>9585.000000</td>\n",
              "    </tr>\n",
              "  </tbody>\n",
              "</table>\n",
              "</div>\n",
              "    <div class=\"colab-df-buttons\">\n",
              "\n",
              "  <div class=\"colab-df-container\">\n",
              "    <button class=\"colab-df-convert\" onclick=\"convertToInteractive('df-d0f1ef91-e198-47bc-b163-3e12899b3e00')\"\n",
              "            title=\"Convert this dataframe to an interactive table.\"\n",
              "            style=\"display:none;\">\n",
              "\n",
              "  <svg xmlns=\"http://www.w3.org/2000/svg\" height=\"24px\" viewBox=\"0 -960 960 960\">\n",
              "    <path d=\"M120-120v-720h720v720H120Zm60-500h600v-160H180v160Zm220 220h160v-160H400v160Zm0 220h160v-160H400v160ZM180-400h160v-160H180v160Zm440 0h160v-160H620v160ZM180-180h160v-160H180v160Zm440 0h160v-160H620v160Z\"/>\n",
              "  </svg>\n",
              "    </button>\n",
              "\n",
              "  <style>\n",
              "    .colab-df-container {\n",
              "      display:flex;\n",
              "      gap: 12px;\n",
              "    }\n",
              "\n",
              "    .colab-df-convert {\n",
              "      background-color: #E8F0FE;\n",
              "      border: none;\n",
              "      border-radius: 50%;\n",
              "      cursor: pointer;\n",
              "      display: none;\n",
              "      fill: #1967D2;\n",
              "      height: 32px;\n",
              "      padding: 0 0 0 0;\n",
              "      width: 32px;\n",
              "    }\n",
              "\n",
              "    .colab-df-convert:hover {\n",
              "      background-color: #E2EBFA;\n",
              "      box-shadow: 0px 1px 2px rgba(60, 64, 67, 0.3), 0px 1px 3px 1px rgba(60, 64, 67, 0.15);\n",
              "      fill: #174EA6;\n",
              "    }\n",
              "\n",
              "    .colab-df-buttons div {\n",
              "      margin-bottom: 4px;\n",
              "    }\n",
              "\n",
              "    [theme=dark] .colab-df-convert {\n",
              "      background-color: #3B4455;\n",
              "      fill: #D2E3FC;\n",
              "    }\n",
              "\n",
              "    [theme=dark] .colab-df-convert:hover {\n",
              "      background-color: #434B5C;\n",
              "      box-shadow: 0px 1px 3px 1px rgba(0, 0, 0, 0.15);\n",
              "      filter: drop-shadow(0px 1px 2px rgba(0, 0, 0, 0.3));\n",
              "      fill: #FFFFFF;\n",
              "    }\n",
              "  </style>\n",
              "\n",
              "    <script>\n",
              "      const buttonEl =\n",
              "        document.querySelector('#df-d0f1ef91-e198-47bc-b163-3e12899b3e00 button.colab-df-convert');\n",
              "      buttonEl.style.display =\n",
              "        google.colab.kernel.accessAllowed ? 'block' : 'none';\n",
              "\n",
              "      async function convertToInteractive(key) {\n",
              "        const element = document.querySelector('#df-d0f1ef91-e198-47bc-b163-3e12899b3e00');\n",
              "        const dataTable =\n",
              "          await google.colab.kernel.invokeFunction('convertToInteractive',\n",
              "                                                    [key], {});\n",
              "        if (!dataTable) return;\n",
              "\n",
              "        const docLinkHtml = 'Like what you see? Visit the ' +\n",
              "          '<a target=\"_blank\" href=https://colab.research.google.com/notebooks/data_table.ipynb>data table notebook</a>'\n",
              "          + ' to learn more about interactive tables.';\n",
              "        element.innerHTML = '';\n",
              "        dataTable['output_type'] = 'display_data';\n",
              "        await google.colab.output.renderOutput(dataTable, element);\n",
              "        const docLink = document.createElement('div');\n",
              "        docLink.innerHTML = docLinkHtml;\n",
              "        element.appendChild(docLink);\n",
              "      }\n",
              "    </script>\n",
              "  </div>\n",
              "\n",
              "\n",
              "    <div id=\"df-d5f6037a-0052-425a-8879-14a76f903374\">\n",
              "      <button class=\"colab-df-quickchart\" onclick=\"quickchart('df-d5f6037a-0052-425a-8879-14a76f903374')\"\n",
              "                title=\"Suggest charts\"\n",
              "                style=\"display:none;\">\n",
              "\n",
              "<svg xmlns=\"http://www.w3.org/2000/svg\" height=\"24px\"viewBox=\"0 0 24 24\"\n",
              "     width=\"24px\">\n",
              "    <g>\n",
              "        <path d=\"M19 3H5c-1.1 0-2 .9-2 2v14c0 1.1.9 2 2 2h14c1.1 0 2-.9 2-2V5c0-1.1-.9-2-2-2zM9 17H7v-7h2v7zm4 0h-2V7h2v10zm4 0h-2v-4h2v4z\"/>\n",
              "    </g>\n",
              "</svg>\n",
              "      </button>\n",
              "\n",
              "<style>\n",
              "  .colab-df-quickchart {\n",
              "      --bg-color: #E8F0FE;\n",
              "      --fill-color: #1967D2;\n",
              "      --hover-bg-color: #E2EBFA;\n",
              "      --hover-fill-color: #174EA6;\n",
              "      --disabled-fill-color: #AAA;\n",
              "      --disabled-bg-color: #DDD;\n",
              "  }\n",
              "\n",
              "  [theme=dark] .colab-df-quickchart {\n",
              "      --bg-color: #3B4455;\n",
              "      --fill-color: #D2E3FC;\n",
              "      --hover-bg-color: #434B5C;\n",
              "      --hover-fill-color: #FFFFFF;\n",
              "      --disabled-bg-color: #3B4455;\n",
              "      --disabled-fill-color: #666;\n",
              "  }\n",
              "\n",
              "  .colab-df-quickchart {\n",
              "    background-color: var(--bg-color);\n",
              "    border: none;\n",
              "    border-radius: 50%;\n",
              "    cursor: pointer;\n",
              "    display: none;\n",
              "    fill: var(--fill-color);\n",
              "    height: 32px;\n",
              "    padding: 0;\n",
              "    width: 32px;\n",
              "  }\n",
              "\n",
              "  .colab-df-quickchart:hover {\n",
              "    background-color: var(--hover-bg-color);\n",
              "    box-shadow: 0 1px 2px rgba(60, 64, 67, 0.3), 0 1px 3px 1px rgba(60, 64, 67, 0.15);\n",
              "    fill: var(--button-hover-fill-color);\n",
              "  }\n",
              "\n",
              "  .colab-df-quickchart-complete:disabled,\n",
              "  .colab-df-quickchart-complete:disabled:hover {\n",
              "    background-color: var(--disabled-bg-color);\n",
              "    fill: var(--disabled-fill-color);\n",
              "    box-shadow: none;\n",
              "  }\n",
              "\n",
              "  .colab-df-spinner {\n",
              "    border: 2px solid var(--fill-color);\n",
              "    border-color: transparent;\n",
              "    border-bottom-color: var(--fill-color);\n",
              "    animation:\n",
              "      spin 1s steps(1) infinite;\n",
              "  }\n",
              "\n",
              "  @keyframes spin {\n",
              "    0% {\n",
              "      border-color: transparent;\n",
              "      border-bottom-color: var(--fill-color);\n",
              "      border-left-color: var(--fill-color);\n",
              "    }\n",
              "    20% {\n",
              "      border-color: transparent;\n",
              "      border-left-color: var(--fill-color);\n",
              "      border-top-color: var(--fill-color);\n",
              "    }\n",
              "    30% {\n",
              "      border-color: transparent;\n",
              "      border-left-color: var(--fill-color);\n",
              "      border-top-color: var(--fill-color);\n",
              "      border-right-color: var(--fill-color);\n",
              "    }\n",
              "    40% {\n",
              "      border-color: transparent;\n",
              "      border-right-color: var(--fill-color);\n",
              "      border-top-color: var(--fill-color);\n",
              "    }\n",
              "    60% {\n",
              "      border-color: transparent;\n",
              "      border-right-color: var(--fill-color);\n",
              "    }\n",
              "    80% {\n",
              "      border-color: transparent;\n",
              "      border-right-color: var(--fill-color);\n",
              "      border-bottom-color: var(--fill-color);\n",
              "    }\n",
              "    90% {\n",
              "      border-color: transparent;\n",
              "      border-bottom-color: var(--fill-color);\n",
              "    }\n",
              "  }\n",
              "</style>\n",
              "\n",
              "      <script>\n",
              "        async function quickchart(key) {\n",
              "          const quickchartButtonEl =\n",
              "            document.querySelector('#' + key + ' button');\n",
              "          quickchartButtonEl.disabled = true;  // To prevent multiple clicks.\n",
              "          quickchartButtonEl.classList.add('colab-df-spinner');\n",
              "          try {\n",
              "            const charts = await google.colab.kernel.invokeFunction(\n",
              "                'suggestCharts', [key], {});\n",
              "          } catch (error) {\n",
              "            console.error('Error during call to suggestCharts:', error);\n",
              "          }\n",
              "          quickchartButtonEl.classList.remove('colab-df-spinner');\n",
              "          quickchartButtonEl.classList.add('colab-df-quickchart-complete');\n",
              "        }\n",
              "        (() => {\n",
              "          let quickchartButtonEl =\n",
              "            document.querySelector('#df-d5f6037a-0052-425a-8879-14a76f903374 button');\n",
              "          quickchartButtonEl.style.display =\n",
              "            google.colab.kernel.accessAllowed ? 'block' : 'none';\n",
              "        })();\n",
              "      </script>\n",
              "    </div>\n",
              "    </div>\n",
              "  </div>\n"
            ],
            "application/vnd.google.colaboratory.intrinsic+json": {
              "type": "dataframe",
              "summary": "{\n  \"name\": \"print(\\\"\\\\n\\u0411\\u0430\\u0437\\u043e\\u0432\\u0430 \\u0441\\u0442\\u0430\\u0442\\u0438\\u0441\\u0442\\u0438\\u043a\\u0430:\\\")\",\n  \"rows\": 8,\n  \"fields\": [\n    {\n      \"column\": \"session_id\",\n      \"properties\": {\n        \"dtype\": \"Float64\",\n        \"num_unique_values\": 8,\n        \"samples\": [\n          4992250296.631739,\n          4988476074.0,\n          349545.0\n        ],\n        \"semantic_type\": \"\",\n        \"description\": \"\"\n      }\n    },\n    {\n      \"column\": \"user_id\",\n      \"properties\": {\n        \"dtype\": \"Float64\",\n        \"num_unique_values\": 8,\n        \"samples\": [\n          659005.0655573448,\n          658952.0,\n          27945.0\n        ],\n        \"semantic_type\": \"\",\n        \"description\": \"\"\n      }\n    },\n    {\n      \"column\": \"is_verified\",\n      \"properties\": {\n        \"dtype\": \"Float64\",\n        \"num_unique_values\": 5,\n        \"samples\": [\n          0.7169797817140813,\n          1.0,\n          0.4504742345411974\n        ],\n        \"semantic_type\": \"\",\n        \"description\": \"\"\n      }\n    },\n    {\n      \"column\": \"is_unsubscribed\",\n      \"properties\": {\n        \"dtype\": \"Float64\",\n        \"num_unique_values\": 5,\n        \"samples\": [\n          0.16943997137233852,\n          1.0,\n          0.37514677610216823\n        ],\n        \"semantic_type\": \"\",\n        \"description\": \"\"\n      }\n    },\n    {\n      \"column\": \"price\",\n      \"properties\": {\n        \"dtype\": \"number\",\n        \"std\": 11603.03870131893,\n        \"min\": 3.0,\n        \"max\": 33538.0,\n        \"num_unique_values\": 8,\n        \"samples\": [\n          953.2986791102632,\n          445.0,\n          33538.0\n        ],\n        \"semantic_type\": \"\",\n        \"description\": \"\"\n      }\n    }\n  ]\n}"
            }
          },
          "metadata": {}
        },
        {
          "output_type": "stream",
          "name": "stdout",
          "text": [
            "\n",
            "Базова статистика:\n"
          ]
        }
      ]
    },
    {
      "cell_type": "code",
      "source": [
        "# Перетворюємо колонку 'date' на datetime64 у вихідному DataFrame\n",
        "df['date'] = pd.to_datetime(df['date'])"
      ],
      "metadata": {
        "id": "YKRtBMoNcB3o"
      },
      "execution_count": null,
      "outputs": []
    },
    {
      "cell_type": "code",
      "source": [
        "# Обробка пропущених значень\n",
        "df.fillna({\n",
        "    'language': 'Unknown',\n",
        "    'category': 'No Purchase',\n",
        "    'product_name': 'No Purchase',\n",
        "    'short_description': 'No Description'\n",
        "}, inplace=True)"
      ],
      "metadata": {
        "id": "9MrUG8l6dngZ"
      },
      "execution_count": null,
      "outputs": []
    },
    {
      "cell_type": "code",
      "source": [
        "# Унікальні значення в ключових колонках\n",
        "print(\"Унікальні континенти:\", df['continent'].unique())\n",
        "print(\"Унікальні джерела:\", df['source'].unique())\n",
        "print(\"Браузери  які відвідувачі використовують для вхочу на сай:\", df['browser'].unique())\n",
        "\n",
        "# Загальна інформація\n",
        "total_sessions = len(df)\n",
        "df['is_purchase'] = df['product_name'] != 'No Purchase'\n",
        "total_purchases = df['is_purchase'].sum()\n",
        "conversion_rate = (total_purchases / total_sessions) * 100\n",
        "total_revenue = (df['price'] * df['is_purchase']).sum()\n",
        "purchases = df[df['is_purchase'] == True]\n",
        "average_check = purchases['price'].mean()\n",
        "\n",
        "print(f\"Середній чек: {average_check:.2f}\")\n",
        "print(f\"Загальний дохід: {total_revenue:.2f}\")\n",
        "print(f\"Загальна кількість сесій: {total_sessions}\")\n",
        "print(f\"Кількість покупок: {total_purchases}\")\n",
        "print(f\"Конверсія: {conversion_rate:.2f}%\")"
      ],
      "metadata": {
        "colab": {
          "base_uri": "https://localhost:8080/"
        },
        "id": "H_NrDUw5c18R",
        "outputId": "575905f0-279d-4a2e-f0e4-6f3de7c7adff"
      },
      "execution_count": null,
      "outputs": [
        {
          "output_type": "stream",
          "name": "stdout",
          "text": [
            "Унікальні континенти: ['Americas' 'Europe' 'Africa' 'Asia' 'Oceania' '(not set)']\n",
            "Унікальні джерела: ['<Other>' 'organic' '(none)' '(data deleted)' 'referral' 'cpc']\n",
            "Браузери  які відвідувачі використовують для вхочу на сай: ['Chrome' 'Safari' 'Android Webview' '<Other>' 'Edge' 'Firefox']\n",
            "Середній чек: 953.30\n",
            "Загальний дохід: 31971731.10\n",
            "Загальна кількість сесій: 349545\n",
            "Кількість покупок: 33538\n",
            "Конверсія: 9.59%\n"
          ]
        }
      ]
    },
    {
      "cell_type": "code",
      "source": [
        "# додаємо колонку місяць\n",
        "df['month'] = df['date'].dt.month\n",
        "\n",
        "#Період який охоплює датасет\n",
        "start_date =df['date'].min()\n",
        "print(start_date)\n",
        "end_date = df['date'].max()\n",
        "print(end_date)"
      ],
      "metadata": {
        "colab": {
          "base_uri": "https://localhost:8080/"
        },
        "id": "7vvbEEMIeHpq",
        "outputId": "8a43a6a2-c300-4f03-ec8d-12394b803b90"
      },
      "execution_count": null,
      "outputs": [
        {
          "output_type": "stream",
          "name": "stdout",
          "text": [
            "2020-11-01 00:00:00\n",
            "2021-01-31 00:00:00\n"
          ]
        }
      ]
    },
    {
      "cell_type": "code",
      "source": [
        "df.info()"
      ],
      "metadata": {
        "colab": {
          "base_uri": "https://localhost:8080/"
        },
        "id": "KrmlILoxy95l",
        "outputId": "d7147df3-bb9a-4113-a4b3-32d01859fa18"
      },
      "execution_count": null,
      "outputs": [
        {
          "output_type": "stream",
          "name": "stdout",
          "text": [
            "<class 'pandas.core.frame.DataFrame'>\n",
            "RangeIndex: 349545 entries, 0 to 349544\n",
            "Data columns (total 20 columns):\n",
            " #   Column             Non-Null Count   Dtype         \n",
            "---  ------             --------------   -----         \n",
            " 0   date               349545 non-null  datetime64[ns]\n",
            " 1   session_id         349545 non-null  Int64         \n",
            " 2   continent          349545 non-null  object        \n",
            " 3   country            349545 non-null  object        \n",
            " 4   device             349545 non-null  object        \n",
            " 5   browser            349545 non-null  object        \n",
            " 6   mobile_model_name  349545 non-null  object        \n",
            " 7   operating_system   349545 non-null  object        \n",
            " 8   language           349545 non-null  object        \n",
            " 9   source             349545 non-null  object        \n",
            " 10  channel            349545 non-null  object        \n",
            " 11  user_id            27945 non-null   Int64         \n",
            " 12  is_verified        27945 non-null   Int64         \n",
            " 13  is_unsubscribed    27945 non-null   Int64         \n",
            " 14  category           349545 non-null  object        \n",
            " 15  product_name       349545 non-null  object        \n",
            " 16  price              33538 non-null   float64       \n",
            " 17  short_description  349545 non-null  object        \n",
            " 18  is_purchase        349545 non-null  bool          \n",
            " 19  month              349545 non-null  int32         \n",
            "dtypes: Int64(4), bool(1), datetime64[ns](1), float64(1), int32(1), object(12)\n",
            "memory usage: 51.0+ MB\n"
          ]
        }
      ]
    },
    {
      "cell_type": "markdown",
      "source": [
        "# Аналіз отриманих даних\n",
        "\n",
        "1. **Загальна кількість колонок:** 18  \n",
        "\n",
        "2. **Кількість колонок числового типу:** 5  \n",
        "   (`session_id`, `user_id`, `is_verified`, `is_unsubscribed`, `price`)  \n",
        "\n",
        "3. **Кількість колонок категоріального типу:** 12  \n",
        "   (`continent`, `country`, `device`, `browser`, `mobile_model_name`, `operating_system`, `language`, `source`, `channel`, `category`, `product_name`, `short_description`)  \n",
        "\n",
        "4. **Кількість колонок типу datetime:** 1 (`date`)  \n",
        "\n",
        "5. **Унікальні континенти:** `['Americas', 'Europe', 'Africa', 'Asia', 'Oceania', '(not set)']`  \n",
        "\n",
        "6. **Унікальні джерела:** `['<Other>', 'organic', '(none)', '(data deleted)', 'referral', 'cpc']`  \n",
        "\n",
        "7. **Кількість унікальних сесій:** 349 545  \n",
        "\n",
        "8. **Загальна кількість сесій:** 349 545  \n",
        "\n",
        "9. **Кількість покупок:** 33 538  \n",
        "\n",
        "10. **Конверсія:** 9.59%  *(Відсоток сесій, у яких відбулася покупка продукту)\n",
        "\n",
        "11. **Період часу, що розглядається:** з 2020-11-01 по 2021-01-31  \n",
        "\n",
        "12. **Пропущені значення:** 7 колонок  \n",
        "    (`language`, `user_id`, `is_verified`, `is_unsubscribed`, `category`, `product_name`, `price`, `short_description`)  \n",
        "\n",
        "13. **Причини пропусків:**  \n",
        "   - **Користувачі:** (`user_id`, `is_verified`, `is_unsubscribed`) — пропуски через те, що не всі сесії належать зареєстрованим користувачам.  \n",
        "   - **Товари:** (`category`, `product_name`, `price`, `short_description`) — пропуски через відсутність перегляду або покупки продукту в сесії.  \n",
        "   - **Мова:** (`language`) — пропуски через відсутність передачі мови браузером.\n",
        "\n",
        "\n",
        "14.  **Загальний дохід :** **31971731.10**\n",
        "\n",
        "\n"
      ],
      "metadata": {
        "id": "F2fcINfumxqp"
      }
    },
    {
      "cell_type": "markdown",
      "source": [
        "## Обробка пропусків у даних\n",
        "\n",
        "Ми **не видаляємо** рядки з пропущеними значеннями, оскільки це призвело б до значної втрати даних:\n",
        "\n",
        "- `user_id`, `is_verified`, `is_unsubscribed` — відсутні у **321 600** рядках .\n",
        "- `category`, `product_name`, `price`, `short_description` — відсутні у **316 007** .\n",
        "- `language` — відсутня у **114 266** рядках .\n",
        "\n",
        "- Видалення означало б втрату понад **90% датасету**, що зробить результати нерепрезентативними.\n",
        "- Пропуски є **структурними**, а не випадковими:\n",
        "  - `user_id` та пов’язані поля → відсутні для анонімних користувачів.\n",
        "  - `category`, `product_name`, `price`, `short_description` → відсутні для сесій без товарної взаємодії.\n",
        "  - `language` → відсутня, якщо браузер не передав мову."
      ],
      "metadata": {
        "id": "8QdswxgOm7lh"
      }
    },
    {
      "cell_type": "markdown",
      "source": [
        "#**Візуалізація даних**\n",
        "\n",
        "\n",
        "\n",
        "1.   Топ 10 країн за кількістю сесій\n",
        "2.   Топ 10 країн за обсягщм продажів у грошовому вираженні\n",
        "3.   Розподіл за континентам по кількісті  сесій та обсягам продажів у грошовому вираженні\n",
        "4.   Тренд сесій та обсягам продажів у грошовому вираженні за датами\n",
        "5.   Аналіз за категоріями товарів\n",
        "6.   Продажі у грошовому вираженні серед підписаних та не підписаних користувачів\n",
        "7.   Сума доходу за каналом для покупок\n",
        "8.   Сума доходу за джерелом для покупок\n",
        "9.   Сума доходу за операційною системою для покупок\n",
        "10.  Сума доходу за браузером для покупок\n",
        "11.   Сума доходу за пристроєм для покупок\n",
        "\n",
        "\n",
        "\n",
        "\n",
        "\n"
      ],
      "metadata": {
        "id": "Er0_bfurugii"
      }
    },
    {
      "cell_type": "code",
      "source": [
        "# 1/2 Обчислюємо топ-10 країн за кількістю сесій та обсягам продажів у грошовому вираженні\n",
        "top_countries = df['country'].value_counts().head(10).index\n",
        "country_stats = df.groupby('country').agg({\n",
        "    'session_id': 'count',\n",
        "    'is_purchase': 'sum',\n",
        "    'price': lambda x: (x * df.loc[x.index, 'is_purchase']).sum()\n",
        "}).rename(columns={'session_id': 'sessions', 'is_purchase': 'purchases', 'price': 'revenue'})\n",
        "\n",
        "country_stats = country_stats.loc[top_countries]\n",
        "\n",
        "fig = make_subplots(rows=1, cols=2, subplot_titles=(\"Топ 10 країн за кількістю сесій\", \"Топ 10 країн за обсягщм продажів у грошовому вираженні\"))\n",
        "\n",
        "# сесії\n",
        "fig.add_trace(\n",
        "    go.Bar(x=country_stats.index, y=country_stats['sessions'], name=\"Сесії\", marker_color='teal'),\n",
        "    row=1, col=1\n",
        ")\n",
        "\n",
        "# ревеню\n",
        "fig.add_trace(\n",
        "    go.Bar(x=country_stats.index, y=country_stats['revenue'], name=\"Дохід\", marker_color='#00b3b3'),\n",
        "    row=1, col=2\n",
        ")\n",
        "\n",
        "fig.update_layout(\n",
        "    showlegend=True,\n",
        "    height=500,\n",
        "    width=1000\n",
        ")\n",
        "fig.update_xaxes(title_text=\"Країна\", tickangle=45, row=1, col=1)\n",
        "fig.update_xaxes(title_text=\"Країна\", tickangle=45, row=1, col=2)\n",
        "fig.update_yaxes(title_text=\"Кількість сесій\", row=1, col=1)\n",
        "fig.update_yaxes(title_text=\"Дохід\", row=1, col=2)\n",
        "fig.show()"
      ],
      "metadata": {
        "colab": {
          "base_uri": "https://localhost:8080/",
          "height": 517
        },
        "id": "EbKQ4rfa23Ms",
        "outputId": "5724319b-b940-4a10-bc18-1f095fd2bb29"
      },
      "execution_count": null,
      "outputs": [
        {
          "output_type": "display_data",
          "data": {
            "text/html": [
              "<html>\n",
              "<head><meta charset=\"utf-8\" /></head>\n",
              "<body>\n",
              "    <div>            <script src=\"https://cdnjs.cloudflare.com/ajax/libs/mathjax/2.7.5/MathJax.js?config=TeX-AMS-MML_SVG\"></script><script type=\"text/javascript\">if (window.MathJax && window.MathJax.Hub && window.MathJax.Hub.Config) {window.MathJax.Hub.Config({SVG: {font: \"STIX-Web\"}});}</script>                <script type=\"text/javascript\">window.PlotlyConfig = {MathJaxConfig: 'local'};</script>\n",
              "        <script charset=\"utf-8\" src=\"https://cdn.plot.ly/plotly-2.35.2.min.js\"></script>                <div id=\"17b40d9d-71c4-41cd-a2db-36b83ef1ce99\" class=\"plotly-graph-div\" style=\"height:500px; width:1000px;\"></div>            <script type=\"text/javascript\">                                    window.PLOTLYENV=window.PLOTLYENV || {};                                    if (document.getElementById(\"17b40d9d-71c4-41cd-a2db-36b83ef1ce99\")) {                    Plotly.newPlot(                        \"17b40d9d-71c4-41cd-a2db-36b83ef1ce99\",                        [{\"marker\":{\"color\":\"teal\"},\"name\":\"Сесії\",\"x\":[\"United States\",\"India\",\"Canada\",\"United Kingdom\",\"France\",\"Spain\",\"Germany\",\"China\",\"Taiwan\",\"Italy\"],\"y\":[153470,32763,25994,11003,6958,6505,6196,6066,5879,4859],\"type\":\"bar\",\"xaxis\":\"x\",\"yaxis\":\"y\"},{\"marker\":{\"color\":\"#00b3b3\"},\"name\":\"Дохід\",\"x\":[\"United States\",\"India\",\"Canada\",\"United Kingdom\",\"France\",\"Spain\",\"Germany\",\"China\",\"Taiwan\",\"Italy\"],\"y\":[13943553.9,2809762.0,2437921.0,938317.9,710692.8,631546.7000000001,599221.3999999999,588329.6,552710.3,396242.1],\"type\":\"bar\",\"xaxis\":\"x2\",\"yaxis\":\"y2\"}],                        {\"template\":{\"data\":{\"histogram2dcontour\":[{\"type\":\"histogram2dcontour\",\"colorbar\":{\"outlinewidth\":0,\"ticks\":\"\"},\"colorscale\":[[0.0,\"#0d0887\"],[0.1111111111111111,\"#46039f\"],[0.2222222222222222,\"#7201a8\"],[0.3333333333333333,\"#9c179e\"],[0.4444444444444444,\"#bd3786\"],[0.5555555555555556,\"#d8576b\"],[0.6666666666666666,\"#ed7953\"],[0.7777777777777778,\"#fb9f3a\"],[0.8888888888888888,\"#fdca26\"],[1.0,\"#f0f921\"]]}],\"choropleth\":[{\"type\":\"choropleth\",\"colorbar\":{\"outlinewidth\":0,\"ticks\":\"\"}}],\"histogram2d\":[{\"type\":\"histogram2d\",\"colorbar\":{\"outlinewidth\":0,\"ticks\":\"\"},\"colorscale\":[[0.0,\"#0d0887\"],[0.1111111111111111,\"#46039f\"],[0.2222222222222222,\"#7201a8\"],[0.3333333333333333,\"#9c179e\"],[0.4444444444444444,\"#bd3786\"],[0.5555555555555556,\"#d8576b\"],[0.6666666666666666,\"#ed7953\"],[0.7777777777777778,\"#fb9f3a\"],[0.8888888888888888,\"#fdca26\"],[1.0,\"#f0f921\"]]}],\"heatmap\":[{\"type\":\"heatmap\",\"colorbar\":{\"outlinewidth\":0,\"ticks\":\"\"},\"colorscale\":[[0.0,\"#0d0887\"],[0.1111111111111111,\"#46039f\"],[0.2222222222222222,\"#7201a8\"],[0.3333333333333333,\"#9c179e\"],[0.4444444444444444,\"#bd3786\"],[0.5555555555555556,\"#d8576b\"],[0.6666666666666666,\"#ed7953\"],[0.7777777777777778,\"#fb9f3a\"],[0.8888888888888888,\"#fdca26\"],[1.0,\"#f0f921\"]]}],\"heatmapgl\":[{\"type\":\"heatmapgl\",\"colorbar\":{\"outlinewidth\":0,\"ticks\":\"\"},\"colorscale\":[[0.0,\"#0d0887\"],[0.1111111111111111,\"#46039f\"],[0.2222222222222222,\"#7201a8\"],[0.3333333333333333,\"#9c179e\"],[0.4444444444444444,\"#bd3786\"],[0.5555555555555556,\"#d8576b\"],[0.6666666666666666,\"#ed7953\"],[0.7777777777777778,\"#fb9f3a\"],[0.8888888888888888,\"#fdca26\"],[1.0,\"#f0f921\"]]}],\"contourcarpet\":[{\"type\":\"contourcarpet\",\"colorbar\":{\"outlinewidth\":0,\"ticks\":\"\"}}],\"contour\":[{\"type\":\"contour\",\"colorbar\":{\"outlinewidth\":0,\"ticks\":\"\"},\"colorscale\":[[0.0,\"#0d0887\"],[0.1111111111111111,\"#46039f\"],[0.2222222222222222,\"#7201a8\"],[0.3333333333333333,\"#9c179e\"],[0.4444444444444444,\"#bd3786\"],[0.5555555555555556,\"#d8576b\"],[0.6666666666666666,\"#ed7953\"],[0.7777777777777778,\"#fb9f3a\"],[0.8888888888888888,\"#fdca26\"],[1.0,\"#f0f921\"]]}],\"surface\":[{\"type\":\"surface\",\"colorbar\":{\"outlinewidth\":0,\"ticks\":\"\"},\"colorscale\":[[0.0,\"#0d0887\"],[0.1111111111111111,\"#46039f\"],[0.2222222222222222,\"#7201a8\"],[0.3333333333333333,\"#9c179e\"],[0.4444444444444444,\"#bd3786\"],[0.5555555555555556,\"#d8576b\"],[0.6666666666666666,\"#ed7953\"],[0.7777777777777778,\"#fb9f3a\"],[0.8888888888888888,\"#fdca26\"],[1.0,\"#f0f921\"]]}],\"mesh3d\":[{\"type\":\"mesh3d\",\"colorbar\":{\"outlinewidth\":0,\"ticks\":\"\"}}],\"scatter\":[{\"fillpattern\":{\"fillmode\":\"overlay\",\"size\":10,\"solidity\":0.2},\"type\":\"scatter\"}],\"parcoords\":[{\"type\":\"parcoords\",\"line\":{\"colorbar\":{\"outlinewidth\":0,\"ticks\":\"\"}}}],\"scatterpolargl\":[{\"type\":\"scatterpolargl\",\"marker\":{\"colorbar\":{\"outlinewidth\":0,\"ticks\":\"\"}}}],\"bar\":[{\"error_x\":{\"color\":\"#2a3f5f\"},\"error_y\":{\"color\":\"#2a3f5f\"},\"marker\":{\"line\":{\"color\":\"#E5ECF6\",\"width\":0.5},\"pattern\":{\"fillmode\":\"overlay\",\"size\":10,\"solidity\":0.2}},\"type\":\"bar\"}],\"scattergeo\":[{\"type\":\"scattergeo\",\"marker\":{\"colorbar\":{\"outlinewidth\":0,\"ticks\":\"\"}}}],\"scatterpolar\":[{\"type\":\"scatterpolar\",\"marker\":{\"colorbar\":{\"outlinewidth\":0,\"ticks\":\"\"}}}],\"histogram\":[{\"marker\":{\"pattern\":{\"fillmode\":\"overlay\",\"size\":10,\"solidity\":0.2}},\"type\":\"histogram\"}],\"scattergl\":[{\"type\":\"scattergl\",\"marker\":{\"colorbar\":{\"outlinewidth\":0,\"ticks\":\"\"}}}],\"scatter3d\":[{\"type\":\"scatter3d\",\"line\":{\"colorbar\":{\"outlinewidth\":0,\"ticks\":\"\"}},\"marker\":{\"colorbar\":{\"outlinewidth\":0,\"ticks\":\"\"}}}],\"scattermapbox\":[{\"type\":\"scattermapbox\",\"marker\":{\"colorbar\":{\"outlinewidth\":0,\"ticks\":\"\"}}}],\"scatterternary\":[{\"type\":\"scatterternary\",\"marker\":{\"colorbar\":{\"outlinewidth\":0,\"ticks\":\"\"}}}],\"scattercarpet\":[{\"type\":\"scattercarpet\",\"marker\":{\"colorbar\":{\"outlinewidth\":0,\"ticks\":\"\"}}}],\"carpet\":[{\"aaxis\":{\"endlinecolor\":\"#2a3f5f\",\"gridcolor\":\"white\",\"linecolor\":\"white\",\"minorgridcolor\":\"white\",\"startlinecolor\":\"#2a3f5f\"},\"baxis\":{\"endlinecolor\":\"#2a3f5f\",\"gridcolor\":\"white\",\"linecolor\":\"white\",\"minorgridcolor\":\"white\",\"startlinecolor\":\"#2a3f5f\"},\"type\":\"carpet\"}],\"table\":[{\"cells\":{\"fill\":{\"color\":\"#EBF0F8\"},\"line\":{\"color\":\"white\"}},\"header\":{\"fill\":{\"color\":\"#C8D4E3\"},\"line\":{\"color\":\"white\"}},\"type\":\"table\"}],\"barpolar\":[{\"marker\":{\"line\":{\"color\":\"#E5ECF6\",\"width\":0.5},\"pattern\":{\"fillmode\":\"overlay\",\"size\":10,\"solidity\":0.2}},\"type\":\"barpolar\"}],\"pie\":[{\"automargin\":true,\"type\":\"pie\"}]},\"layout\":{\"autotypenumbers\":\"strict\",\"colorway\":[\"#636efa\",\"#EF553B\",\"#00cc96\",\"#ab63fa\",\"#FFA15A\",\"#19d3f3\",\"#FF6692\",\"#B6E880\",\"#FF97FF\",\"#FECB52\"],\"font\":{\"color\":\"#2a3f5f\"},\"hovermode\":\"closest\",\"hoverlabel\":{\"align\":\"left\"},\"paper_bgcolor\":\"white\",\"plot_bgcolor\":\"#E5ECF6\",\"polar\":{\"bgcolor\":\"#E5ECF6\",\"angularaxis\":{\"gridcolor\":\"white\",\"linecolor\":\"white\",\"ticks\":\"\"},\"radialaxis\":{\"gridcolor\":\"white\",\"linecolor\":\"white\",\"ticks\":\"\"}},\"ternary\":{\"bgcolor\":\"#E5ECF6\",\"aaxis\":{\"gridcolor\":\"white\",\"linecolor\":\"white\",\"ticks\":\"\"},\"baxis\":{\"gridcolor\":\"white\",\"linecolor\":\"white\",\"ticks\":\"\"},\"caxis\":{\"gridcolor\":\"white\",\"linecolor\":\"white\",\"ticks\":\"\"}},\"coloraxis\":{\"colorbar\":{\"outlinewidth\":0,\"ticks\":\"\"}},\"colorscale\":{\"sequential\":[[0.0,\"#0d0887\"],[0.1111111111111111,\"#46039f\"],[0.2222222222222222,\"#7201a8\"],[0.3333333333333333,\"#9c179e\"],[0.4444444444444444,\"#bd3786\"],[0.5555555555555556,\"#d8576b\"],[0.6666666666666666,\"#ed7953\"],[0.7777777777777778,\"#fb9f3a\"],[0.8888888888888888,\"#fdca26\"],[1.0,\"#f0f921\"]],\"sequentialminus\":[[0.0,\"#0d0887\"],[0.1111111111111111,\"#46039f\"],[0.2222222222222222,\"#7201a8\"],[0.3333333333333333,\"#9c179e\"],[0.4444444444444444,\"#bd3786\"],[0.5555555555555556,\"#d8576b\"],[0.6666666666666666,\"#ed7953\"],[0.7777777777777778,\"#fb9f3a\"],[0.8888888888888888,\"#fdca26\"],[1.0,\"#f0f921\"]],\"diverging\":[[0,\"#8e0152\"],[0.1,\"#c51b7d\"],[0.2,\"#de77ae\"],[0.3,\"#f1b6da\"],[0.4,\"#fde0ef\"],[0.5,\"#f7f7f7\"],[0.6,\"#e6f5d0\"],[0.7,\"#b8e186\"],[0.8,\"#7fbc41\"],[0.9,\"#4d9221\"],[1,\"#276419\"]]},\"xaxis\":{\"gridcolor\":\"white\",\"linecolor\":\"white\",\"ticks\":\"\",\"title\":{\"standoff\":15},\"zerolinecolor\":\"white\",\"automargin\":true,\"zerolinewidth\":2},\"yaxis\":{\"gridcolor\":\"white\",\"linecolor\":\"white\",\"ticks\":\"\",\"title\":{\"standoff\":15},\"zerolinecolor\":\"white\",\"automargin\":true,\"zerolinewidth\":2},\"scene\":{\"xaxis\":{\"backgroundcolor\":\"#E5ECF6\",\"gridcolor\":\"white\",\"linecolor\":\"white\",\"showbackground\":true,\"ticks\":\"\",\"zerolinecolor\":\"white\",\"gridwidth\":2},\"yaxis\":{\"backgroundcolor\":\"#E5ECF6\",\"gridcolor\":\"white\",\"linecolor\":\"white\",\"showbackground\":true,\"ticks\":\"\",\"zerolinecolor\":\"white\",\"gridwidth\":2},\"zaxis\":{\"backgroundcolor\":\"#E5ECF6\",\"gridcolor\":\"white\",\"linecolor\":\"white\",\"showbackground\":true,\"ticks\":\"\",\"zerolinecolor\":\"white\",\"gridwidth\":2}},\"shapedefaults\":{\"line\":{\"color\":\"#2a3f5f\"}},\"annotationdefaults\":{\"arrowcolor\":\"#2a3f5f\",\"arrowhead\":0,\"arrowwidth\":1},\"geo\":{\"bgcolor\":\"white\",\"landcolor\":\"#E5ECF6\",\"subunitcolor\":\"white\",\"showland\":true,\"showlakes\":true,\"lakecolor\":\"white\"},\"title\":{\"x\":0.05},\"mapbox\":{\"style\":\"light\"}}},\"xaxis\":{\"anchor\":\"y\",\"domain\":[0.0,0.45],\"title\":{\"text\":\"Країна\"},\"tickangle\":45},\"yaxis\":{\"anchor\":\"x\",\"domain\":[0.0,1.0],\"title\":{\"text\":\"Кількість сесій\"}},\"xaxis2\":{\"anchor\":\"y2\",\"domain\":[0.55,1.0],\"title\":{\"text\":\"Країна\"},\"tickangle\":45},\"yaxis2\":{\"anchor\":\"x2\",\"domain\":[0.0,1.0],\"title\":{\"text\":\"Дохід\"}},\"annotations\":[{\"font\":{\"size\":16},\"showarrow\":false,\"text\":\"Топ 10 країн за кількістю сесій\",\"x\":0.225,\"xanchor\":\"center\",\"xref\":\"paper\",\"y\":1.0,\"yanchor\":\"bottom\",\"yref\":\"paper\"},{\"font\":{\"size\":16},\"showarrow\":false,\"text\":\"Топ 10 країн за обсягщм продажів у грошовому вираженні\",\"x\":0.775,\"xanchor\":\"center\",\"xref\":\"paper\",\"y\":1.0,\"yanchor\":\"bottom\",\"yref\":\"paper\"}],\"showlegend\":true,\"height\":500,\"width\":1000},                        {\"responsive\": true}                    ).then(function(){\n",
              "                            \n",
              "var gd = document.getElementById('17b40d9d-71c4-41cd-a2db-36b83ef1ce99');\n",
              "var x = new MutationObserver(function (mutations, observer) {{\n",
              "        var display = window.getComputedStyle(gd).display;\n",
              "        if (!display || display === 'none') {{\n",
              "            console.log([gd, 'removed!']);\n",
              "            Plotly.purge(gd);\n",
              "            observer.disconnect();\n",
              "        }}\n",
              "}});\n",
              "\n",
              "// Listen for the removal of the full notebook cells\n",
              "var notebookContainer = gd.closest('#notebook-container');\n",
              "if (notebookContainer) {{\n",
              "    x.observe(notebookContainer, {childList: true});\n",
              "}}\n",
              "\n",
              "// Listen for the clearing of the current output cell\n",
              "var outputEl = gd.closest('.output');\n",
              "if (outputEl) {{\n",
              "    x.observe(outputEl, {childList: true});\n",
              "}}\n",
              "\n",
              "                        })                };                            </script>        </div>\n",
              "</body>\n",
              "</html>"
            ]
          },
          "metadata": {}
        }
      ]
    },
    {
      "cell_type": "markdown",
      "source": [
        "### Топ-10 країн за кількістю сесій\n",
        "У десятку лідерів входять:\n",
        "- **США** — 153 047k  \n",
        "- **Індія** — 32 763k  \n",
        "- **Канада** — 25 994k  \n",
        "- **Об’єднане Королівство Великої Британії** — 11 003k  \n",
        "- **Франція** — 6 958k  \n",
        "- **Іспанія** — 6 505k  \n",
        "- **Німеччина** — 6 196k  \n",
        "- **Китай** — 6 066k  \n",
        "- **Тайвань** — 5 879k  \n",
        "- **Італія** — 4 859k  \n",
        "\n",
        "\n",
        "### Топ-10 країн за обсягами продажів (у грошовому вираженні)\n",
        "У десятку лідерів входять:\n",
        "- **США** — 13 94 355  \n",
        "- **Індія** — 2 809 762  \n",
        "- **Канада** — 2 437 921  \n",
        "- **Об’єднане Королівство Великої Британії** — 938 317 9  \n",
        "- **Франція** — 710 692 8  \n",
        "- **Іспанія** — 631 546 7  \n",
        "- **Німеччина** — 599 221 4  \n",
        "- **Китай** — 588 329 6  \n",
        "- **Тайвань** — 552 710 3  \n",
        "- **Італія** — 369 242 1  \n",
        "\n",
        "### Висновки\n",
        "- **США та Індія** — найбільші ринки за кількістю сесій та обсягами продажів, що свідчить про їхню високу активність.  \n",
        "\n"
      ],
      "metadata": {
        "id": "T1pL090dr3Jd"
      }
    },
    {
      "cell_type": "code",
      "source": [
        "#3 Розподіл за континентам по кількісті  сесій та обсягам продажів у грошовому вираженні\n",
        "sessions_by_continent = df.groupby('continent').agg({\n",
        "    'session_id': 'count',\n",
        "    'price': lambda x: (x * df.loc[x.index, 'is_purchase']).sum()\n",
        "}).rename(columns={'session_id': 'sessions', 'price': 'revenue'})\n",
        "\n",
        "\n",
        "fig = make_subplots(rows=1, cols=2,\n",
        "                    specs=[[{'type': 'pie'}, {'type': 'pie'}]],\n",
        "                    subplot_titles=(\"Розподіл сесій за континентами\", \"Розподіл продажів у грошовому вираженні за континентами\"))\n",
        "\n",
        "# Діаграма для сесій\n",
        "fig.add_trace(\n",
        "    go.Pie(\n",
        "        labels=sessions_by_continent.index,\n",
        "        values=sessions_by_continent['sessions'],\n",
        "        texttemplate='%{label}: %{percent:.1%}',\n",
        "        textposition='inside',\n",
        "        marker_colors=['#004d4d', '#006666', '#008080', '#00b3b3', '#00e6e6']\n",
        "    ),\n",
        "    row=1, col=1\n",
        ")\n",
        "\n",
        "# Діаграма для ревеню\n",
        "fig.add_trace(\n",
        "    go.Pie(\n",
        "        labels=sessions_by_continent.index,\n",
        "        values=sessions_by_continent['revenue'],\n",
        "        texttemplate='%{label}: %{percent:.1%}',\n",
        "        textposition='inside',\n",
        "        marker_colors=['#004d4d', '#006666', '#008080', '#00b3b3', '#00e6e6']\n",
        "    ),\n",
        "    row=1, col=2\n",
        ")\n",
        "\n",
        "fig.update_layout(\n",
        "    showlegend=True,\n",
        "    height=500,\n",
        "    width=1000\n",
        ")\n",
        "\n",
        "fig.show()\n"
      ],
      "metadata": {
        "colab": {
          "base_uri": "https://localhost:8080/",
          "height": 517
        },
        "id": "VuckX6u_u0pC",
        "outputId": "76a9fc32-8712-4988-cab6-b8396740ec1b"
      },
      "execution_count": null,
      "outputs": [
        {
          "output_type": "display_data",
          "data": {
            "text/html": [
              "<html>\n",
              "<head><meta charset=\"utf-8\" /></head>\n",
              "<body>\n",
              "    <div>            <script src=\"https://cdnjs.cloudflare.com/ajax/libs/mathjax/2.7.5/MathJax.js?config=TeX-AMS-MML_SVG\"></script><script type=\"text/javascript\">if (window.MathJax && window.MathJax.Hub && window.MathJax.Hub.Config) {window.MathJax.Hub.Config({SVG: {font: \"STIX-Web\"}});}</script>                <script type=\"text/javascript\">window.PlotlyConfig = {MathJaxConfig: 'local'};</script>\n",
              "        <script charset=\"utf-8\" src=\"https://cdn.plot.ly/plotly-2.35.2.min.js\"></script>                <div id=\"37e8a81e-2ed4-48b5-b24d-99b6df1e679d\" class=\"plotly-graph-div\" style=\"height:500px; width:1000px;\"></div>            <script type=\"text/javascript\">                                    window.PLOTLYENV=window.PLOTLYENV || {};                                    if (document.getElementById(\"37e8a81e-2ed4-48b5-b24d-99b6df1e679d\")) {                    Plotly.newPlot(                        \"37e8a81e-2ed4-48b5-b24d-99b6df1e679d\",                        [{\"labels\":[\"(not set)\",\"Africa\",\"Americas\",\"Asia\",\"Europe\",\"Oceania\"],\"marker\":{\"colors\":[\"#004d4d\",\"#006666\",\"#008080\",\"#00b3b3\",\"#00e6e6\"]},\"textposition\":\"inside\",\"texttemplate\":\"%{label}: %{percent:.1%}\",\"values\":[795,3620,193179,83113,65135,3703],\"type\":\"pie\",\"domain\":{\"x\":[0.0,0.45],\"y\":[0.0,1.0]}},{\"labels\":[\"(not set)\",\"Africa\",\"Americas\",\"Asia\",\"Europe\",\"Oceania\"],\"marker\":{\"colors\":[\"#004d4d\",\"#006666\",\"#008080\",\"#00b3b3\",\"#00e6e6\"]},\"textposition\":\"inside\",\"texttemplate\":\"%{label}: %{percent:.1%}\",\"values\":[74067.4,331231.0,17665280.0,7601298.299999999,5934624.199999999,365230.2],\"type\":\"pie\",\"domain\":{\"x\":[0.55,1.0],\"y\":[0.0,1.0]}}],                        {\"template\":{\"data\":{\"histogram2dcontour\":[{\"type\":\"histogram2dcontour\",\"colorbar\":{\"outlinewidth\":0,\"ticks\":\"\"},\"colorscale\":[[0.0,\"#0d0887\"],[0.1111111111111111,\"#46039f\"],[0.2222222222222222,\"#7201a8\"],[0.3333333333333333,\"#9c179e\"],[0.4444444444444444,\"#bd3786\"],[0.5555555555555556,\"#d8576b\"],[0.6666666666666666,\"#ed7953\"],[0.7777777777777778,\"#fb9f3a\"],[0.8888888888888888,\"#fdca26\"],[1.0,\"#f0f921\"]]}],\"choropleth\":[{\"type\":\"choropleth\",\"colorbar\":{\"outlinewidth\":0,\"ticks\":\"\"}}],\"histogram2d\":[{\"type\":\"histogram2d\",\"colorbar\":{\"outlinewidth\":0,\"ticks\":\"\"},\"colorscale\":[[0.0,\"#0d0887\"],[0.1111111111111111,\"#46039f\"],[0.2222222222222222,\"#7201a8\"],[0.3333333333333333,\"#9c179e\"],[0.4444444444444444,\"#bd3786\"],[0.5555555555555556,\"#d8576b\"],[0.6666666666666666,\"#ed7953\"],[0.7777777777777778,\"#fb9f3a\"],[0.8888888888888888,\"#fdca26\"],[1.0,\"#f0f921\"]]}],\"heatmap\":[{\"type\":\"heatmap\",\"colorbar\":{\"outlinewidth\":0,\"ticks\":\"\"},\"colorscale\":[[0.0,\"#0d0887\"],[0.1111111111111111,\"#46039f\"],[0.2222222222222222,\"#7201a8\"],[0.3333333333333333,\"#9c179e\"],[0.4444444444444444,\"#bd3786\"],[0.5555555555555556,\"#d8576b\"],[0.6666666666666666,\"#ed7953\"],[0.7777777777777778,\"#fb9f3a\"],[0.8888888888888888,\"#fdca26\"],[1.0,\"#f0f921\"]]}],\"heatmapgl\":[{\"type\":\"heatmapgl\",\"colorbar\":{\"outlinewidth\":0,\"ticks\":\"\"},\"colorscale\":[[0.0,\"#0d0887\"],[0.1111111111111111,\"#46039f\"],[0.2222222222222222,\"#7201a8\"],[0.3333333333333333,\"#9c179e\"],[0.4444444444444444,\"#bd3786\"],[0.5555555555555556,\"#d8576b\"],[0.6666666666666666,\"#ed7953\"],[0.7777777777777778,\"#fb9f3a\"],[0.8888888888888888,\"#fdca26\"],[1.0,\"#f0f921\"]]}],\"contourcarpet\":[{\"type\":\"contourcarpet\",\"colorbar\":{\"outlinewidth\":0,\"ticks\":\"\"}}],\"contour\":[{\"type\":\"contour\",\"colorbar\":{\"outlinewidth\":0,\"ticks\":\"\"},\"colorscale\":[[0.0,\"#0d0887\"],[0.1111111111111111,\"#46039f\"],[0.2222222222222222,\"#7201a8\"],[0.3333333333333333,\"#9c179e\"],[0.4444444444444444,\"#bd3786\"],[0.5555555555555556,\"#d8576b\"],[0.6666666666666666,\"#ed7953\"],[0.7777777777777778,\"#fb9f3a\"],[0.8888888888888888,\"#fdca26\"],[1.0,\"#f0f921\"]]}],\"surface\":[{\"type\":\"surface\",\"colorbar\":{\"outlinewidth\":0,\"ticks\":\"\"},\"colorscale\":[[0.0,\"#0d0887\"],[0.1111111111111111,\"#46039f\"],[0.2222222222222222,\"#7201a8\"],[0.3333333333333333,\"#9c179e\"],[0.4444444444444444,\"#bd3786\"],[0.5555555555555556,\"#d8576b\"],[0.6666666666666666,\"#ed7953\"],[0.7777777777777778,\"#fb9f3a\"],[0.8888888888888888,\"#fdca26\"],[1.0,\"#f0f921\"]]}],\"mesh3d\":[{\"type\":\"mesh3d\",\"colorbar\":{\"outlinewidth\":0,\"ticks\":\"\"}}],\"scatter\":[{\"fillpattern\":{\"fillmode\":\"overlay\",\"size\":10,\"solidity\":0.2},\"type\":\"scatter\"}],\"parcoords\":[{\"type\":\"parcoords\",\"line\":{\"colorbar\":{\"outlinewidth\":0,\"ticks\":\"\"}}}],\"scatterpolargl\":[{\"type\":\"scatterpolargl\",\"marker\":{\"colorbar\":{\"outlinewidth\":0,\"ticks\":\"\"}}}],\"bar\":[{\"error_x\":{\"color\":\"#2a3f5f\"},\"error_y\":{\"color\":\"#2a3f5f\"},\"marker\":{\"line\":{\"color\":\"#E5ECF6\",\"width\":0.5},\"pattern\":{\"fillmode\":\"overlay\",\"size\":10,\"solidity\":0.2}},\"type\":\"bar\"}],\"scattergeo\":[{\"type\":\"scattergeo\",\"marker\":{\"colorbar\":{\"outlinewidth\":0,\"ticks\":\"\"}}}],\"scatterpolar\":[{\"type\":\"scatterpolar\",\"marker\":{\"colorbar\":{\"outlinewidth\":0,\"ticks\":\"\"}}}],\"histogram\":[{\"marker\":{\"pattern\":{\"fillmode\":\"overlay\",\"size\":10,\"solidity\":0.2}},\"type\":\"histogram\"}],\"scattergl\":[{\"type\":\"scattergl\",\"marker\":{\"colorbar\":{\"outlinewidth\":0,\"ticks\":\"\"}}}],\"scatter3d\":[{\"type\":\"scatter3d\",\"line\":{\"colorbar\":{\"outlinewidth\":0,\"ticks\":\"\"}},\"marker\":{\"colorbar\":{\"outlinewidth\":0,\"ticks\":\"\"}}}],\"scattermapbox\":[{\"type\":\"scattermapbox\",\"marker\":{\"colorbar\":{\"outlinewidth\":0,\"ticks\":\"\"}}}],\"scatterternary\":[{\"type\":\"scatterternary\",\"marker\":{\"colorbar\":{\"outlinewidth\":0,\"ticks\":\"\"}}}],\"scattercarpet\":[{\"type\":\"scattercarpet\",\"marker\":{\"colorbar\":{\"outlinewidth\":0,\"ticks\":\"\"}}}],\"carpet\":[{\"aaxis\":{\"endlinecolor\":\"#2a3f5f\",\"gridcolor\":\"white\",\"linecolor\":\"white\",\"minorgridcolor\":\"white\",\"startlinecolor\":\"#2a3f5f\"},\"baxis\":{\"endlinecolor\":\"#2a3f5f\",\"gridcolor\":\"white\",\"linecolor\":\"white\",\"minorgridcolor\":\"white\",\"startlinecolor\":\"#2a3f5f\"},\"type\":\"carpet\"}],\"table\":[{\"cells\":{\"fill\":{\"color\":\"#EBF0F8\"},\"line\":{\"color\":\"white\"}},\"header\":{\"fill\":{\"color\":\"#C8D4E3\"},\"line\":{\"color\":\"white\"}},\"type\":\"table\"}],\"barpolar\":[{\"marker\":{\"line\":{\"color\":\"#E5ECF6\",\"width\":0.5},\"pattern\":{\"fillmode\":\"overlay\",\"size\":10,\"solidity\":0.2}},\"type\":\"barpolar\"}],\"pie\":[{\"automargin\":true,\"type\":\"pie\"}]},\"layout\":{\"autotypenumbers\":\"strict\",\"colorway\":[\"#636efa\",\"#EF553B\",\"#00cc96\",\"#ab63fa\",\"#FFA15A\",\"#19d3f3\",\"#FF6692\",\"#B6E880\",\"#FF97FF\",\"#FECB52\"],\"font\":{\"color\":\"#2a3f5f\"},\"hovermode\":\"closest\",\"hoverlabel\":{\"align\":\"left\"},\"paper_bgcolor\":\"white\",\"plot_bgcolor\":\"#E5ECF6\",\"polar\":{\"bgcolor\":\"#E5ECF6\",\"angularaxis\":{\"gridcolor\":\"white\",\"linecolor\":\"white\",\"ticks\":\"\"},\"radialaxis\":{\"gridcolor\":\"white\",\"linecolor\":\"white\",\"ticks\":\"\"}},\"ternary\":{\"bgcolor\":\"#E5ECF6\",\"aaxis\":{\"gridcolor\":\"white\",\"linecolor\":\"white\",\"ticks\":\"\"},\"baxis\":{\"gridcolor\":\"white\",\"linecolor\":\"white\",\"ticks\":\"\"},\"caxis\":{\"gridcolor\":\"white\",\"linecolor\":\"white\",\"ticks\":\"\"}},\"coloraxis\":{\"colorbar\":{\"outlinewidth\":0,\"ticks\":\"\"}},\"colorscale\":{\"sequential\":[[0.0,\"#0d0887\"],[0.1111111111111111,\"#46039f\"],[0.2222222222222222,\"#7201a8\"],[0.3333333333333333,\"#9c179e\"],[0.4444444444444444,\"#bd3786\"],[0.5555555555555556,\"#d8576b\"],[0.6666666666666666,\"#ed7953\"],[0.7777777777777778,\"#fb9f3a\"],[0.8888888888888888,\"#fdca26\"],[1.0,\"#f0f921\"]],\"sequentialminus\":[[0.0,\"#0d0887\"],[0.1111111111111111,\"#46039f\"],[0.2222222222222222,\"#7201a8\"],[0.3333333333333333,\"#9c179e\"],[0.4444444444444444,\"#bd3786\"],[0.5555555555555556,\"#d8576b\"],[0.6666666666666666,\"#ed7953\"],[0.7777777777777778,\"#fb9f3a\"],[0.8888888888888888,\"#fdca26\"],[1.0,\"#f0f921\"]],\"diverging\":[[0,\"#8e0152\"],[0.1,\"#c51b7d\"],[0.2,\"#de77ae\"],[0.3,\"#f1b6da\"],[0.4,\"#fde0ef\"],[0.5,\"#f7f7f7\"],[0.6,\"#e6f5d0\"],[0.7,\"#b8e186\"],[0.8,\"#7fbc41\"],[0.9,\"#4d9221\"],[1,\"#276419\"]]},\"xaxis\":{\"gridcolor\":\"white\",\"linecolor\":\"white\",\"ticks\":\"\",\"title\":{\"standoff\":15},\"zerolinecolor\":\"white\",\"automargin\":true,\"zerolinewidth\":2},\"yaxis\":{\"gridcolor\":\"white\",\"linecolor\":\"white\",\"ticks\":\"\",\"title\":{\"standoff\":15},\"zerolinecolor\":\"white\",\"automargin\":true,\"zerolinewidth\":2},\"scene\":{\"xaxis\":{\"backgroundcolor\":\"#E5ECF6\",\"gridcolor\":\"white\",\"linecolor\":\"white\",\"showbackground\":true,\"ticks\":\"\",\"zerolinecolor\":\"white\",\"gridwidth\":2},\"yaxis\":{\"backgroundcolor\":\"#E5ECF6\",\"gridcolor\":\"white\",\"linecolor\":\"white\",\"showbackground\":true,\"ticks\":\"\",\"zerolinecolor\":\"white\",\"gridwidth\":2},\"zaxis\":{\"backgroundcolor\":\"#E5ECF6\",\"gridcolor\":\"white\",\"linecolor\":\"white\",\"showbackground\":true,\"ticks\":\"\",\"zerolinecolor\":\"white\",\"gridwidth\":2}},\"shapedefaults\":{\"line\":{\"color\":\"#2a3f5f\"}},\"annotationdefaults\":{\"arrowcolor\":\"#2a3f5f\",\"arrowhead\":0,\"arrowwidth\":1},\"geo\":{\"bgcolor\":\"white\",\"landcolor\":\"#E5ECF6\",\"subunitcolor\":\"white\",\"showland\":true,\"showlakes\":true,\"lakecolor\":\"white\"},\"title\":{\"x\":0.05},\"mapbox\":{\"style\":\"light\"}}},\"annotations\":[{\"font\":{\"size\":16},\"showarrow\":false,\"text\":\"Розподіл сесій за континентами\",\"x\":0.225,\"xanchor\":\"center\",\"xref\":\"paper\",\"y\":1.0,\"yanchor\":\"bottom\",\"yref\":\"paper\"},{\"font\":{\"size\":16},\"showarrow\":false,\"text\":\"Розподіл продажів у грошовому вираженні за континентами\",\"x\":0.775,\"xanchor\":\"center\",\"xref\":\"paper\",\"y\":1.0,\"yanchor\":\"bottom\",\"yref\":\"paper\"}],\"showlegend\":true,\"height\":500,\"width\":1000},                        {\"responsive\": true}                    ).then(function(){\n",
              "                            \n",
              "var gd = document.getElementById('37e8a81e-2ed4-48b5-b24d-99b6df1e679d');\n",
              "var x = new MutationObserver(function (mutations, observer) {{\n",
              "        var display = window.getComputedStyle(gd).display;\n",
              "        if (!display || display === 'none') {{\n",
              "            console.log([gd, 'removed!']);\n",
              "            Plotly.purge(gd);\n",
              "            observer.disconnect();\n",
              "        }}\n",
              "}});\n",
              "\n",
              "// Listen for the removal of the full notebook cells\n",
              "var notebookContainer = gd.closest('#notebook-container');\n",
              "if (notebookContainer) {{\n",
              "    x.observe(notebookContainer, {childList: true});\n",
              "}}\n",
              "\n",
              "// Listen for the clearing of the current output cell\n",
              "var outputEl = gd.closest('.output');\n",
              "if (outputEl) {{\n",
              "    x.observe(outputEl, {childList: true});\n",
              "}}\n",
              "\n",
              "                        })                };                            </script>        </div>\n",
              "</body>\n",
              "</html>"
            ]
          },
          "metadata": {}
        }
      ]
    },
    {
      "cell_type": "markdown",
      "source": [
        "## Розподіл сесій та продажів за континентами\n",
        "\n",
        "### Розподіл сесій\n",
        "- **Americas** — 55.3%  \n",
        "- **Asia** — 23.8%  \n",
        "- **Europe** — 18.6%  \n",
        "- **Oceania** — 1.3%  \n",
        "- **Africa** — 1.0%  \n",
        "  \n",
        "\n",
        "### Розподіл продажів у грошовому вираженні\n",
        "- **Americas** — 55.3%  \n",
        "- **Asia** — 23.8%  \n",
        "- **Europe** — 18.6%  \n",
        "- **Oceania** — 1.3%  \n",
        "- **Africa** — 1.0%  \n",
        "\n",
        "\n",
        "---\n",
        "\n",
        "### Висновки\n",
        "- Найбільша частка як сесій, так і продажів припадає на **Americas** (понад половина від загального обсягу).  \n",
        "- **Азія** формує майже чверть усіх показників (23.8%), а **Європа** — 18.6%.  \n",
        "- Частка **Океанії** та **Африки** залишається мінімальною (менше 3% разом).  \n",
        "- Розподіл **сесій і продажів практично ідентичний**, що свідчить про пропорційність: регіони з більшою кількістю сесій приносять і вищі продажі.  \n"
      ],
      "metadata": {
        "id": "n7I1Y6FRH-9J"
      }
    },
    {
      "cell_type": "code",
      "source": [
        "\n",
        "# 4 Тренд сесій та обсягам продажів у грошовому вираженні за датами\n",
        "sessions_by_date = df.groupby('date').agg({\n",
        "    'session_id': 'count',\n",
        "    'price': lambda x: (x * df.loc[x.index, 'is_purchase']).sum()\n",
        "}).rename(columns={'session_id': 'sessions', 'price': 'revenue'}).reset_index()\n",
        "\n",
        "fig = make_subplots(specs=[[{\"secondary_y\": True}]])\n",
        "\n",
        "# сесії\n",
        "fig.add_trace(\n",
        "    go.Scatter(\n",
        "        x=sessions_by_date['date'],\n",
        "        y=sessions_by_date['sessions'],\n",
        "        name='Сесії',\n",
        "        line=dict(color='teal')\n",
        "    ),\n",
        "    secondary_y=False\n",
        ")\n",
        "\n",
        "# ревеню\n",
        "fig.add_trace(\n",
        "    go.Scatter(\n",
        "        x=sessions_by_date['date'],\n",
        "        y=sessions_by_date['revenue'],\n",
        "        name='Ревеню',\n",
        "        line=dict(color='#00e6e6')\n",
        "    ),\n",
        "    secondary_y=True\n",
        ")\n",
        "\n",
        "fig.update_layout(\n",
        "    title_text='Тренд сесій та продажів у грошовому вираженні за датами',\n",
        "    xaxis_title='Дата',\n",
        "    height=500,\n",
        "    width=1000,\n",
        "    hovermode='x unified'\n",
        ")\n",
        "\n",
        "fig.update_yaxes(title_text='Кількість сесій', secondary_y=False)\n",
        "fig.update_yaxes(title_text='Ревеню', secondary_y=True)\n",
        "\n",
        "fig.show()"
      ],
      "metadata": {
        "colab": {
          "base_uri": "https://localhost:8080/",
          "height": 517
        },
        "id": "qP1o-ngzgj7Y",
        "outputId": "29cfe83c-9556-4eb7-9699-36946f62a836"
      },
      "execution_count": null,
      "outputs": [
        {
          "output_type": "display_data",
          "data": {
            "text/html": [
              "<html>\n",
              "<head><meta charset=\"utf-8\" /></head>\n",
              "<body>\n",
              "    <div>            <script src=\"https://cdnjs.cloudflare.com/ajax/libs/mathjax/2.7.5/MathJax.js?config=TeX-AMS-MML_SVG\"></script><script type=\"text/javascript\">if (window.MathJax && window.MathJax.Hub && window.MathJax.Hub.Config) {window.MathJax.Hub.Config({SVG: {font: \"STIX-Web\"}});}</script>                <script type=\"text/javascript\">window.PlotlyConfig = {MathJaxConfig: 'local'};</script>\n",
              "        <script charset=\"utf-8\" src=\"https://cdn.plot.ly/plotly-2.35.2.min.js\"></script>                <div id=\"6131f52e-403c-42ae-903b-126ed5fad9f5\" class=\"plotly-graph-div\" style=\"height:500px; width:1000px;\"></div>            <script type=\"text/javascript\">                                    window.PLOTLYENV=window.PLOTLYENV || {};                                    if (document.getElementById(\"6131f52e-403c-42ae-903b-126ed5fad9f5\")) {                    Plotly.newPlot(                        \"6131f52e-403c-42ae-903b-126ed5fad9f5\",                        [{\"line\":{\"color\":\"teal\"},\"name\":\"Сесії\",\"x\":[\"2020-11-01T00:00:00\",\"2020-11-02T00:00:00\",\"2020-11-03T00:00:00\",\"2020-11-04T00:00:00\",\"2020-11-05T00:00:00\",\"2020-11-06T00:00:00\",\"2020-11-07T00:00:00\",\"2020-11-08T00:00:00\",\"2020-11-09T00:00:00\",\"2020-11-10T00:00:00\",\"2020-11-11T00:00:00\",\"2020-11-12T00:00:00\",\"2020-11-13T00:00:00\",\"2020-11-14T00:00:00\",\"2020-11-15T00:00:00\",\"2020-11-16T00:00:00\",\"2020-11-17T00:00:00\",\"2020-11-18T00:00:00\",\"2020-11-19T00:00:00\",\"2020-11-20T00:00:00\",\"2020-11-21T00:00:00\",\"2020-11-22T00:00:00\",\"2020-11-23T00:00:00\",\"2020-11-24T00:00:00\",\"2020-11-25T00:00:00\",\"2020-11-26T00:00:00\",\"2020-11-27T00:00:00\",\"2020-11-28T00:00:00\",\"2020-11-29T00:00:00\",\"2020-11-30T00:00:00\",\"2020-12-01T00:00:00\",\"2020-12-02T00:00:00\",\"2020-12-03T00:00:00\",\"2020-12-04T00:00:00\",\"2020-12-05T00:00:00\",\"2020-12-06T00:00:00\",\"2020-12-07T00:00:00\",\"2020-12-08T00:00:00\",\"2020-12-09T00:00:00\",\"2020-12-10T00:00:00\",\"2020-12-11T00:00:00\",\"2020-12-12T00:00:00\",\"2020-12-13T00:00:00\",\"2020-12-14T00:00:00\",\"2020-12-15T00:00:00\",\"2020-12-16T00:00:00\",\"2020-12-17T00:00:00\",\"2020-12-18T00:00:00\",\"2020-12-19T00:00:00\",\"2020-12-20T00:00:00\",\"2020-12-21T00:00:00\",\"2020-12-22T00:00:00\",\"2020-12-23T00:00:00\",\"2020-12-24T00:00:00\",\"2020-12-25T00:00:00\",\"2020-12-26T00:00:00\",\"2020-12-27T00:00:00\",\"2020-12-28T00:00:00\",\"2020-12-29T00:00:00\",\"2020-12-30T00:00:00\",\"2020-12-31T00:00:00\",\"2021-01-01T00:00:00\",\"2021-01-02T00:00:00\",\"2021-01-03T00:00:00\",\"2021-01-04T00:00:00\",\"2021-01-05T00:00:00\",\"2021-01-06T00:00:00\",\"2021-01-07T00:00:00\",\"2021-01-08T00:00:00\",\"2021-01-09T00:00:00\",\"2021-01-10T00:00:00\",\"2021-01-11T00:00:00\",\"2021-01-12T00:00:00\",\"2021-01-13T00:00:00\",\"2021-01-14T00:00:00\",\"2021-01-15T00:00:00\",\"2021-01-16T00:00:00\",\"2021-01-17T00:00:00\",\"2021-01-18T00:00:00\",\"2021-01-19T00:00:00\",\"2021-01-20T00:00:00\",\"2021-01-21T00:00:00\",\"2021-01-22T00:00:00\",\"2021-01-23T00:00:00\",\"2021-01-24T00:00:00\",\"2021-01-25T00:00:00\",\"2021-01-26T00:00:00\",\"2021-01-27T00:00:00\",\"2021-01-28T00:00:00\",\"2021-01-29T00:00:00\",\"2021-01-30T00:00:00\",\"2021-01-31T00:00:00\"],\"y\":[2576,3599,5173,4184,3743,3242,2247,2129,3179,3701,3715,3604,3230,2335,2184,3404,3964,3971,4051,4004,3122,2633,3799,4300,4445,4021,3853,3305,3168,4424,4810,4634,5024,4588,3436,3245,5195,7212,6041,5769,5427,4045,3612,4903,5509,5356,5143,4693,3504,3215,3895,3742,3366,2761,2608,2635,2630,3279,3358,3141,2582,2261,2669,2734,3293,4321,5731,4525,4161,3193,2956,3821,4559,4415,4253,3841,3120,2915,3518,3904,4556,4547,3995,3067,2893,3760,3970,4435,4112,3700,2845,2812],\"type\":\"scatter\",\"xaxis\":\"x\",\"yaxis\":\"y\"},{\"line\":{\"color\":\"#00e6e6\"},\"name\":\"Ревеню\",\"x\":[\"2020-11-01T00:00:00\",\"2020-11-02T00:00:00\",\"2020-11-03T00:00:00\",\"2020-11-04T00:00:00\",\"2020-11-05T00:00:00\",\"2020-11-06T00:00:00\",\"2020-11-07T00:00:00\",\"2020-11-08T00:00:00\",\"2020-11-09T00:00:00\",\"2020-11-10T00:00:00\",\"2020-11-11T00:00:00\",\"2020-11-12T00:00:00\",\"2020-11-13T00:00:00\",\"2020-11-14T00:00:00\",\"2020-11-15T00:00:00\",\"2020-11-16T00:00:00\",\"2020-11-17T00:00:00\",\"2020-11-18T00:00:00\",\"2020-11-19T00:00:00\",\"2020-11-20T00:00:00\",\"2020-11-21T00:00:00\",\"2020-11-22T00:00:00\",\"2020-11-23T00:00:00\",\"2020-11-24T00:00:00\",\"2020-11-25T00:00:00\",\"2020-11-26T00:00:00\",\"2020-11-27T00:00:00\",\"2020-11-28T00:00:00\",\"2020-11-29T00:00:00\",\"2020-11-30T00:00:00\",\"2020-12-01T00:00:00\",\"2020-12-02T00:00:00\",\"2020-12-03T00:00:00\",\"2020-12-04T00:00:00\",\"2020-12-05T00:00:00\",\"2020-12-06T00:00:00\",\"2020-12-07T00:00:00\",\"2020-12-08T00:00:00\",\"2020-12-09T00:00:00\",\"2020-12-10T00:00:00\",\"2020-12-11T00:00:00\",\"2020-12-12T00:00:00\",\"2020-12-13T00:00:00\",\"2020-12-14T00:00:00\",\"2020-12-15T00:00:00\",\"2020-12-16T00:00:00\",\"2020-12-17T00:00:00\",\"2020-12-18T00:00:00\",\"2020-12-19T00:00:00\",\"2020-12-20T00:00:00\",\"2020-12-21T00:00:00\",\"2020-12-22T00:00:00\",\"2020-12-23T00:00:00\",\"2020-12-24T00:00:00\",\"2020-12-25T00:00:00\",\"2020-12-26T00:00:00\",\"2020-12-27T00:00:00\",\"2020-12-28T00:00:00\",\"2020-12-29T00:00:00\",\"2020-12-30T00:00:00\",\"2020-12-31T00:00:00\",\"2021-01-01T00:00:00\",\"2021-01-02T00:00:00\",\"2021-01-03T00:00:00\",\"2021-01-04T00:00:00\",\"2021-01-05T00:00:00\",\"2021-01-06T00:00:00\",\"2021-01-07T00:00:00\",\"2021-01-08T00:00:00\",\"2021-01-09T00:00:00\",\"2021-01-10T00:00:00\",\"2021-01-11T00:00:00\",\"2021-01-12T00:00:00\",\"2021-01-13T00:00:00\",\"2021-01-14T00:00:00\",\"2021-01-15T00:00:00\",\"2021-01-16T00:00:00\",\"2021-01-17T00:00:00\",\"2021-01-18T00:00:00\",\"2021-01-19T00:00:00\",\"2021-01-20T00:00:00\",\"2021-01-21T00:00:00\",\"2021-01-22T00:00:00\",\"2021-01-23T00:00:00\",\"2021-01-24T00:00:00\",\"2021-01-25T00:00:00\",\"2021-01-26T00:00:00\",\"2021-01-27T00:00:00\",\"2021-01-28T00:00:00\",\"2021-01-29T00:00:00\",\"2021-01-30T00:00:00\",\"2021-01-31T00:00:00\"],\"y\":[244292.5,355506.8,498979.60000000003,339187.1,391276.6,322642.2,200892.2,221162.5,302049.5,343471.8,343941.0,314070.1,282575.4,214889.3,209535.5,296972.1,404954.6,405328.1,342204.4,400420.5,325970.7,239063.7,346571.8,305073.4,420232.1,424028.1,407338.5,343354.7,271602.0,379928.2,473346.80000000005,434562.5,460950.2,503979.8,295936.1,316619.5,452423.3,680509.5,551811.6,624104.6,524993.2,386358.1,330044.3,472654.7,531546.9,553134.9,549046.8,399290.1,354714.0,285750.80000000005,353726.9,340852.8,308985.69999999995,256319.2,263346.4,258976.0,254142.3,302470.7,250281.9,308423.5,344136.2,217984.9,247516.4,285519.6,347103.7,464544.7,609763.8,387163.7,436356.0,295324.4,229321.40000000002,364010.1,421850.0,465344.7,433532.5,379524.9,263453.5,342515.7,357783.30000000005,370046.6,439487.2,410103.2,384615.30000000005,290605.5,243818.40000000002,305089.3,372057.3,286340.7,0.0,0.0,0.0,0.0],\"type\":\"scatter\",\"xaxis\":\"x\",\"yaxis\":\"y2\"}],                        {\"template\":{\"data\":{\"histogram2dcontour\":[{\"type\":\"histogram2dcontour\",\"colorbar\":{\"outlinewidth\":0,\"ticks\":\"\"},\"colorscale\":[[0.0,\"#0d0887\"],[0.1111111111111111,\"#46039f\"],[0.2222222222222222,\"#7201a8\"],[0.3333333333333333,\"#9c179e\"],[0.4444444444444444,\"#bd3786\"],[0.5555555555555556,\"#d8576b\"],[0.6666666666666666,\"#ed7953\"],[0.7777777777777778,\"#fb9f3a\"],[0.8888888888888888,\"#fdca26\"],[1.0,\"#f0f921\"]]}],\"choropleth\":[{\"type\":\"choropleth\",\"colorbar\":{\"outlinewidth\":0,\"ticks\":\"\"}}],\"histogram2d\":[{\"type\":\"histogram2d\",\"colorbar\":{\"outlinewidth\":0,\"ticks\":\"\"},\"colorscale\":[[0.0,\"#0d0887\"],[0.1111111111111111,\"#46039f\"],[0.2222222222222222,\"#7201a8\"],[0.3333333333333333,\"#9c179e\"],[0.4444444444444444,\"#bd3786\"],[0.5555555555555556,\"#d8576b\"],[0.6666666666666666,\"#ed7953\"],[0.7777777777777778,\"#fb9f3a\"],[0.8888888888888888,\"#fdca26\"],[1.0,\"#f0f921\"]]}],\"heatmap\":[{\"type\":\"heatmap\",\"colorbar\":{\"outlinewidth\":0,\"ticks\":\"\"},\"colorscale\":[[0.0,\"#0d0887\"],[0.1111111111111111,\"#46039f\"],[0.2222222222222222,\"#7201a8\"],[0.3333333333333333,\"#9c179e\"],[0.4444444444444444,\"#bd3786\"],[0.5555555555555556,\"#d8576b\"],[0.6666666666666666,\"#ed7953\"],[0.7777777777777778,\"#fb9f3a\"],[0.8888888888888888,\"#fdca26\"],[1.0,\"#f0f921\"]]}],\"heatmapgl\":[{\"type\":\"heatmapgl\",\"colorbar\":{\"outlinewidth\":0,\"ticks\":\"\"},\"colorscale\":[[0.0,\"#0d0887\"],[0.1111111111111111,\"#46039f\"],[0.2222222222222222,\"#7201a8\"],[0.3333333333333333,\"#9c179e\"],[0.4444444444444444,\"#bd3786\"],[0.5555555555555556,\"#d8576b\"],[0.6666666666666666,\"#ed7953\"],[0.7777777777777778,\"#fb9f3a\"],[0.8888888888888888,\"#fdca26\"],[1.0,\"#f0f921\"]]}],\"contourcarpet\":[{\"type\":\"contourcarpet\",\"colorbar\":{\"outlinewidth\":0,\"ticks\":\"\"}}],\"contour\":[{\"type\":\"contour\",\"colorbar\":{\"outlinewidth\":0,\"ticks\":\"\"},\"colorscale\":[[0.0,\"#0d0887\"],[0.1111111111111111,\"#46039f\"],[0.2222222222222222,\"#7201a8\"],[0.3333333333333333,\"#9c179e\"],[0.4444444444444444,\"#bd3786\"],[0.5555555555555556,\"#d8576b\"],[0.6666666666666666,\"#ed7953\"],[0.7777777777777778,\"#fb9f3a\"],[0.8888888888888888,\"#fdca26\"],[1.0,\"#f0f921\"]]}],\"surface\":[{\"type\":\"surface\",\"colorbar\":{\"outlinewidth\":0,\"ticks\":\"\"},\"colorscale\":[[0.0,\"#0d0887\"],[0.1111111111111111,\"#46039f\"],[0.2222222222222222,\"#7201a8\"],[0.3333333333333333,\"#9c179e\"],[0.4444444444444444,\"#bd3786\"],[0.5555555555555556,\"#d8576b\"],[0.6666666666666666,\"#ed7953\"],[0.7777777777777778,\"#fb9f3a\"],[0.8888888888888888,\"#fdca26\"],[1.0,\"#f0f921\"]]}],\"mesh3d\":[{\"type\":\"mesh3d\",\"colorbar\":{\"outlinewidth\":0,\"ticks\":\"\"}}],\"scatter\":[{\"fillpattern\":{\"fillmode\":\"overlay\",\"size\":10,\"solidity\":0.2},\"type\":\"scatter\"}],\"parcoords\":[{\"type\":\"parcoords\",\"line\":{\"colorbar\":{\"outlinewidth\":0,\"ticks\":\"\"}}}],\"scatterpolargl\":[{\"type\":\"scatterpolargl\",\"marker\":{\"colorbar\":{\"outlinewidth\":0,\"ticks\":\"\"}}}],\"bar\":[{\"error_x\":{\"color\":\"#2a3f5f\"},\"error_y\":{\"color\":\"#2a3f5f\"},\"marker\":{\"line\":{\"color\":\"#E5ECF6\",\"width\":0.5},\"pattern\":{\"fillmode\":\"overlay\",\"size\":10,\"solidity\":0.2}},\"type\":\"bar\"}],\"scattergeo\":[{\"type\":\"scattergeo\",\"marker\":{\"colorbar\":{\"outlinewidth\":0,\"ticks\":\"\"}}}],\"scatterpolar\":[{\"type\":\"scatterpolar\",\"marker\":{\"colorbar\":{\"outlinewidth\":0,\"ticks\":\"\"}}}],\"histogram\":[{\"marker\":{\"pattern\":{\"fillmode\":\"overlay\",\"size\":10,\"solidity\":0.2}},\"type\":\"histogram\"}],\"scattergl\":[{\"type\":\"scattergl\",\"marker\":{\"colorbar\":{\"outlinewidth\":0,\"ticks\":\"\"}}}],\"scatter3d\":[{\"type\":\"scatter3d\",\"line\":{\"colorbar\":{\"outlinewidth\":0,\"ticks\":\"\"}},\"marker\":{\"colorbar\":{\"outlinewidth\":0,\"ticks\":\"\"}}}],\"scattermapbox\":[{\"type\":\"scattermapbox\",\"marker\":{\"colorbar\":{\"outlinewidth\":0,\"ticks\":\"\"}}}],\"scatterternary\":[{\"type\":\"scatterternary\",\"marker\":{\"colorbar\":{\"outlinewidth\":0,\"ticks\":\"\"}}}],\"scattercarpet\":[{\"type\":\"scattercarpet\",\"marker\":{\"colorbar\":{\"outlinewidth\":0,\"ticks\":\"\"}}}],\"carpet\":[{\"aaxis\":{\"endlinecolor\":\"#2a3f5f\",\"gridcolor\":\"white\",\"linecolor\":\"white\",\"minorgridcolor\":\"white\",\"startlinecolor\":\"#2a3f5f\"},\"baxis\":{\"endlinecolor\":\"#2a3f5f\",\"gridcolor\":\"white\",\"linecolor\":\"white\",\"minorgridcolor\":\"white\",\"startlinecolor\":\"#2a3f5f\"},\"type\":\"carpet\"}],\"table\":[{\"cells\":{\"fill\":{\"color\":\"#EBF0F8\"},\"line\":{\"color\":\"white\"}},\"header\":{\"fill\":{\"color\":\"#C8D4E3\"},\"line\":{\"color\":\"white\"}},\"type\":\"table\"}],\"barpolar\":[{\"marker\":{\"line\":{\"color\":\"#E5ECF6\",\"width\":0.5},\"pattern\":{\"fillmode\":\"overlay\",\"size\":10,\"solidity\":0.2}},\"type\":\"barpolar\"}],\"pie\":[{\"automargin\":true,\"type\":\"pie\"}]},\"layout\":{\"autotypenumbers\":\"strict\",\"colorway\":[\"#636efa\",\"#EF553B\",\"#00cc96\",\"#ab63fa\",\"#FFA15A\",\"#19d3f3\",\"#FF6692\",\"#B6E880\",\"#FF97FF\",\"#FECB52\"],\"font\":{\"color\":\"#2a3f5f\"},\"hovermode\":\"closest\",\"hoverlabel\":{\"align\":\"left\"},\"paper_bgcolor\":\"white\",\"plot_bgcolor\":\"#E5ECF6\",\"polar\":{\"bgcolor\":\"#E5ECF6\",\"angularaxis\":{\"gridcolor\":\"white\",\"linecolor\":\"white\",\"ticks\":\"\"},\"radialaxis\":{\"gridcolor\":\"white\",\"linecolor\":\"white\",\"ticks\":\"\"}},\"ternary\":{\"bgcolor\":\"#E5ECF6\",\"aaxis\":{\"gridcolor\":\"white\",\"linecolor\":\"white\",\"ticks\":\"\"},\"baxis\":{\"gridcolor\":\"white\",\"linecolor\":\"white\",\"ticks\":\"\"},\"caxis\":{\"gridcolor\":\"white\",\"linecolor\":\"white\",\"ticks\":\"\"}},\"coloraxis\":{\"colorbar\":{\"outlinewidth\":0,\"ticks\":\"\"}},\"colorscale\":{\"sequential\":[[0.0,\"#0d0887\"],[0.1111111111111111,\"#46039f\"],[0.2222222222222222,\"#7201a8\"],[0.3333333333333333,\"#9c179e\"],[0.4444444444444444,\"#bd3786\"],[0.5555555555555556,\"#d8576b\"],[0.6666666666666666,\"#ed7953\"],[0.7777777777777778,\"#fb9f3a\"],[0.8888888888888888,\"#fdca26\"],[1.0,\"#f0f921\"]],\"sequentialminus\":[[0.0,\"#0d0887\"],[0.1111111111111111,\"#46039f\"],[0.2222222222222222,\"#7201a8\"],[0.3333333333333333,\"#9c179e\"],[0.4444444444444444,\"#bd3786\"],[0.5555555555555556,\"#d8576b\"],[0.6666666666666666,\"#ed7953\"],[0.7777777777777778,\"#fb9f3a\"],[0.8888888888888888,\"#fdca26\"],[1.0,\"#f0f921\"]],\"diverging\":[[0,\"#8e0152\"],[0.1,\"#c51b7d\"],[0.2,\"#de77ae\"],[0.3,\"#f1b6da\"],[0.4,\"#fde0ef\"],[0.5,\"#f7f7f7\"],[0.6,\"#e6f5d0\"],[0.7,\"#b8e186\"],[0.8,\"#7fbc41\"],[0.9,\"#4d9221\"],[1,\"#276419\"]]},\"xaxis\":{\"gridcolor\":\"white\",\"linecolor\":\"white\",\"ticks\":\"\",\"title\":{\"standoff\":15},\"zerolinecolor\":\"white\",\"automargin\":true,\"zerolinewidth\":2},\"yaxis\":{\"gridcolor\":\"white\",\"linecolor\":\"white\",\"ticks\":\"\",\"title\":{\"standoff\":15},\"zerolinecolor\":\"white\",\"automargin\":true,\"zerolinewidth\":2},\"scene\":{\"xaxis\":{\"backgroundcolor\":\"#E5ECF6\",\"gridcolor\":\"white\",\"linecolor\":\"white\",\"showbackground\":true,\"ticks\":\"\",\"zerolinecolor\":\"white\",\"gridwidth\":2},\"yaxis\":{\"backgroundcolor\":\"#E5ECF6\",\"gridcolor\":\"white\",\"linecolor\":\"white\",\"showbackground\":true,\"ticks\":\"\",\"zerolinecolor\":\"white\",\"gridwidth\":2},\"zaxis\":{\"backgroundcolor\":\"#E5ECF6\",\"gridcolor\":\"white\",\"linecolor\":\"white\",\"showbackground\":true,\"ticks\":\"\",\"zerolinecolor\":\"white\",\"gridwidth\":2}},\"shapedefaults\":{\"line\":{\"color\":\"#2a3f5f\"}},\"annotationdefaults\":{\"arrowcolor\":\"#2a3f5f\",\"arrowhead\":0,\"arrowwidth\":1},\"geo\":{\"bgcolor\":\"white\",\"landcolor\":\"#E5ECF6\",\"subunitcolor\":\"white\",\"showland\":true,\"showlakes\":true,\"lakecolor\":\"white\"},\"title\":{\"x\":0.05},\"mapbox\":{\"style\":\"light\"}}},\"xaxis\":{\"anchor\":\"y\",\"domain\":[0.0,0.94],\"title\":{\"text\":\"Дата\"}},\"yaxis\":{\"anchor\":\"x\",\"domain\":[0.0,1.0],\"title\":{\"text\":\"Кількість сесій\"}},\"yaxis2\":{\"anchor\":\"x\",\"overlaying\":\"y\",\"side\":\"right\",\"title\":{\"text\":\"Ревеню\"}},\"title\":{\"text\":\"Тренд сесій та продажів у грошовому вираженні за датами\"},\"height\":500,\"width\":1000,\"hovermode\":\"x unified\"},                        {\"responsive\": true}                    ).then(function(){\n",
              "                            \n",
              "var gd = document.getElementById('6131f52e-403c-42ae-903b-126ed5fad9f5');\n",
              "var x = new MutationObserver(function (mutations, observer) {{\n",
              "        var display = window.getComputedStyle(gd).display;\n",
              "        if (!display || display === 'none') {{\n",
              "            console.log([gd, 'removed!']);\n",
              "            Plotly.purge(gd);\n",
              "            observer.disconnect();\n",
              "        }}\n",
              "}});\n",
              "\n",
              "// Listen for the removal of the full notebook cells\n",
              "var notebookContainer = gd.closest('#notebook-container');\n",
              "if (notebookContainer) {{\n",
              "    x.observe(notebookContainer, {childList: true});\n",
              "}}\n",
              "\n",
              "// Listen for the clearing of the current output cell\n",
              "var outputEl = gd.closest('.output');\n",
              "if (outputEl) {{\n",
              "    x.observe(outputEl, {childList: true});\n",
              "}}\n",
              "\n",
              "                        })                };                            </script>        </div>\n",
              "</body>\n",
              "</html>"
            ]
          },
          "metadata": {}
        }
      ]
    },
    {
      "cell_type": "markdown",
      "source": [
        "На основі графіка \"Тренд сесій та продажів у грошовому вираженні за датами\" можна дослідити, що кількість сесій та загальні продажі  демонструють схожі тенденції протягом періоду з листопада 2020 до січня 2021 року. Обидва показники мають піки та спади, зокрема значне зростання наприкінці листопада та січня, що може вказувати на сезонні впливи або маркетингові кампанії. Проте детальний аналіз кореляції та статистичної значущості необхідний для підтвердження їхнього взаємозв’язку."
      ],
      "metadata": {
        "id": "9P3_OKHb4tiX"
      }
    },
    {
      "cell_type": "code",
      "source": [
        "#5 Аналіз за категоріями товарів\n",
        "revenue_by_category = df[df['is_purchase'] == True].groupby('category')['price'].sum().reset_index(name='revenue')\n",
        "revenue_by_category = revenue_by_category.sort_values('revenue', ascending=False)\n",
        "fig = px.bar(\n",
        "    revenue_by_category,\n",
        "    x='category',\n",
        "    y='revenue',\n",
        "    text=revenue_by_category['revenue'].apply(lambda x: f'{x:.2f}'),\n",
        "    title='продажів у грошовому вираженні за категоріями',\n",
        "    color='category',\n",
        "    color_discrete_sequence=px.colors.sequential.Teal\n",
        ")\n",
        "fig.update_traces(textposition='outside')\n",
        "fig.update_layout(\n",
        "    xaxis_title='Категорія',\n",
        "    yaxis_title='Ревеню (грн)',\n",
        "    xaxis_tickangle=45,\n",
        "    showlegend=False,\n",
        "    template='plotly_white',\n",
        "    height=500,\n",
        "    width=1000,\n",
        "    yaxis_range=[0, revenue_by_category['revenue'].max() * 1.2]\n",
        ")\n",
        "fig.show()"
      ],
      "metadata": {
        "colab": {
          "base_uri": "https://localhost:8080/",
          "height": 517
        },
        "id": "H_cXxgAn6aSL",
        "outputId": "7c379336-4135-41ed-d059-ad66c3bbec1e"
      },
      "execution_count": null,
      "outputs": [
        {
          "output_type": "display_data",
          "data": {
            "text/html": [
              "<html>\n",
              "<head><meta charset=\"utf-8\" /></head>\n",
              "<body>\n",
              "    <div>            <script src=\"https://cdnjs.cloudflare.com/ajax/libs/mathjax/2.7.5/MathJax.js?config=TeX-AMS-MML_SVG\"></script><script type=\"text/javascript\">if (window.MathJax && window.MathJax.Hub && window.MathJax.Hub.Config) {window.MathJax.Hub.Config({SVG: {font: \"STIX-Web\"}});}</script>                <script type=\"text/javascript\">window.PlotlyConfig = {MathJaxConfig: 'local'};</script>\n",
              "        <script charset=\"utf-8\" src=\"https://cdn.plot.ly/plotly-2.35.2.min.js\"></script>                <div id=\"9622157c-d985-4c4e-b2d5-4acd09e5200e\" class=\"plotly-graph-div\" style=\"height:500px; width:1000px;\"></div>            <script type=\"text/javascript\">                                    window.PLOTLYENV=window.PLOTLYENV || {};                                    if (document.getElementById(\"9622157c-d985-4c4e-b2d5-4acd09e5200e\")) {                    Plotly.newPlot(                        \"9622157c-d985-4c4e-b2d5-4acd09e5200e\",                        [{\"alignmentgroup\":\"True\",\"hovertemplate\":\"category=%{x}\\u003cbr\\u003erevenue=%{y}\\u003cbr\\u003etext=%{text}\\u003cextra\\u003e\\u003c\\u002fextra\\u003e\",\"legendgroup\":\"Sofas & armchairs\",\"marker\":{\"color\":\"rgb(209, 238, 234)\",\"pattern\":{\"shape\":\"\"}},\"name\":\"Sofas & armchairs\",\"offsetgroup\":\"Sofas & armchairs\",\"orientation\":\"v\",\"showlegend\":true,\"text\":[\"8388254.50\"],\"textposition\":\"outside\",\"x\":[\"Sofas & armchairs\"],\"xaxis\":\"x\",\"y\":[8388254.5],\"yaxis\":\"y\",\"type\":\"bar\"},{\"alignmentgroup\":\"True\",\"hovertemplate\":\"category=%{x}\\u003cbr\\u003erevenue=%{y}\\u003cbr\\u003etext=%{text}\\u003cextra\\u003e\\u003c\\u002fextra\\u003e\",\"legendgroup\":\"Chairs\",\"marker\":{\"color\":\"rgb(168, 219, 217)\",\"pattern\":{\"shape\":\"\"}},\"name\":\"Chairs\",\"offsetgroup\":\"Chairs\",\"orientation\":\"v\",\"showlegend\":true,\"text\":[\"6147748.80\"],\"textposition\":\"outside\",\"x\":[\"Chairs\"],\"xaxis\":\"x\",\"y\":[6147748.8],\"yaxis\":\"y\",\"type\":\"bar\"},{\"alignmentgroup\":\"True\",\"hovertemplate\":\"category=%{x}\\u003cbr\\u003erevenue=%{y}\\u003cbr\\u003etext=%{text}\\u003cextra\\u003e\\u003c\\u002fextra\\u003e\",\"legendgroup\":\"Beds\",\"marker\":{\"color\":\"rgb(133, 196, 201)\",\"pattern\":{\"shape\":\"\"}},\"name\":\"Beds\",\"offsetgroup\":\"Beds\",\"orientation\":\"v\",\"showlegend\":true,\"text\":[\"4919725.00\"],\"textposition\":\"outside\",\"x\":[\"Beds\"],\"xaxis\":\"x\",\"y\":[4919725.0],\"yaxis\":\"y\",\"type\":\"bar\"},{\"alignmentgroup\":\"True\",\"hovertemplate\":\"category=%{x}\\u003cbr\\u003erevenue=%{y}\\u003cbr\\u003etext=%{text}\\u003cextra\\u003e\\u003c\\u002fextra\\u003e\",\"legendgroup\":\"Bookcases & shelving units\",\"marker\":{\"color\":\"rgb(104, 171, 184)\",\"pattern\":{\"shape\":\"\"}},\"name\":\"Bookcases & shelving units\",\"offsetgroup\":\"Bookcases & shelving units\",\"orientation\":\"v\",\"showlegend\":true,\"text\":[\"3640818.10\"],\"textposition\":\"outside\",\"x\":[\"Bookcases & shelving units\"],\"xaxis\":\"x\",\"y\":[3640818.1],\"yaxis\":\"y\",\"type\":\"bar\"},{\"alignmentgroup\":\"True\",\"hovertemplate\":\"category=%{x}\\u003cbr\\u003erevenue=%{y}\\u003cbr\\u003etext=%{text}\\u003cextra\\u003e\\u003c\\u002fextra\\u003e\",\"legendgroup\":\"Cabinets & cupboards\",\"marker\":{\"color\":\"rgb(79, 144, 166)\",\"pattern\":{\"shape\":\"\"}},\"name\":\"Cabinets & cupboards\",\"offsetgroup\":\"Cabinets & cupboards\",\"orientation\":\"v\",\"showlegend\":true,\"text\":[\"2336499.50\"],\"textposition\":\"outside\",\"x\":[\"Cabinets & cupboards\"],\"xaxis\":\"x\",\"y\":[2336499.5],\"yaxis\":\"y\",\"type\":\"bar\"},{\"alignmentgroup\":\"True\",\"hovertemplate\":\"category=%{x}\\u003cbr\\u003erevenue=%{y}\\u003cbr\\u003etext=%{text}\\u003cextra\\u003e\\u003c\\u002fextra\\u003e\",\"legendgroup\":\"Outdoor furniture\",\"marker\":{\"color\":\"rgb(59, 115, 143)\",\"pattern\":{\"shape\":\"\"}},\"name\":\"Outdoor furniture\",\"offsetgroup\":\"Outdoor furniture\",\"orientation\":\"v\",\"showlegend\":true,\"text\":[\"2142222.20\"],\"textposition\":\"outside\",\"x\":[\"Outdoor furniture\"],\"xaxis\":\"x\",\"y\":[2142222.2],\"yaxis\":\"y\",\"type\":\"bar\"},{\"alignmentgroup\":\"True\",\"hovertemplate\":\"category=%{x}\\u003cbr\\u003erevenue=%{y}\\u003cbr\\u003etext=%{text}\\u003cextra\\u003e\\u003c\\u002fextra\\u003e\",\"legendgroup\":\"Tables & desks\",\"marker\":{\"color\":\"rgb(42, 86, 116)\",\"pattern\":{\"shape\":\"\"}},\"name\":\"Tables & desks\",\"offsetgroup\":\"Tables & desks\",\"orientation\":\"v\",\"showlegend\":true,\"text\":[\"1790307.50\"],\"textposition\":\"outside\",\"x\":[\"Tables & desks\"],\"xaxis\":\"x\",\"y\":[1790307.5],\"yaxis\":\"y\",\"type\":\"bar\"},{\"alignmentgroup\":\"True\",\"hovertemplate\":\"category=%{x}\\u003cbr\\u003erevenue=%{y}\\u003cbr\\u003etext=%{text}\\u003cextra\\u003e\\u003c\\u002fextra\\u003e\",\"legendgroup\":\"Chests of drawers & drawer units\",\"marker\":{\"color\":\"rgb(209, 238, 234)\",\"pattern\":{\"shape\":\"\"}},\"name\":\"Chests of drawers & drawer units\",\"offsetgroup\":\"Chests of drawers & drawer units\",\"orientation\":\"v\",\"showlegend\":true,\"text\":[\"906562.50\"],\"textposition\":\"outside\",\"x\":[\"Chests of drawers & drawer units\"],\"xaxis\":\"x\",\"y\":[906562.5],\"yaxis\":\"y\",\"type\":\"bar\"},{\"alignmentgroup\":\"True\",\"hovertemplate\":\"category=%{x}\\u003cbr\\u003erevenue=%{y}\\u003cbr\\u003etext=%{text}\\u003cextra\\u003e\\u003c\\u002fextra\\u003e\",\"legendgroup\":\"Bar furniture\",\"marker\":{\"color\":\"rgb(168, 219, 217)\",\"pattern\":{\"shape\":\"\"}},\"name\":\"Bar furniture\",\"offsetgroup\":\"Bar furniture\",\"orientation\":\"v\",\"showlegend\":true,\"text\":[\"735503.00\"],\"textposition\":\"outside\",\"x\":[\"Bar furniture\"],\"xaxis\":\"x\",\"y\":[735503.0],\"yaxis\":\"y\",\"type\":\"bar\"},{\"alignmentgroup\":\"True\",\"hovertemplate\":\"category=%{x}\\u003cbr\\u003erevenue=%{y}\\u003cbr\\u003etext=%{text}\\u003cextra\\u003e\\u003c\\u002fextra\\u003e\",\"legendgroup\":\"Children's furniture\",\"marker\":{\"color\":\"rgb(133, 196, 201)\",\"pattern\":{\"shape\":\"\"}},\"name\":\"Children's furniture\",\"offsetgroup\":\"Children's furniture\",\"orientation\":\"v\",\"showlegend\":true,\"text\":[\"467697.00\"],\"textposition\":\"outside\",\"x\":[\"Children's furniture\"],\"xaxis\":\"x\",\"y\":[467697.0],\"yaxis\":\"y\",\"type\":\"bar\"},{\"alignmentgroup\":\"True\",\"hovertemplate\":\"category=%{x}\\u003cbr\\u003erevenue=%{y}\\u003cbr\\u003etext=%{text}\\u003cextra\\u003e\\u003c\\u002fextra\\u003e\",\"legendgroup\":\"Nursery furniture\",\"marker\":{\"color\":\"rgb(104, 171, 184)\",\"pattern\":{\"shape\":\"\"}},\"name\":\"Nursery furniture\",\"offsetgroup\":\"Nursery furniture\",\"orientation\":\"v\",\"showlegend\":true,\"text\":[\"141607.00\"],\"textposition\":\"outside\",\"x\":[\"Nursery furniture\"],\"xaxis\":\"x\",\"y\":[141607.0],\"yaxis\":\"y\",\"type\":\"bar\"},{\"alignmentgroup\":\"True\",\"hovertemplate\":\"category=%{x}\\u003cbr\\u003erevenue=%{y}\\u003cbr\\u003etext=%{text}\\u003cextra\\u003e\\u003c\\u002fextra\\u003e\",\"legendgroup\":\"Café furniture\",\"marker\":{\"color\":\"rgb(79, 144, 166)\",\"pattern\":{\"shape\":\"\"}},\"name\":\"Café furniture\",\"offsetgroup\":\"Café furniture\",\"orientation\":\"v\",\"showlegend\":true,\"text\":[\"138168.00\"],\"textposition\":\"outside\",\"x\":[\"Café furniture\"],\"xaxis\":\"x\",\"y\":[138168.0],\"yaxis\":\"y\",\"type\":\"bar\"},{\"alignmentgroup\":\"True\",\"hovertemplate\":\"category=%{x}\\u003cbr\\u003erevenue=%{y}\\u003cbr\\u003etext=%{text}\\u003cextra\\u003e\\u003c\\u002fextra\\u003e\",\"legendgroup\":\"Sideboards, buffets & console tables\",\"marker\":{\"color\":\"rgb(59, 115, 143)\",\"pattern\":{\"shape\":\"\"}},\"name\":\"Sideboards, buffets & console tables\",\"offsetgroup\":\"Sideboards, buffets & console tables\",\"orientation\":\"v\",\"showlegend\":true,\"text\":[\"126330.00\"],\"textposition\":\"outside\",\"x\":[\"Sideboards, buffets & console tables\"],\"xaxis\":\"x\",\"y\":[126330.0],\"yaxis\":\"y\",\"type\":\"bar\"},{\"alignmentgroup\":\"True\",\"hovertemplate\":\"category=%{x}\\u003cbr\\u003erevenue=%{y}\\u003cbr\\u003etext=%{text}\\u003cextra\\u003e\\u003c\\u002fextra\\u003e\",\"legendgroup\":\"Room dividers\",\"marker\":{\"color\":\"rgb(42, 86, 116)\",\"pattern\":{\"shape\":\"\"}},\"name\":\"Room dividers\",\"offsetgroup\":\"Room dividers\",\"orientation\":\"v\",\"showlegend\":true,\"text\":[\"90288.00\"],\"textposition\":\"outside\",\"x\":[\"Room dividers\"],\"xaxis\":\"x\",\"y\":[90288.0],\"yaxis\":\"y\",\"type\":\"bar\"}],                        {\"template\":{\"data\":{\"barpolar\":[{\"marker\":{\"line\":{\"color\":\"white\",\"width\":0.5},\"pattern\":{\"fillmode\":\"overlay\",\"size\":10,\"solidity\":0.2}},\"type\":\"barpolar\"}],\"bar\":[{\"error_x\":{\"color\":\"#2a3f5f\"},\"error_y\":{\"color\":\"#2a3f5f\"},\"marker\":{\"line\":{\"color\":\"white\",\"width\":0.5},\"pattern\":{\"fillmode\":\"overlay\",\"size\":10,\"solidity\":0.2}},\"type\":\"bar\"}],\"carpet\":[{\"aaxis\":{\"endlinecolor\":\"#2a3f5f\",\"gridcolor\":\"#C8D4E3\",\"linecolor\":\"#C8D4E3\",\"minorgridcolor\":\"#C8D4E3\",\"startlinecolor\":\"#2a3f5f\"},\"baxis\":{\"endlinecolor\":\"#2a3f5f\",\"gridcolor\":\"#C8D4E3\",\"linecolor\":\"#C8D4E3\",\"minorgridcolor\":\"#C8D4E3\",\"startlinecolor\":\"#2a3f5f\"},\"type\":\"carpet\"}],\"choropleth\":[{\"colorbar\":{\"outlinewidth\":0,\"ticks\":\"\"},\"type\":\"choropleth\"}],\"contourcarpet\":[{\"colorbar\":{\"outlinewidth\":0,\"ticks\":\"\"},\"type\":\"contourcarpet\"}],\"contour\":[{\"colorbar\":{\"outlinewidth\":0,\"ticks\":\"\"},\"colorscale\":[[0.0,\"#0d0887\"],[0.1111111111111111,\"#46039f\"],[0.2222222222222222,\"#7201a8\"],[0.3333333333333333,\"#9c179e\"],[0.4444444444444444,\"#bd3786\"],[0.5555555555555556,\"#d8576b\"],[0.6666666666666666,\"#ed7953\"],[0.7777777777777778,\"#fb9f3a\"],[0.8888888888888888,\"#fdca26\"],[1.0,\"#f0f921\"]],\"type\":\"contour\"}],\"heatmapgl\":[{\"colorbar\":{\"outlinewidth\":0,\"ticks\":\"\"},\"colorscale\":[[0.0,\"#0d0887\"],[0.1111111111111111,\"#46039f\"],[0.2222222222222222,\"#7201a8\"],[0.3333333333333333,\"#9c179e\"],[0.4444444444444444,\"#bd3786\"],[0.5555555555555556,\"#d8576b\"],[0.6666666666666666,\"#ed7953\"],[0.7777777777777778,\"#fb9f3a\"],[0.8888888888888888,\"#fdca26\"],[1.0,\"#f0f921\"]],\"type\":\"heatmapgl\"}],\"heatmap\":[{\"colorbar\":{\"outlinewidth\":0,\"ticks\":\"\"},\"colorscale\":[[0.0,\"#0d0887\"],[0.1111111111111111,\"#46039f\"],[0.2222222222222222,\"#7201a8\"],[0.3333333333333333,\"#9c179e\"],[0.4444444444444444,\"#bd3786\"],[0.5555555555555556,\"#d8576b\"],[0.6666666666666666,\"#ed7953\"],[0.7777777777777778,\"#fb9f3a\"],[0.8888888888888888,\"#fdca26\"],[1.0,\"#f0f921\"]],\"type\":\"heatmap\"}],\"histogram2dcontour\":[{\"colorbar\":{\"outlinewidth\":0,\"ticks\":\"\"},\"colorscale\":[[0.0,\"#0d0887\"],[0.1111111111111111,\"#46039f\"],[0.2222222222222222,\"#7201a8\"],[0.3333333333333333,\"#9c179e\"],[0.4444444444444444,\"#bd3786\"],[0.5555555555555556,\"#d8576b\"],[0.6666666666666666,\"#ed7953\"],[0.7777777777777778,\"#fb9f3a\"],[0.8888888888888888,\"#fdca26\"],[1.0,\"#f0f921\"]],\"type\":\"histogram2dcontour\"}],\"histogram2d\":[{\"colorbar\":{\"outlinewidth\":0,\"ticks\":\"\"},\"colorscale\":[[0.0,\"#0d0887\"],[0.1111111111111111,\"#46039f\"],[0.2222222222222222,\"#7201a8\"],[0.3333333333333333,\"#9c179e\"],[0.4444444444444444,\"#bd3786\"],[0.5555555555555556,\"#d8576b\"],[0.6666666666666666,\"#ed7953\"],[0.7777777777777778,\"#fb9f3a\"],[0.8888888888888888,\"#fdca26\"],[1.0,\"#f0f921\"]],\"type\":\"histogram2d\"}],\"histogram\":[{\"marker\":{\"pattern\":{\"fillmode\":\"overlay\",\"size\":10,\"solidity\":0.2}},\"type\":\"histogram\"}],\"mesh3d\":[{\"colorbar\":{\"outlinewidth\":0,\"ticks\":\"\"},\"type\":\"mesh3d\"}],\"parcoords\":[{\"line\":{\"colorbar\":{\"outlinewidth\":0,\"ticks\":\"\"}},\"type\":\"parcoords\"}],\"pie\":[{\"automargin\":true,\"type\":\"pie\"}],\"scatter3d\":[{\"line\":{\"colorbar\":{\"outlinewidth\":0,\"ticks\":\"\"}},\"marker\":{\"colorbar\":{\"outlinewidth\":0,\"ticks\":\"\"}},\"type\":\"scatter3d\"}],\"scattercarpet\":[{\"marker\":{\"colorbar\":{\"outlinewidth\":0,\"ticks\":\"\"}},\"type\":\"scattercarpet\"}],\"scattergeo\":[{\"marker\":{\"colorbar\":{\"outlinewidth\":0,\"ticks\":\"\"}},\"type\":\"scattergeo\"}],\"scattergl\":[{\"marker\":{\"colorbar\":{\"outlinewidth\":0,\"ticks\":\"\"}},\"type\":\"scattergl\"}],\"scattermapbox\":[{\"marker\":{\"colorbar\":{\"outlinewidth\":0,\"ticks\":\"\"}},\"type\":\"scattermapbox\"}],\"scatterpolargl\":[{\"marker\":{\"colorbar\":{\"outlinewidth\":0,\"ticks\":\"\"}},\"type\":\"scatterpolargl\"}],\"scatterpolar\":[{\"marker\":{\"colorbar\":{\"outlinewidth\":0,\"ticks\":\"\"}},\"type\":\"scatterpolar\"}],\"scatter\":[{\"fillpattern\":{\"fillmode\":\"overlay\",\"size\":10,\"solidity\":0.2},\"type\":\"scatter\"}],\"scatterternary\":[{\"marker\":{\"colorbar\":{\"outlinewidth\":0,\"ticks\":\"\"}},\"type\":\"scatterternary\"}],\"surface\":[{\"colorbar\":{\"outlinewidth\":0,\"ticks\":\"\"},\"colorscale\":[[0.0,\"#0d0887\"],[0.1111111111111111,\"#46039f\"],[0.2222222222222222,\"#7201a8\"],[0.3333333333333333,\"#9c179e\"],[0.4444444444444444,\"#bd3786\"],[0.5555555555555556,\"#d8576b\"],[0.6666666666666666,\"#ed7953\"],[0.7777777777777778,\"#fb9f3a\"],[0.8888888888888888,\"#fdca26\"],[1.0,\"#f0f921\"]],\"type\":\"surface\"}],\"table\":[{\"cells\":{\"fill\":{\"color\":\"#EBF0F8\"},\"line\":{\"color\":\"white\"}},\"header\":{\"fill\":{\"color\":\"#C8D4E3\"},\"line\":{\"color\":\"white\"}},\"type\":\"table\"}]},\"layout\":{\"annotationdefaults\":{\"arrowcolor\":\"#2a3f5f\",\"arrowhead\":0,\"arrowwidth\":1},\"autotypenumbers\":\"strict\",\"coloraxis\":{\"colorbar\":{\"outlinewidth\":0,\"ticks\":\"\"}},\"colorscale\":{\"diverging\":[[0,\"#8e0152\"],[0.1,\"#c51b7d\"],[0.2,\"#de77ae\"],[0.3,\"#f1b6da\"],[0.4,\"#fde0ef\"],[0.5,\"#f7f7f7\"],[0.6,\"#e6f5d0\"],[0.7,\"#b8e186\"],[0.8,\"#7fbc41\"],[0.9,\"#4d9221\"],[1,\"#276419\"]],\"sequential\":[[0.0,\"#0d0887\"],[0.1111111111111111,\"#46039f\"],[0.2222222222222222,\"#7201a8\"],[0.3333333333333333,\"#9c179e\"],[0.4444444444444444,\"#bd3786\"],[0.5555555555555556,\"#d8576b\"],[0.6666666666666666,\"#ed7953\"],[0.7777777777777778,\"#fb9f3a\"],[0.8888888888888888,\"#fdca26\"],[1.0,\"#f0f921\"]],\"sequentialminus\":[[0.0,\"#0d0887\"],[0.1111111111111111,\"#46039f\"],[0.2222222222222222,\"#7201a8\"],[0.3333333333333333,\"#9c179e\"],[0.4444444444444444,\"#bd3786\"],[0.5555555555555556,\"#d8576b\"],[0.6666666666666666,\"#ed7953\"],[0.7777777777777778,\"#fb9f3a\"],[0.8888888888888888,\"#fdca26\"],[1.0,\"#f0f921\"]]},\"colorway\":[\"#636efa\",\"#EF553B\",\"#00cc96\",\"#ab63fa\",\"#FFA15A\",\"#19d3f3\",\"#FF6692\",\"#B6E880\",\"#FF97FF\",\"#FECB52\"],\"font\":{\"color\":\"#2a3f5f\"},\"geo\":{\"bgcolor\":\"white\",\"lakecolor\":\"white\",\"landcolor\":\"white\",\"showlakes\":true,\"showland\":true,\"subunitcolor\":\"#C8D4E3\"},\"hoverlabel\":{\"align\":\"left\"},\"hovermode\":\"closest\",\"mapbox\":{\"style\":\"light\"},\"paper_bgcolor\":\"white\",\"plot_bgcolor\":\"white\",\"polar\":{\"angularaxis\":{\"gridcolor\":\"#EBF0F8\",\"linecolor\":\"#EBF0F8\",\"ticks\":\"\"},\"bgcolor\":\"white\",\"radialaxis\":{\"gridcolor\":\"#EBF0F8\",\"linecolor\":\"#EBF0F8\",\"ticks\":\"\"}},\"scene\":{\"xaxis\":{\"backgroundcolor\":\"white\",\"gridcolor\":\"#DFE8F3\",\"gridwidth\":2,\"linecolor\":\"#EBF0F8\",\"showbackground\":true,\"ticks\":\"\",\"zerolinecolor\":\"#EBF0F8\"},\"yaxis\":{\"backgroundcolor\":\"white\",\"gridcolor\":\"#DFE8F3\",\"gridwidth\":2,\"linecolor\":\"#EBF0F8\",\"showbackground\":true,\"ticks\":\"\",\"zerolinecolor\":\"#EBF0F8\"},\"zaxis\":{\"backgroundcolor\":\"white\",\"gridcolor\":\"#DFE8F3\",\"gridwidth\":2,\"linecolor\":\"#EBF0F8\",\"showbackground\":true,\"ticks\":\"\",\"zerolinecolor\":\"#EBF0F8\"}},\"shapedefaults\":{\"line\":{\"color\":\"#2a3f5f\"}},\"ternary\":{\"aaxis\":{\"gridcolor\":\"#DFE8F3\",\"linecolor\":\"#A2B1C6\",\"ticks\":\"\"},\"baxis\":{\"gridcolor\":\"#DFE8F3\",\"linecolor\":\"#A2B1C6\",\"ticks\":\"\"},\"bgcolor\":\"white\",\"caxis\":{\"gridcolor\":\"#DFE8F3\",\"linecolor\":\"#A2B1C6\",\"ticks\":\"\"}},\"title\":{\"x\":0.05},\"xaxis\":{\"automargin\":true,\"gridcolor\":\"#EBF0F8\",\"linecolor\":\"#EBF0F8\",\"ticks\":\"\",\"title\":{\"standoff\":15},\"zerolinecolor\":\"#EBF0F8\",\"zerolinewidth\":2},\"yaxis\":{\"automargin\":true,\"gridcolor\":\"#EBF0F8\",\"linecolor\":\"#EBF0F8\",\"ticks\":\"\",\"title\":{\"standoff\":15},\"zerolinecolor\":\"#EBF0F8\",\"zerolinewidth\":2}}},\"xaxis\":{\"anchor\":\"y\",\"domain\":[0.0,1.0],\"title\":{\"text\":\"Категорія\"},\"categoryorder\":\"array\",\"categoryarray\":[\"Sofas & armchairs\",\"Chairs\",\"Beds\",\"Bookcases & shelving units\",\"Cabinets & cupboards\",\"Outdoor furniture\",\"Tables & desks\",\"Chests of drawers & drawer units\",\"Bar furniture\",\"Children's furniture\",\"Nursery furniture\",\"Café furniture\",\"Sideboards, buffets & console tables\",\"Room dividers\"],\"tickangle\":45},\"yaxis\":{\"anchor\":\"x\",\"domain\":[0.0,1.0],\"title\":{\"text\":\"Ревеню (грн)\"},\"range\":[0,10065905.4]},\"legend\":{\"title\":{\"text\":\"category\"},\"tracegroupgap\":0},\"title\":{\"text\":\"продажів у грошовому вираженні за категоріями\"},\"barmode\":\"relative\",\"showlegend\":false,\"height\":500,\"width\":1000},                        {\"responsive\": true}                    ).then(function(){\n",
              "                            \n",
              "var gd = document.getElementById('9622157c-d985-4c4e-b2d5-4acd09e5200e');\n",
              "var x = new MutationObserver(function (mutations, observer) {{\n",
              "        var display = window.getComputedStyle(gd).display;\n",
              "        if (!display || display === 'none') {{\n",
              "            console.log([gd, 'removed!']);\n",
              "            Plotly.purge(gd);\n",
              "            observer.disconnect();\n",
              "        }}\n",
              "}});\n",
              "\n",
              "// Listen for the removal of the full notebook cells\n",
              "var notebookContainer = gd.closest('#notebook-container');\n",
              "if (notebookContainer) {{\n",
              "    x.observe(notebookContainer, {childList: true});\n",
              "}}\n",
              "\n",
              "// Listen for the clearing of the current output cell\n",
              "var outputEl = gd.closest('.output');\n",
              "if (outputEl) {{\n",
              "    x.observe(outputEl, {childList: true});\n",
              "}}\n",
              "\n",
              "                        })                };                            </script>        </div>\n",
              "</body>\n",
              "</html>"
            ]
          },
          "metadata": {}
        }
      ]
    },
    {
      "cell_type": "code",
      "source": [
        "#6 Продажі у грошовому вираженні серед підписаних та не підписаних користувачів\n",
        "total_users = df['user_id'].nunique()\n",
        "if total_users > 0:\n",
        "    verified_pct = df[df['is_verified'] == 1]['user_id'].nunique() / total_users * 100\n",
        "    unsubscribed_pct = df[df['is_unsubscribed'] == 1]['user_id'].nunique() / total_users * 100\n",
        "else:\n",
        "    verified_pct = unsubscribed_pct = 0\n",
        "agg_df = df[df['is_unsubscribed'].notnull()].groupby('is_unsubscribed').agg({\n",
        "    'price': lambda x: (x * df.loc[x.index, 'is_purchase']).sum()\n",
        "}).rename(columns={'price': 'revenue'}).reset_index()\n",
        "agg_df['status'] = agg_df['is_unsubscribed'].map({0: 'Підписники', 1: 'Відписалися'})\n",
        "fig = px.bar(\n",
        "    agg_df,\n",
        "    x='status',\n",
        "    y='revenue',\n",
        "    text=agg_df['revenue'].apply(lambda x: f'{x:.2f}'),\n",
        "    color_discrete_sequence=['#00e6e6'],\n",
        "    title='Дохід за статусом підписки',\n",
        "    labels={'status': 'Статус підписки', 'revenue': 'Ревеню'}\n",
        ")\n",
        "fig.update_traces(textposition='outside')\n",
        "fig.update_layout(\n",
        "    yaxis_range=[0, agg_df['revenue'].max() * 1.2],\n",
        "    template='plotly_white',\n",
        "    height=500,\n",
        "    width=500,\n",
        "    showlegend=False,\n",
        "    annotations=[\n",
        "        dict(\n",
        "            x=0.5,\n",
        "            y=1.15,\n",
        "            xref='paper',\n",
        "            yref='paper',\n",
        "            text=f'Верифіковані: {verified_pct:.2f}% | Відписалися: {unsubscribed_pct:.2f}%',\n",
        "            showarrow=False,\n",
        "            font=dict(size=12)\n",
        "        )\n",
        "    ]\n",
        ")\n",
        "fig.show()"
      ],
      "metadata": {
        "colab": {
          "base_uri": "https://localhost:8080/",
          "height": 517
        },
        "id": "CfNJMrs6hwiB",
        "outputId": "cbd0264f-e154-4b04-d58c-265dcc94a66d"
      },
      "execution_count": null,
      "outputs": [
        {
          "output_type": "display_data",
          "data": {
            "text/html": [
              "<html>\n",
              "<head><meta charset=\"utf-8\" /></head>\n",
              "<body>\n",
              "    <div>            <script src=\"https://cdnjs.cloudflare.com/ajax/libs/mathjax/2.7.5/MathJax.js?config=TeX-AMS-MML_SVG\"></script><script type=\"text/javascript\">if (window.MathJax && window.MathJax.Hub && window.MathJax.Hub.Config) {window.MathJax.Hub.Config({SVG: {font: \"STIX-Web\"}});}</script>                <script type=\"text/javascript\">window.PlotlyConfig = {MathJaxConfig: 'local'};</script>\n",
              "        <script charset=\"utf-8\" src=\"https://cdn.plot.ly/plotly-2.35.2.min.js\"></script>                <div id=\"d58812b7-0c20-4c18-b7d5-0ceebdde92b3\" class=\"plotly-graph-div\" style=\"height:500px; width:500px;\"></div>            <script type=\"text/javascript\">                                    window.PLOTLYENV=window.PLOTLYENV || {};                                    if (document.getElementById(\"d58812b7-0c20-4c18-b7d5-0ceebdde92b3\")) {                    Plotly.newPlot(                        \"d58812b7-0c20-4c18-b7d5-0ceebdde92b3\",                        [{\"alignmentgroup\":\"True\",\"hovertemplate\":\"Статус підписки=%{x}\\u003cbr\\u003eРевеню=%{y}\\u003cbr\\u003etext=%{text}\\u003cextra\\u003e\\u003c\\u002fextra\\u003e\",\"legendgroup\":\"\",\"marker\":{\"color\":\"#00e6e6\",\"pattern\":{\"shape\":\"\"}},\"name\":\"\",\"offsetgroup\":\"\",\"orientation\":\"v\",\"showlegend\":false,\"text\":[\"2150796.90\",\"431721.60\"],\"textposition\":\"outside\",\"x\":[\"Підписники\",\"Відписалися\"],\"xaxis\":\"x\",\"y\":[2150796.9,431721.6],\"yaxis\":\"y\",\"type\":\"bar\"}],                        {\"template\":{\"data\":{\"barpolar\":[{\"marker\":{\"line\":{\"color\":\"white\",\"width\":0.5},\"pattern\":{\"fillmode\":\"overlay\",\"size\":10,\"solidity\":0.2}},\"type\":\"barpolar\"}],\"bar\":[{\"error_x\":{\"color\":\"#2a3f5f\"},\"error_y\":{\"color\":\"#2a3f5f\"},\"marker\":{\"line\":{\"color\":\"white\",\"width\":0.5},\"pattern\":{\"fillmode\":\"overlay\",\"size\":10,\"solidity\":0.2}},\"type\":\"bar\"}],\"carpet\":[{\"aaxis\":{\"endlinecolor\":\"#2a3f5f\",\"gridcolor\":\"#C8D4E3\",\"linecolor\":\"#C8D4E3\",\"minorgridcolor\":\"#C8D4E3\",\"startlinecolor\":\"#2a3f5f\"},\"baxis\":{\"endlinecolor\":\"#2a3f5f\",\"gridcolor\":\"#C8D4E3\",\"linecolor\":\"#C8D4E3\",\"minorgridcolor\":\"#C8D4E3\",\"startlinecolor\":\"#2a3f5f\"},\"type\":\"carpet\"}],\"choropleth\":[{\"colorbar\":{\"outlinewidth\":0,\"ticks\":\"\"},\"type\":\"choropleth\"}],\"contourcarpet\":[{\"colorbar\":{\"outlinewidth\":0,\"ticks\":\"\"},\"type\":\"contourcarpet\"}],\"contour\":[{\"colorbar\":{\"outlinewidth\":0,\"ticks\":\"\"},\"colorscale\":[[0.0,\"#0d0887\"],[0.1111111111111111,\"#46039f\"],[0.2222222222222222,\"#7201a8\"],[0.3333333333333333,\"#9c179e\"],[0.4444444444444444,\"#bd3786\"],[0.5555555555555556,\"#d8576b\"],[0.6666666666666666,\"#ed7953\"],[0.7777777777777778,\"#fb9f3a\"],[0.8888888888888888,\"#fdca26\"],[1.0,\"#f0f921\"]],\"type\":\"contour\"}],\"heatmapgl\":[{\"colorbar\":{\"outlinewidth\":0,\"ticks\":\"\"},\"colorscale\":[[0.0,\"#0d0887\"],[0.1111111111111111,\"#46039f\"],[0.2222222222222222,\"#7201a8\"],[0.3333333333333333,\"#9c179e\"],[0.4444444444444444,\"#bd3786\"],[0.5555555555555556,\"#d8576b\"],[0.6666666666666666,\"#ed7953\"],[0.7777777777777778,\"#fb9f3a\"],[0.8888888888888888,\"#fdca26\"],[1.0,\"#f0f921\"]],\"type\":\"heatmapgl\"}],\"heatmap\":[{\"colorbar\":{\"outlinewidth\":0,\"ticks\":\"\"},\"colorscale\":[[0.0,\"#0d0887\"],[0.1111111111111111,\"#46039f\"],[0.2222222222222222,\"#7201a8\"],[0.3333333333333333,\"#9c179e\"],[0.4444444444444444,\"#bd3786\"],[0.5555555555555556,\"#d8576b\"],[0.6666666666666666,\"#ed7953\"],[0.7777777777777778,\"#fb9f3a\"],[0.8888888888888888,\"#fdca26\"],[1.0,\"#f0f921\"]],\"type\":\"heatmap\"}],\"histogram2dcontour\":[{\"colorbar\":{\"outlinewidth\":0,\"ticks\":\"\"},\"colorscale\":[[0.0,\"#0d0887\"],[0.1111111111111111,\"#46039f\"],[0.2222222222222222,\"#7201a8\"],[0.3333333333333333,\"#9c179e\"],[0.4444444444444444,\"#bd3786\"],[0.5555555555555556,\"#d8576b\"],[0.6666666666666666,\"#ed7953\"],[0.7777777777777778,\"#fb9f3a\"],[0.8888888888888888,\"#fdca26\"],[1.0,\"#f0f921\"]],\"type\":\"histogram2dcontour\"}],\"histogram2d\":[{\"colorbar\":{\"outlinewidth\":0,\"ticks\":\"\"},\"colorscale\":[[0.0,\"#0d0887\"],[0.1111111111111111,\"#46039f\"],[0.2222222222222222,\"#7201a8\"],[0.3333333333333333,\"#9c179e\"],[0.4444444444444444,\"#bd3786\"],[0.5555555555555556,\"#d8576b\"],[0.6666666666666666,\"#ed7953\"],[0.7777777777777778,\"#fb9f3a\"],[0.8888888888888888,\"#fdca26\"],[1.0,\"#f0f921\"]],\"type\":\"histogram2d\"}],\"histogram\":[{\"marker\":{\"pattern\":{\"fillmode\":\"overlay\",\"size\":10,\"solidity\":0.2}},\"type\":\"histogram\"}],\"mesh3d\":[{\"colorbar\":{\"outlinewidth\":0,\"ticks\":\"\"},\"type\":\"mesh3d\"}],\"parcoords\":[{\"line\":{\"colorbar\":{\"outlinewidth\":0,\"ticks\":\"\"}},\"type\":\"parcoords\"}],\"pie\":[{\"automargin\":true,\"type\":\"pie\"}],\"scatter3d\":[{\"line\":{\"colorbar\":{\"outlinewidth\":0,\"ticks\":\"\"}},\"marker\":{\"colorbar\":{\"outlinewidth\":0,\"ticks\":\"\"}},\"type\":\"scatter3d\"}],\"scattercarpet\":[{\"marker\":{\"colorbar\":{\"outlinewidth\":0,\"ticks\":\"\"}},\"type\":\"scattercarpet\"}],\"scattergeo\":[{\"marker\":{\"colorbar\":{\"outlinewidth\":0,\"ticks\":\"\"}},\"type\":\"scattergeo\"}],\"scattergl\":[{\"marker\":{\"colorbar\":{\"outlinewidth\":0,\"ticks\":\"\"}},\"type\":\"scattergl\"}],\"scattermapbox\":[{\"marker\":{\"colorbar\":{\"outlinewidth\":0,\"ticks\":\"\"}},\"type\":\"scattermapbox\"}],\"scatterpolargl\":[{\"marker\":{\"colorbar\":{\"outlinewidth\":0,\"ticks\":\"\"}},\"type\":\"scatterpolargl\"}],\"scatterpolar\":[{\"marker\":{\"colorbar\":{\"outlinewidth\":0,\"ticks\":\"\"}},\"type\":\"scatterpolar\"}],\"scatter\":[{\"fillpattern\":{\"fillmode\":\"overlay\",\"size\":10,\"solidity\":0.2},\"type\":\"scatter\"}],\"scatterternary\":[{\"marker\":{\"colorbar\":{\"outlinewidth\":0,\"ticks\":\"\"}},\"type\":\"scatterternary\"}],\"surface\":[{\"colorbar\":{\"outlinewidth\":0,\"ticks\":\"\"},\"colorscale\":[[0.0,\"#0d0887\"],[0.1111111111111111,\"#46039f\"],[0.2222222222222222,\"#7201a8\"],[0.3333333333333333,\"#9c179e\"],[0.4444444444444444,\"#bd3786\"],[0.5555555555555556,\"#d8576b\"],[0.6666666666666666,\"#ed7953\"],[0.7777777777777778,\"#fb9f3a\"],[0.8888888888888888,\"#fdca26\"],[1.0,\"#f0f921\"]],\"type\":\"surface\"}],\"table\":[{\"cells\":{\"fill\":{\"color\":\"#EBF0F8\"},\"line\":{\"color\":\"white\"}},\"header\":{\"fill\":{\"color\":\"#C8D4E3\"},\"line\":{\"color\":\"white\"}},\"type\":\"table\"}]},\"layout\":{\"annotationdefaults\":{\"arrowcolor\":\"#2a3f5f\",\"arrowhead\":0,\"arrowwidth\":1},\"autotypenumbers\":\"strict\",\"coloraxis\":{\"colorbar\":{\"outlinewidth\":0,\"ticks\":\"\"}},\"colorscale\":{\"diverging\":[[0,\"#8e0152\"],[0.1,\"#c51b7d\"],[0.2,\"#de77ae\"],[0.3,\"#f1b6da\"],[0.4,\"#fde0ef\"],[0.5,\"#f7f7f7\"],[0.6,\"#e6f5d0\"],[0.7,\"#b8e186\"],[0.8,\"#7fbc41\"],[0.9,\"#4d9221\"],[1,\"#276419\"]],\"sequential\":[[0.0,\"#0d0887\"],[0.1111111111111111,\"#46039f\"],[0.2222222222222222,\"#7201a8\"],[0.3333333333333333,\"#9c179e\"],[0.4444444444444444,\"#bd3786\"],[0.5555555555555556,\"#d8576b\"],[0.6666666666666666,\"#ed7953\"],[0.7777777777777778,\"#fb9f3a\"],[0.8888888888888888,\"#fdca26\"],[1.0,\"#f0f921\"]],\"sequentialminus\":[[0.0,\"#0d0887\"],[0.1111111111111111,\"#46039f\"],[0.2222222222222222,\"#7201a8\"],[0.3333333333333333,\"#9c179e\"],[0.4444444444444444,\"#bd3786\"],[0.5555555555555556,\"#d8576b\"],[0.6666666666666666,\"#ed7953\"],[0.7777777777777778,\"#fb9f3a\"],[0.8888888888888888,\"#fdca26\"],[1.0,\"#f0f921\"]]},\"colorway\":[\"#636efa\",\"#EF553B\",\"#00cc96\",\"#ab63fa\",\"#FFA15A\",\"#19d3f3\",\"#FF6692\",\"#B6E880\",\"#FF97FF\",\"#FECB52\"],\"font\":{\"color\":\"#2a3f5f\"},\"geo\":{\"bgcolor\":\"white\",\"lakecolor\":\"white\",\"landcolor\":\"white\",\"showlakes\":true,\"showland\":true,\"subunitcolor\":\"#C8D4E3\"},\"hoverlabel\":{\"align\":\"left\"},\"hovermode\":\"closest\",\"mapbox\":{\"style\":\"light\"},\"paper_bgcolor\":\"white\",\"plot_bgcolor\":\"white\",\"polar\":{\"angularaxis\":{\"gridcolor\":\"#EBF0F8\",\"linecolor\":\"#EBF0F8\",\"ticks\":\"\"},\"bgcolor\":\"white\",\"radialaxis\":{\"gridcolor\":\"#EBF0F8\",\"linecolor\":\"#EBF0F8\",\"ticks\":\"\"}},\"scene\":{\"xaxis\":{\"backgroundcolor\":\"white\",\"gridcolor\":\"#DFE8F3\",\"gridwidth\":2,\"linecolor\":\"#EBF0F8\",\"showbackground\":true,\"ticks\":\"\",\"zerolinecolor\":\"#EBF0F8\"},\"yaxis\":{\"backgroundcolor\":\"white\",\"gridcolor\":\"#DFE8F3\",\"gridwidth\":2,\"linecolor\":\"#EBF0F8\",\"showbackground\":true,\"ticks\":\"\",\"zerolinecolor\":\"#EBF0F8\"},\"zaxis\":{\"backgroundcolor\":\"white\",\"gridcolor\":\"#DFE8F3\",\"gridwidth\":2,\"linecolor\":\"#EBF0F8\",\"showbackground\":true,\"ticks\":\"\",\"zerolinecolor\":\"#EBF0F8\"}},\"shapedefaults\":{\"line\":{\"color\":\"#2a3f5f\"}},\"ternary\":{\"aaxis\":{\"gridcolor\":\"#DFE8F3\",\"linecolor\":\"#A2B1C6\",\"ticks\":\"\"},\"baxis\":{\"gridcolor\":\"#DFE8F3\",\"linecolor\":\"#A2B1C6\",\"ticks\":\"\"},\"bgcolor\":\"white\",\"caxis\":{\"gridcolor\":\"#DFE8F3\",\"linecolor\":\"#A2B1C6\",\"ticks\":\"\"}},\"title\":{\"x\":0.05},\"xaxis\":{\"automargin\":true,\"gridcolor\":\"#EBF0F8\",\"linecolor\":\"#EBF0F8\",\"ticks\":\"\",\"title\":{\"standoff\":15},\"zerolinecolor\":\"#EBF0F8\",\"zerolinewidth\":2},\"yaxis\":{\"automargin\":true,\"gridcolor\":\"#EBF0F8\",\"linecolor\":\"#EBF0F8\",\"ticks\":\"\",\"title\":{\"standoff\":15},\"zerolinecolor\":\"#EBF0F8\",\"zerolinewidth\":2}}},\"xaxis\":{\"anchor\":\"y\",\"domain\":[0.0,1.0],\"title\":{\"text\":\"Статус підписки\"}},\"yaxis\":{\"anchor\":\"x\",\"domain\":[0.0,1.0],\"title\":{\"text\":\"Ревеню\"},\"range\":[0,2580956.28]},\"legend\":{\"tracegroupgap\":0},\"title\":{\"text\":\"Дохід за статусом підписки\"},\"barmode\":\"relative\",\"height\":500,\"width\":500,\"showlegend\":false,\"annotations\":[{\"font\":{\"size\":12},\"showarrow\":false,\"text\":\"Верифіковані: 71.70% | Відписалися: 16.94%\",\"x\":0.5,\"xref\":\"paper\",\"y\":1.15,\"yref\":\"paper\"}]},                        {\"responsive\": true}                    ).then(function(){\n",
              "                            \n",
              "var gd = document.getElementById('d58812b7-0c20-4c18-b7d5-0ceebdde92b3');\n",
              "var x = new MutationObserver(function (mutations, observer) {{\n",
              "        var display = window.getComputedStyle(gd).display;\n",
              "        if (!display || display === 'none') {{\n",
              "            console.log([gd, 'removed!']);\n",
              "            Plotly.purge(gd);\n",
              "            observer.disconnect();\n",
              "        }}\n",
              "}});\n",
              "\n",
              "// Listen for the removal of the full notebook cells\n",
              "var notebookContainer = gd.closest('#notebook-container');\n",
              "if (notebookContainer) {{\n",
              "    x.observe(notebookContainer, {childList: true});\n",
              "}}\n",
              "\n",
              "// Listen for the clearing of the current output cell\n",
              "var outputEl = gd.closest('.output');\n",
              "if (outputEl) {{\n",
              "    x.observe(outputEl, {childList: true});\n",
              "}}\n",
              "\n",
              "                        })                };                            </script>        </div>\n",
              "</body>\n",
              "</html>"
            ]
          },
          "metadata": {}
        }
      ]
    },
    {
      "cell_type": "markdown",
      "source": [
        "Дохід за статусом підписки\n",
        "\n",
        "- **Підписники**:  приносять дохід в сумі 31 540 009.50  \n",
        "- **Відписалися**: приносять дохід в сумі 431 721.60  \n",
        "Висновки\n",
        "- Основний обсяг доходу формується за рахунок **поточних підписників**.  \n",
        "- Частка користувачів, які відписалися, приносить мінімальний дохід у порівнянні з активними підписниками.  "
      ],
      "metadata": {
        "id": "vHB4qud9KDqI"
      }
    },
    {
      "cell_type": "code",
      "source": [
        "#7 Сума доходу за каналом для покупок\n",
        "revenue_by_channel = df[df['is_purchase'] == True].groupby('channel')['price'].sum().reset_index(name='revenue')\n",
        "revenue_by_channel = revenue_by_channel.sort_values('revenue', ascending=False)\n",
        "\n",
        "fig = px.bar(\n",
        "    revenue_by_channel,\n",
        "    x='channel',\n",
        "    y='revenue',\n",
        "    text=revenue_by_channel['revenue'].apply(lambda x: f'{x:.2f}'),\n",
        "    title='Дохід за каналами',\n",
        "    color='channel',\n",
        "    color_discrete_sequence=px.colors.sequential.Teal\n",
        ")\n",
        "\n",
        "fig.update_traces(textposition='outside')\n",
        "fig.update_layout(\n",
        "    xaxis_title='Канал',\n",
        "    yaxis_title='Дохід ',\n",
        "    xaxis_tickangle=45,\n",
        "    showlegend=False,\n",
        "    template='plotly_white',\n",
        "    height=500,\n",
        "    width=1000,\n",
        "    yaxis_range=[0, revenue_by_channel['revenue'].max() * 1.2]\n",
        ")\n",
        "\n",
        "fig.show()"
      ],
      "metadata": {
        "colab": {
          "base_uri": "https://localhost:8080/",
          "height": 517
        },
        "id": "L0P8ctfZn29Z",
        "outputId": "d824df3a-9177-480d-d323-247aa75c9361"
      },
      "execution_count": null,
      "outputs": [
        {
          "output_type": "display_data",
          "data": {
            "text/html": [
              "<html>\n",
              "<head><meta charset=\"utf-8\" /></head>\n",
              "<body>\n",
              "    <div>            <script src=\"https://cdnjs.cloudflare.com/ajax/libs/mathjax/2.7.5/MathJax.js?config=TeX-AMS-MML_SVG\"></script><script type=\"text/javascript\">if (window.MathJax && window.MathJax.Hub && window.MathJax.Hub.Config) {window.MathJax.Hub.Config({SVG: {font: \"STIX-Web\"}});}</script>                <script type=\"text/javascript\">window.PlotlyConfig = {MathJaxConfig: 'local'};</script>\n",
              "        <script charset=\"utf-8\" src=\"https://cdn.plot.ly/plotly-2.35.2.min.js\"></script>                <div id=\"2e19fb7f-ce30-49f0-b5ef-351aea84ec6e\" class=\"plotly-graph-div\" style=\"height:500px; width:1000px;\"></div>            <script type=\"text/javascript\">                                    window.PLOTLYENV=window.PLOTLYENV || {};                                    if (document.getElementById(\"2e19fb7f-ce30-49f0-b5ef-351aea84ec6e\")) {                    Plotly.newPlot(                        \"2e19fb7f-ce30-49f0-b5ef-351aea84ec6e\",                        [{\"alignmentgroup\":\"True\",\"hovertemplate\":\"channel=%{x}\\u003cbr\\u003erevenue=%{y}\\u003cbr\\u003etext=%{text}\\u003cextra\\u003e\\u003c\\u002fextra\\u003e\",\"legendgroup\":\"Organic Search\",\"marker\":{\"color\":\"rgb(209, 238, 234)\",\"pattern\":{\"shape\":\"\"}},\"name\":\"Organic Search\",\"offsetgroup\":\"Organic Search\",\"orientation\":\"v\",\"showlegend\":true,\"text\":[\"11433151.60\"],\"textposition\":\"outside\",\"x\":[\"Organic Search\"],\"xaxis\":\"x\",\"y\":[11433151.6],\"yaxis\":\"y\",\"type\":\"bar\"},{\"alignmentgroup\":\"True\",\"hovertemplate\":\"channel=%{x}\\u003cbr\\u003erevenue=%{y}\\u003cbr\\u003etext=%{text}\\u003cextra\\u003e\\u003c\\u002fextra\\u003e\",\"legendgroup\":\"Paid Search\",\"marker\":{\"color\":\"rgb(168, 219, 217)\",\"pattern\":{\"shape\":\"\"}},\"name\":\"Paid Search\",\"offsetgroup\":\"Paid Search\",\"orientation\":\"v\",\"showlegend\":true,\"text\":[\"8511049.40\"],\"textposition\":\"outside\",\"x\":[\"Paid Search\"],\"xaxis\":\"x\",\"y\":[8511049.4],\"yaxis\":\"y\",\"type\":\"bar\"},{\"alignmentgroup\":\"True\",\"hovertemplate\":\"channel=%{x}\\u003cbr\\u003erevenue=%{y}\\u003cbr\\u003etext=%{text}\\u003cextra\\u003e\\u003c\\u002fextra\\u003e\",\"legendgroup\":\"Direct\",\"marker\":{\"color\":\"rgb(133, 196, 201)\",\"pattern\":{\"shape\":\"\"}},\"name\":\"Direct\",\"offsetgroup\":\"Direct\",\"orientation\":\"v\",\"showlegend\":true,\"text\":[\"7494923.40\"],\"textposition\":\"outside\",\"x\":[\"Direct\"],\"xaxis\":\"x\",\"y\":[7494923.4],\"yaxis\":\"y\",\"type\":\"bar\"},{\"alignmentgroup\":\"True\",\"hovertemplate\":\"channel=%{x}\\u003cbr\\u003erevenue=%{y}\\u003cbr\\u003etext=%{text}\\u003cextra\\u003e\\u003c\\u002fextra\\u003e\",\"legendgroup\":\"Social Search\",\"marker\":{\"color\":\"rgb(104, 171, 184)\",\"pattern\":{\"shape\":\"\"}},\"name\":\"Social Search\",\"offsetgroup\":\"Social Search\",\"orientation\":\"v\",\"showlegend\":true,\"text\":[\"2532105.70\"],\"textposition\":\"outside\",\"x\":[\"Social Search\"],\"xaxis\":\"x\",\"y\":[2532105.7],\"yaxis\":\"y\",\"type\":\"bar\"},{\"alignmentgroup\":\"True\",\"hovertemplate\":\"channel=%{x}\\u003cbr\\u003erevenue=%{y}\\u003cbr\\u003etext=%{text}\\u003cextra\\u003e\\u003c\\u002fextra\\u003e\",\"legendgroup\":\"Undefined\",\"marker\":{\"color\":\"rgb(79, 144, 166)\",\"pattern\":{\"shape\":\"\"}},\"name\":\"Undefined\",\"offsetgroup\":\"Undefined\",\"orientation\":\"v\",\"showlegend\":true,\"text\":[\"2000501.00\"],\"textposition\":\"outside\",\"x\":[\"Undefined\"],\"xaxis\":\"x\",\"y\":[2000501.0],\"yaxis\":\"y\",\"type\":\"bar\"}],                        {\"template\":{\"data\":{\"barpolar\":[{\"marker\":{\"line\":{\"color\":\"white\",\"width\":0.5},\"pattern\":{\"fillmode\":\"overlay\",\"size\":10,\"solidity\":0.2}},\"type\":\"barpolar\"}],\"bar\":[{\"error_x\":{\"color\":\"#2a3f5f\"},\"error_y\":{\"color\":\"#2a3f5f\"},\"marker\":{\"line\":{\"color\":\"white\",\"width\":0.5},\"pattern\":{\"fillmode\":\"overlay\",\"size\":10,\"solidity\":0.2}},\"type\":\"bar\"}],\"carpet\":[{\"aaxis\":{\"endlinecolor\":\"#2a3f5f\",\"gridcolor\":\"#C8D4E3\",\"linecolor\":\"#C8D4E3\",\"minorgridcolor\":\"#C8D4E3\",\"startlinecolor\":\"#2a3f5f\"},\"baxis\":{\"endlinecolor\":\"#2a3f5f\",\"gridcolor\":\"#C8D4E3\",\"linecolor\":\"#C8D4E3\",\"minorgridcolor\":\"#C8D4E3\",\"startlinecolor\":\"#2a3f5f\"},\"type\":\"carpet\"}],\"choropleth\":[{\"colorbar\":{\"outlinewidth\":0,\"ticks\":\"\"},\"type\":\"choropleth\"}],\"contourcarpet\":[{\"colorbar\":{\"outlinewidth\":0,\"ticks\":\"\"},\"type\":\"contourcarpet\"}],\"contour\":[{\"colorbar\":{\"outlinewidth\":0,\"ticks\":\"\"},\"colorscale\":[[0.0,\"#0d0887\"],[0.1111111111111111,\"#46039f\"],[0.2222222222222222,\"#7201a8\"],[0.3333333333333333,\"#9c179e\"],[0.4444444444444444,\"#bd3786\"],[0.5555555555555556,\"#d8576b\"],[0.6666666666666666,\"#ed7953\"],[0.7777777777777778,\"#fb9f3a\"],[0.8888888888888888,\"#fdca26\"],[1.0,\"#f0f921\"]],\"type\":\"contour\"}],\"heatmapgl\":[{\"colorbar\":{\"outlinewidth\":0,\"ticks\":\"\"},\"colorscale\":[[0.0,\"#0d0887\"],[0.1111111111111111,\"#46039f\"],[0.2222222222222222,\"#7201a8\"],[0.3333333333333333,\"#9c179e\"],[0.4444444444444444,\"#bd3786\"],[0.5555555555555556,\"#d8576b\"],[0.6666666666666666,\"#ed7953\"],[0.7777777777777778,\"#fb9f3a\"],[0.8888888888888888,\"#fdca26\"],[1.0,\"#f0f921\"]],\"type\":\"heatmapgl\"}],\"heatmap\":[{\"colorbar\":{\"outlinewidth\":0,\"ticks\":\"\"},\"colorscale\":[[0.0,\"#0d0887\"],[0.1111111111111111,\"#46039f\"],[0.2222222222222222,\"#7201a8\"],[0.3333333333333333,\"#9c179e\"],[0.4444444444444444,\"#bd3786\"],[0.5555555555555556,\"#d8576b\"],[0.6666666666666666,\"#ed7953\"],[0.7777777777777778,\"#fb9f3a\"],[0.8888888888888888,\"#fdca26\"],[1.0,\"#f0f921\"]],\"type\":\"heatmap\"}],\"histogram2dcontour\":[{\"colorbar\":{\"outlinewidth\":0,\"ticks\":\"\"},\"colorscale\":[[0.0,\"#0d0887\"],[0.1111111111111111,\"#46039f\"],[0.2222222222222222,\"#7201a8\"],[0.3333333333333333,\"#9c179e\"],[0.4444444444444444,\"#bd3786\"],[0.5555555555555556,\"#d8576b\"],[0.6666666666666666,\"#ed7953\"],[0.7777777777777778,\"#fb9f3a\"],[0.8888888888888888,\"#fdca26\"],[1.0,\"#f0f921\"]],\"type\":\"histogram2dcontour\"}],\"histogram2d\":[{\"colorbar\":{\"outlinewidth\":0,\"ticks\":\"\"},\"colorscale\":[[0.0,\"#0d0887\"],[0.1111111111111111,\"#46039f\"],[0.2222222222222222,\"#7201a8\"],[0.3333333333333333,\"#9c179e\"],[0.4444444444444444,\"#bd3786\"],[0.5555555555555556,\"#d8576b\"],[0.6666666666666666,\"#ed7953\"],[0.7777777777777778,\"#fb9f3a\"],[0.8888888888888888,\"#fdca26\"],[1.0,\"#f0f921\"]],\"type\":\"histogram2d\"}],\"histogram\":[{\"marker\":{\"pattern\":{\"fillmode\":\"overlay\",\"size\":10,\"solidity\":0.2}},\"type\":\"histogram\"}],\"mesh3d\":[{\"colorbar\":{\"outlinewidth\":0,\"ticks\":\"\"},\"type\":\"mesh3d\"}],\"parcoords\":[{\"line\":{\"colorbar\":{\"outlinewidth\":0,\"ticks\":\"\"}},\"type\":\"parcoords\"}],\"pie\":[{\"automargin\":true,\"type\":\"pie\"}],\"scatter3d\":[{\"line\":{\"colorbar\":{\"outlinewidth\":0,\"ticks\":\"\"}},\"marker\":{\"colorbar\":{\"outlinewidth\":0,\"ticks\":\"\"}},\"type\":\"scatter3d\"}],\"scattercarpet\":[{\"marker\":{\"colorbar\":{\"outlinewidth\":0,\"ticks\":\"\"}},\"type\":\"scattercarpet\"}],\"scattergeo\":[{\"marker\":{\"colorbar\":{\"outlinewidth\":0,\"ticks\":\"\"}},\"type\":\"scattergeo\"}],\"scattergl\":[{\"marker\":{\"colorbar\":{\"outlinewidth\":0,\"ticks\":\"\"}},\"type\":\"scattergl\"}],\"scattermapbox\":[{\"marker\":{\"colorbar\":{\"outlinewidth\":0,\"ticks\":\"\"}},\"type\":\"scattermapbox\"}],\"scatterpolargl\":[{\"marker\":{\"colorbar\":{\"outlinewidth\":0,\"ticks\":\"\"}},\"type\":\"scatterpolargl\"}],\"scatterpolar\":[{\"marker\":{\"colorbar\":{\"outlinewidth\":0,\"ticks\":\"\"}},\"type\":\"scatterpolar\"}],\"scatter\":[{\"fillpattern\":{\"fillmode\":\"overlay\",\"size\":10,\"solidity\":0.2},\"type\":\"scatter\"}],\"scatterternary\":[{\"marker\":{\"colorbar\":{\"outlinewidth\":0,\"ticks\":\"\"}},\"type\":\"scatterternary\"}],\"surface\":[{\"colorbar\":{\"outlinewidth\":0,\"ticks\":\"\"},\"colorscale\":[[0.0,\"#0d0887\"],[0.1111111111111111,\"#46039f\"],[0.2222222222222222,\"#7201a8\"],[0.3333333333333333,\"#9c179e\"],[0.4444444444444444,\"#bd3786\"],[0.5555555555555556,\"#d8576b\"],[0.6666666666666666,\"#ed7953\"],[0.7777777777777778,\"#fb9f3a\"],[0.8888888888888888,\"#fdca26\"],[1.0,\"#f0f921\"]],\"type\":\"surface\"}],\"table\":[{\"cells\":{\"fill\":{\"color\":\"#EBF0F8\"},\"line\":{\"color\":\"white\"}},\"header\":{\"fill\":{\"color\":\"#C8D4E3\"},\"line\":{\"color\":\"white\"}},\"type\":\"table\"}]},\"layout\":{\"annotationdefaults\":{\"arrowcolor\":\"#2a3f5f\",\"arrowhead\":0,\"arrowwidth\":1},\"autotypenumbers\":\"strict\",\"coloraxis\":{\"colorbar\":{\"outlinewidth\":0,\"ticks\":\"\"}},\"colorscale\":{\"diverging\":[[0,\"#8e0152\"],[0.1,\"#c51b7d\"],[0.2,\"#de77ae\"],[0.3,\"#f1b6da\"],[0.4,\"#fde0ef\"],[0.5,\"#f7f7f7\"],[0.6,\"#e6f5d0\"],[0.7,\"#b8e186\"],[0.8,\"#7fbc41\"],[0.9,\"#4d9221\"],[1,\"#276419\"]],\"sequential\":[[0.0,\"#0d0887\"],[0.1111111111111111,\"#46039f\"],[0.2222222222222222,\"#7201a8\"],[0.3333333333333333,\"#9c179e\"],[0.4444444444444444,\"#bd3786\"],[0.5555555555555556,\"#d8576b\"],[0.6666666666666666,\"#ed7953\"],[0.7777777777777778,\"#fb9f3a\"],[0.8888888888888888,\"#fdca26\"],[1.0,\"#f0f921\"]],\"sequentialminus\":[[0.0,\"#0d0887\"],[0.1111111111111111,\"#46039f\"],[0.2222222222222222,\"#7201a8\"],[0.3333333333333333,\"#9c179e\"],[0.4444444444444444,\"#bd3786\"],[0.5555555555555556,\"#d8576b\"],[0.6666666666666666,\"#ed7953\"],[0.7777777777777778,\"#fb9f3a\"],[0.8888888888888888,\"#fdca26\"],[1.0,\"#f0f921\"]]},\"colorway\":[\"#636efa\",\"#EF553B\",\"#00cc96\",\"#ab63fa\",\"#FFA15A\",\"#19d3f3\",\"#FF6692\",\"#B6E880\",\"#FF97FF\",\"#FECB52\"],\"font\":{\"color\":\"#2a3f5f\"},\"geo\":{\"bgcolor\":\"white\",\"lakecolor\":\"white\",\"landcolor\":\"white\",\"showlakes\":true,\"showland\":true,\"subunitcolor\":\"#C8D4E3\"},\"hoverlabel\":{\"align\":\"left\"},\"hovermode\":\"closest\",\"mapbox\":{\"style\":\"light\"},\"paper_bgcolor\":\"white\",\"plot_bgcolor\":\"white\",\"polar\":{\"angularaxis\":{\"gridcolor\":\"#EBF0F8\",\"linecolor\":\"#EBF0F8\",\"ticks\":\"\"},\"bgcolor\":\"white\",\"radialaxis\":{\"gridcolor\":\"#EBF0F8\",\"linecolor\":\"#EBF0F8\",\"ticks\":\"\"}},\"scene\":{\"xaxis\":{\"backgroundcolor\":\"white\",\"gridcolor\":\"#DFE8F3\",\"gridwidth\":2,\"linecolor\":\"#EBF0F8\",\"showbackground\":true,\"ticks\":\"\",\"zerolinecolor\":\"#EBF0F8\"},\"yaxis\":{\"backgroundcolor\":\"white\",\"gridcolor\":\"#DFE8F3\",\"gridwidth\":2,\"linecolor\":\"#EBF0F8\",\"showbackground\":true,\"ticks\":\"\",\"zerolinecolor\":\"#EBF0F8\"},\"zaxis\":{\"backgroundcolor\":\"white\",\"gridcolor\":\"#DFE8F3\",\"gridwidth\":2,\"linecolor\":\"#EBF0F8\",\"showbackground\":true,\"ticks\":\"\",\"zerolinecolor\":\"#EBF0F8\"}},\"shapedefaults\":{\"line\":{\"color\":\"#2a3f5f\"}},\"ternary\":{\"aaxis\":{\"gridcolor\":\"#DFE8F3\",\"linecolor\":\"#A2B1C6\",\"ticks\":\"\"},\"baxis\":{\"gridcolor\":\"#DFE8F3\",\"linecolor\":\"#A2B1C6\",\"ticks\":\"\"},\"bgcolor\":\"white\",\"caxis\":{\"gridcolor\":\"#DFE8F3\",\"linecolor\":\"#A2B1C6\",\"ticks\":\"\"}},\"title\":{\"x\":0.05},\"xaxis\":{\"automargin\":true,\"gridcolor\":\"#EBF0F8\",\"linecolor\":\"#EBF0F8\",\"ticks\":\"\",\"title\":{\"standoff\":15},\"zerolinecolor\":\"#EBF0F8\",\"zerolinewidth\":2},\"yaxis\":{\"automargin\":true,\"gridcolor\":\"#EBF0F8\",\"linecolor\":\"#EBF0F8\",\"ticks\":\"\",\"title\":{\"standoff\":15},\"zerolinecolor\":\"#EBF0F8\",\"zerolinewidth\":2}}},\"xaxis\":{\"anchor\":\"y\",\"domain\":[0.0,1.0],\"title\":{\"text\":\"Канал\"},\"categoryorder\":\"array\",\"categoryarray\":[\"Organic Search\",\"Paid Search\",\"Direct\",\"Social Search\",\"Undefined\"],\"tickangle\":45},\"yaxis\":{\"anchor\":\"x\",\"domain\":[0.0,1.0],\"title\":{\"text\":\"Дохід \"},\"range\":[0,13719781.92]},\"legend\":{\"title\":{\"text\":\"channel\"},\"tracegroupgap\":0},\"title\":{\"text\":\"Дохід за каналами\"},\"barmode\":\"relative\",\"showlegend\":false,\"height\":500,\"width\":1000},                        {\"responsive\": true}                    ).then(function(){\n",
              "                            \n",
              "var gd = document.getElementById('2e19fb7f-ce30-49f0-b5ef-351aea84ec6e');\n",
              "var x = new MutationObserver(function (mutations, observer) {{\n",
              "        var display = window.getComputedStyle(gd).display;\n",
              "        if (!display || display === 'none') {{\n",
              "            console.log([gd, 'removed!']);\n",
              "            Plotly.purge(gd);\n",
              "            observer.disconnect();\n",
              "        }}\n",
              "}});\n",
              "\n",
              "// Listen for the removal of the full notebook cells\n",
              "var notebookContainer = gd.closest('#notebook-container');\n",
              "if (notebookContainer) {{\n",
              "    x.observe(notebookContainer, {childList: true});\n",
              "}}\n",
              "\n",
              "// Listen for the clearing of the current output cell\n",
              "var outputEl = gd.closest('.output');\n",
              "if (outputEl) {{\n",
              "    x.observe(outputEl, {childList: true});\n",
              "}}\n",
              "\n",
              "                        })                };                            </script>        </div>\n",
              "</body>\n",
              "</html>"
            ]
          },
          "metadata": {}
        }
      ]
    },
    {
      "cell_type": "markdown",
      "source": [
        " Дохід за каналами\n",
        "\n",
        "Найбільший дохід генерується через Organic Search , що значно перевищує інші канали.  \n",
        "Канал Paid Search  і Direct  також мають суттєвий внесок, але менший за Organic Search.  \n",
        "Канали Social Search  і Undefined  мають значно нижчий дохід, що може свідчити про меншу ефективність або меншу кількість транзакцій."
      ],
      "metadata": {
        "id": "k5GTiRzULSnJ"
      }
    },
    {
      "cell_type": "code",
      "source": [
        "#8 Сума доходу за джерелом для покупок\n",
        "revenue_by_source = df[df['is_purchase'] == True].groupby('source')['price'].sum().reset_index(name='revenue')\n",
        "revenue_by_source = revenue_by_source.sort_values('revenue', ascending=False)\n",
        "fig = px.bar(\n",
        "    revenue_by_source,\n",
        "    x='source',\n",
        "    y='revenue',\n",
        "    text=revenue_by_source['revenue'].apply(lambda x: f'{x:.2f}'),\n",
        "    title='Дохід за джерелами',\n",
        "    color='source',\n",
        "    color_discrete_sequence=px.colors.sequential.Teal\n",
        ")\n",
        "\n",
        "fig.update_traces(textposition='outside')\n",
        "fig.update_layout(\n",
        "    xaxis_title='Джерело',\n",
        "    yaxis_title='Дохід ',\n",
        "    xaxis_tickangle=45,\n",
        "    showlegend=False,\n",
        "    template='plotly_white',\n",
        "    height=500,\n",
        "    width=1000,\n",
        "    yaxis_range=[0, revenue_by_source['revenue'].max() * 1.2]\n",
        ")\n",
        "fig.show()"
      ],
      "metadata": {
        "colab": {
          "base_uri": "https://localhost:8080/",
          "height": 517
        },
        "id": "sQo2GD4jn6Um",
        "outputId": "cf8e3c6a-03f3-4e85-83b3-004b78eda143"
      },
      "execution_count": null,
      "outputs": [
        {
          "output_type": "display_data",
          "data": {
            "text/html": [
              "<html>\n",
              "<head><meta charset=\"utf-8\" /></head>\n",
              "<body>\n",
              "    <div>            <script src=\"https://cdnjs.cloudflare.com/ajax/libs/mathjax/2.7.5/MathJax.js?config=TeX-AMS-MML_SVG\"></script><script type=\"text/javascript\">if (window.MathJax && window.MathJax.Hub && window.MathJax.Hub.Config) {window.MathJax.Hub.Config({SVG: {font: \"STIX-Web\"}});}</script>                <script type=\"text/javascript\">window.PlotlyConfig = {MathJaxConfig: 'local'};</script>\n",
              "        <script charset=\"utf-8\" src=\"https://cdn.plot.ly/plotly-2.35.2.min.js\"></script>                <div id=\"d477262a-a2e4-4014-9a48-08ed6698e61e\" class=\"plotly-graph-div\" style=\"height:500px; width:1000px;\"></div>            <script type=\"text/javascript\">                                    window.PLOTLYENV=window.PLOTLYENV || {};                                    if (document.getElementById(\"d477262a-a2e4-4014-9a48-08ed6698e61e\")) {                    Plotly.newPlot(                        \"d477262a-a2e4-4014-9a48-08ed6698e61e\",                        [{\"alignmentgroup\":\"True\",\"hovertemplate\":\"source=%{x}\\u003cbr\\u003erevenue=%{y}\\u003cbr\\u003etext=%{text}\\u003cextra\\u003e\\u003c\\u002fextra\\u003e\",\"legendgroup\":\"organic\",\"marker\":{\"color\":\"rgb(209, 238, 234)\",\"pattern\":{\"shape\":\"\"}},\"name\":\"organic\",\"offsetgroup\":\"organic\",\"orientation\":\"v\",\"showlegend\":true,\"text\":[\"10935239.90\"],\"textposition\":\"outside\",\"x\":[\"organic\"],\"xaxis\":\"x\",\"y\":[10935239.9],\"yaxis\":\"y\",\"type\":\"bar\"},{\"alignmentgroup\":\"True\",\"hovertemplate\":\"source=%{x}\\u003cbr\\u003erevenue=%{y}\\u003cbr\\u003etext=%{text}\\u003cextra\\u003e\\u003c\\u002fextra\\u003e\",\"legendgroup\":\"(none)\",\"marker\":{\"color\":\"rgb(168, 219, 217)\",\"pattern\":{\"shape\":\"\"}},\"name\":\"(none)\",\"offsetgroup\":\"(none)\",\"orientation\":\"v\",\"showlegend\":true,\"text\":[\"7494923.40\"],\"textposition\":\"outside\",\"x\":[\"(none)\"],\"xaxis\":\"x\",\"y\":[7494923.4],\"yaxis\":\"y\",\"type\":\"bar\"},{\"alignmentgroup\":\"True\",\"hovertemplate\":\"source=%{x}\\u003cbr\\u003erevenue=%{y}\\u003cbr\\u003etext=%{text}\\u003cextra\\u003e\\u003c\\u002fextra\\u003e\",\"legendgroup\":\"referral\",\"marker\":{\"color\":\"rgb(133, 196, 201)\",\"pattern\":{\"shape\":\"\"}},\"name\":\"referral\",\"offsetgroup\":\"referral\",\"orientation\":\"v\",\"showlegend\":true,\"text\":[\"5641855.20\"],\"textposition\":\"outside\",\"x\":[\"referral\"],\"xaxis\":\"x\",\"y\":[5641855.2],\"yaxis\":\"y\",\"type\":\"bar\"},{\"alignmentgroup\":\"True\",\"hovertemplate\":\"source=%{x}\\u003cbr\\u003erevenue=%{y}\\u003cbr\\u003etext=%{text}\\u003cextra\\u003e\\u003c\\u002fextra\\u003e\",\"legendgroup\":\"\\u003cOther\\u003e\",\"marker\":{\"color\":\"rgb(104, 171, 184)\",\"pattern\":{\"shape\":\"\"}},\"name\":\"\\u003cOther\\u003e\",\"offsetgroup\":\"\\u003cOther\\u003e\",\"orientation\":\"v\",\"showlegend\":true,\"text\":[\"4491351.10\"],\"textposition\":\"outside\",\"x\":[\"\\u003cOther\\u003e\"],\"xaxis\":\"x\",\"y\":[4491351.1],\"yaxis\":\"y\",\"type\":\"bar\"},{\"alignmentgroup\":\"True\",\"hovertemplate\":\"source=%{x}\\u003cbr\\u003erevenue=%{y}\\u003cbr\\u003etext=%{text}\\u003cextra\\u003e\\u003c\\u002fextra\\u003e\",\"legendgroup\":\"(data deleted)\",\"marker\":{\"color\":\"rgb(79, 144, 166)\",\"pattern\":{\"shape\":\"\"}},\"name\":\"(data deleted)\",\"offsetgroup\":\"(data deleted)\",\"orientation\":\"v\",\"showlegend\":true,\"text\":[\"2041921.00\"],\"textposition\":\"outside\",\"x\":[\"(data deleted)\"],\"xaxis\":\"x\",\"y\":[2041921.0],\"yaxis\":\"y\",\"type\":\"bar\"},{\"alignmentgroup\":\"True\",\"hovertemplate\":\"source=%{x}\\u003cbr\\u003erevenue=%{y}\\u003cbr\\u003etext=%{text}\\u003cextra\\u003e\\u003c\\u002fextra\\u003e\",\"legendgroup\":\"cpc\",\"marker\":{\"color\":\"rgb(59, 115, 143)\",\"pattern\":{\"shape\":\"\"}},\"name\":\"cpc\",\"offsetgroup\":\"cpc\",\"orientation\":\"v\",\"showlegend\":true,\"text\":[\"1366440.50\"],\"textposition\":\"outside\",\"x\":[\"cpc\"],\"xaxis\":\"x\",\"y\":[1366440.5],\"yaxis\":\"y\",\"type\":\"bar\"}],                        {\"template\":{\"data\":{\"barpolar\":[{\"marker\":{\"line\":{\"color\":\"white\",\"width\":0.5},\"pattern\":{\"fillmode\":\"overlay\",\"size\":10,\"solidity\":0.2}},\"type\":\"barpolar\"}],\"bar\":[{\"error_x\":{\"color\":\"#2a3f5f\"},\"error_y\":{\"color\":\"#2a3f5f\"},\"marker\":{\"line\":{\"color\":\"white\",\"width\":0.5},\"pattern\":{\"fillmode\":\"overlay\",\"size\":10,\"solidity\":0.2}},\"type\":\"bar\"}],\"carpet\":[{\"aaxis\":{\"endlinecolor\":\"#2a3f5f\",\"gridcolor\":\"#C8D4E3\",\"linecolor\":\"#C8D4E3\",\"minorgridcolor\":\"#C8D4E3\",\"startlinecolor\":\"#2a3f5f\"},\"baxis\":{\"endlinecolor\":\"#2a3f5f\",\"gridcolor\":\"#C8D4E3\",\"linecolor\":\"#C8D4E3\",\"minorgridcolor\":\"#C8D4E3\",\"startlinecolor\":\"#2a3f5f\"},\"type\":\"carpet\"}],\"choropleth\":[{\"colorbar\":{\"outlinewidth\":0,\"ticks\":\"\"},\"type\":\"choropleth\"}],\"contourcarpet\":[{\"colorbar\":{\"outlinewidth\":0,\"ticks\":\"\"},\"type\":\"contourcarpet\"}],\"contour\":[{\"colorbar\":{\"outlinewidth\":0,\"ticks\":\"\"},\"colorscale\":[[0.0,\"#0d0887\"],[0.1111111111111111,\"#46039f\"],[0.2222222222222222,\"#7201a8\"],[0.3333333333333333,\"#9c179e\"],[0.4444444444444444,\"#bd3786\"],[0.5555555555555556,\"#d8576b\"],[0.6666666666666666,\"#ed7953\"],[0.7777777777777778,\"#fb9f3a\"],[0.8888888888888888,\"#fdca26\"],[1.0,\"#f0f921\"]],\"type\":\"contour\"}],\"heatmapgl\":[{\"colorbar\":{\"outlinewidth\":0,\"ticks\":\"\"},\"colorscale\":[[0.0,\"#0d0887\"],[0.1111111111111111,\"#46039f\"],[0.2222222222222222,\"#7201a8\"],[0.3333333333333333,\"#9c179e\"],[0.4444444444444444,\"#bd3786\"],[0.5555555555555556,\"#d8576b\"],[0.6666666666666666,\"#ed7953\"],[0.7777777777777778,\"#fb9f3a\"],[0.8888888888888888,\"#fdca26\"],[1.0,\"#f0f921\"]],\"type\":\"heatmapgl\"}],\"heatmap\":[{\"colorbar\":{\"outlinewidth\":0,\"ticks\":\"\"},\"colorscale\":[[0.0,\"#0d0887\"],[0.1111111111111111,\"#46039f\"],[0.2222222222222222,\"#7201a8\"],[0.3333333333333333,\"#9c179e\"],[0.4444444444444444,\"#bd3786\"],[0.5555555555555556,\"#d8576b\"],[0.6666666666666666,\"#ed7953\"],[0.7777777777777778,\"#fb9f3a\"],[0.8888888888888888,\"#fdca26\"],[1.0,\"#f0f921\"]],\"type\":\"heatmap\"}],\"histogram2dcontour\":[{\"colorbar\":{\"outlinewidth\":0,\"ticks\":\"\"},\"colorscale\":[[0.0,\"#0d0887\"],[0.1111111111111111,\"#46039f\"],[0.2222222222222222,\"#7201a8\"],[0.3333333333333333,\"#9c179e\"],[0.4444444444444444,\"#bd3786\"],[0.5555555555555556,\"#d8576b\"],[0.6666666666666666,\"#ed7953\"],[0.7777777777777778,\"#fb9f3a\"],[0.8888888888888888,\"#fdca26\"],[1.0,\"#f0f921\"]],\"type\":\"histogram2dcontour\"}],\"histogram2d\":[{\"colorbar\":{\"outlinewidth\":0,\"ticks\":\"\"},\"colorscale\":[[0.0,\"#0d0887\"],[0.1111111111111111,\"#46039f\"],[0.2222222222222222,\"#7201a8\"],[0.3333333333333333,\"#9c179e\"],[0.4444444444444444,\"#bd3786\"],[0.5555555555555556,\"#d8576b\"],[0.6666666666666666,\"#ed7953\"],[0.7777777777777778,\"#fb9f3a\"],[0.8888888888888888,\"#fdca26\"],[1.0,\"#f0f921\"]],\"type\":\"histogram2d\"}],\"histogram\":[{\"marker\":{\"pattern\":{\"fillmode\":\"overlay\",\"size\":10,\"solidity\":0.2}},\"type\":\"histogram\"}],\"mesh3d\":[{\"colorbar\":{\"outlinewidth\":0,\"ticks\":\"\"},\"type\":\"mesh3d\"}],\"parcoords\":[{\"line\":{\"colorbar\":{\"outlinewidth\":0,\"ticks\":\"\"}},\"type\":\"parcoords\"}],\"pie\":[{\"automargin\":true,\"type\":\"pie\"}],\"scatter3d\":[{\"line\":{\"colorbar\":{\"outlinewidth\":0,\"ticks\":\"\"}},\"marker\":{\"colorbar\":{\"outlinewidth\":0,\"ticks\":\"\"}},\"type\":\"scatter3d\"}],\"scattercarpet\":[{\"marker\":{\"colorbar\":{\"outlinewidth\":0,\"ticks\":\"\"}},\"type\":\"scattercarpet\"}],\"scattergeo\":[{\"marker\":{\"colorbar\":{\"outlinewidth\":0,\"ticks\":\"\"}},\"type\":\"scattergeo\"}],\"scattergl\":[{\"marker\":{\"colorbar\":{\"outlinewidth\":0,\"ticks\":\"\"}},\"type\":\"scattergl\"}],\"scattermapbox\":[{\"marker\":{\"colorbar\":{\"outlinewidth\":0,\"ticks\":\"\"}},\"type\":\"scattermapbox\"}],\"scatterpolargl\":[{\"marker\":{\"colorbar\":{\"outlinewidth\":0,\"ticks\":\"\"}},\"type\":\"scatterpolargl\"}],\"scatterpolar\":[{\"marker\":{\"colorbar\":{\"outlinewidth\":0,\"ticks\":\"\"}},\"type\":\"scatterpolar\"}],\"scatter\":[{\"fillpattern\":{\"fillmode\":\"overlay\",\"size\":10,\"solidity\":0.2},\"type\":\"scatter\"}],\"scatterternary\":[{\"marker\":{\"colorbar\":{\"outlinewidth\":0,\"ticks\":\"\"}},\"type\":\"scatterternary\"}],\"surface\":[{\"colorbar\":{\"outlinewidth\":0,\"ticks\":\"\"},\"colorscale\":[[0.0,\"#0d0887\"],[0.1111111111111111,\"#46039f\"],[0.2222222222222222,\"#7201a8\"],[0.3333333333333333,\"#9c179e\"],[0.4444444444444444,\"#bd3786\"],[0.5555555555555556,\"#d8576b\"],[0.6666666666666666,\"#ed7953\"],[0.7777777777777778,\"#fb9f3a\"],[0.8888888888888888,\"#fdca26\"],[1.0,\"#f0f921\"]],\"type\":\"surface\"}],\"table\":[{\"cells\":{\"fill\":{\"color\":\"#EBF0F8\"},\"line\":{\"color\":\"white\"}},\"header\":{\"fill\":{\"color\":\"#C8D4E3\"},\"line\":{\"color\":\"white\"}},\"type\":\"table\"}]},\"layout\":{\"annotationdefaults\":{\"arrowcolor\":\"#2a3f5f\",\"arrowhead\":0,\"arrowwidth\":1},\"autotypenumbers\":\"strict\",\"coloraxis\":{\"colorbar\":{\"outlinewidth\":0,\"ticks\":\"\"}},\"colorscale\":{\"diverging\":[[0,\"#8e0152\"],[0.1,\"#c51b7d\"],[0.2,\"#de77ae\"],[0.3,\"#f1b6da\"],[0.4,\"#fde0ef\"],[0.5,\"#f7f7f7\"],[0.6,\"#e6f5d0\"],[0.7,\"#b8e186\"],[0.8,\"#7fbc41\"],[0.9,\"#4d9221\"],[1,\"#276419\"]],\"sequential\":[[0.0,\"#0d0887\"],[0.1111111111111111,\"#46039f\"],[0.2222222222222222,\"#7201a8\"],[0.3333333333333333,\"#9c179e\"],[0.4444444444444444,\"#bd3786\"],[0.5555555555555556,\"#d8576b\"],[0.6666666666666666,\"#ed7953\"],[0.7777777777777778,\"#fb9f3a\"],[0.8888888888888888,\"#fdca26\"],[1.0,\"#f0f921\"]],\"sequentialminus\":[[0.0,\"#0d0887\"],[0.1111111111111111,\"#46039f\"],[0.2222222222222222,\"#7201a8\"],[0.3333333333333333,\"#9c179e\"],[0.4444444444444444,\"#bd3786\"],[0.5555555555555556,\"#d8576b\"],[0.6666666666666666,\"#ed7953\"],[0.7777777777777778,\"#fb9f3a\"],[0.8888888888888888,\"#fdca26\"],[1.0,\"#f0f921\"]]},\"colorway\":[\"#636efa\",\"#EF553B\",\"#00cc96\",\"#ab63fa\",\"#FFA15A\",\"#19d3f3\",\"#FF6692\",\"#B6E880\",\"#FF97FF\",\"#FECB52\"],\"font\":{\"color\":\"#2a3f5f\"},\"geo\":{\"bgcolor\":\"white\",\"lakecolor\":\"white\",\"landcolor\":\"white\",\"showlakes\":true,\"showland\":true,\"subunitcolor\":\"#C8D4E3\"},\"hoverlabel\":{\"align\":\"left\"},\"hovermode\":\"closest\",\"mapbox\":{\"style\":\"light\"},\"paper_bgcolor\":\"white\",\"plot_bgcolor\":\"white\",\"polar\":{\"angularaxis\":{\"gridcolor\":\"#EBF0F8\",\"linecolor\":\"#EBF0F8\",\"ticks\":\"\"},\"bgcolor\":\"white\",\"radialaxis\":{\"gridcolor\":\"#EBF0F8\",\"linecolor\":\"#EBF0F8\",\"ticks\":\"\"}},\"scene\":{\"xaxis\":{\"backgroundcolor\":\"white\",\"gridcolor\":\"#DFE8F3\",\"gridwidth\":2,\"linecolor\":\"#EBF0F8\",\"showbackground\":true,\"ticks\":\"\",\"zerolinecolor\":\"#EBF0F8\"},\"yaxis\":{\"backgroundcolor\":\"white\",\"gridcolor\":\"#DFE8F3\",\"gridwidth\":2,\"linecolor\":\"#EBF0F8\",\"showbackground\":true,\"ticks\":\"\",\"zerolinecolor\":\"#EBF0F8\"},\"zaxis\":{\"backgroundcolor\":\"white\",\"gridcolor\":\"#DFE8F3\",\"gridwidth\":2,\"linecolor\":\"#EBF0F8\",\"showbackground\":true,\"ticks\":\"\",\"zerolinecolor\":\"#EBF0F8\"}},\"shapedefaults\":{\"line\":{\"color\":\"#2a3f5f\"}},\"ternary\":{\"aaxis\":{\"gridcolor\":\"#DFE8F3\",\"linecolor\":\"#A2B1C6\",\"ticks\":\"\"},\"baxis\":{\"gridcolor\":\"#DFE8F3\",\"linecolor\":\"#A2B1C6\",\"ticks\":\"\"},\"bgcolor\":\"white\",\"caxis\":{\"gridcolor\":\"#DFE8F3\",\"linecolor\":\"#A2B1C6\",\"ticks\":\"\"}},\"title\":{\"x\":0.05},\"xaxis\":{\"automargin\":true,\"gridcolor\":\"#EBF0F8\",\"linecolor\":\"#EBF0F8\",\"ticks\":\"\",\"title\":{\"standoff\":15},\"zerolinecolor\":\"#EBF0F8\",\"zerolinewidth\":2},\"yaxis\":{\"automargin\":true,\"gridcolor\":\"#EBF0F8\",\"linecolor\":\"#EBF0F8\",\"ticks\":\"\",\"title\":{\"standoff\":15},\"zerolinecolor\":\"#EBF0F8\",\"zerolinewidth\":2}}},\"xaxis\":{\"anchor\":\"y\",\"domain\":[0.0,1.0],\"title\":{\"text\":\"Джерело\"},\"categoryorder\":\"array\",\"categoryarray\":[\"organic\",\"(none)\",\"referral\",\"\\u003cOther\\u003e\",\"(data deleted)\",\"cpc\"],\"tickangle\":45},\"yaxis\":{\"anchor\":\"x\",\"domain\":[0.0,1.0],\"title\":{\"text\":\"Дохід \"},\"range\":[0,13122287.88]},\"legend\":{\"title\":{\"text\":\"source\"},\"tracegroupgap\":0},\"title\":{\"text\":\"Дохід за джерелами\"},\"barmode\":\"relative\",\"showlegend\":false,\"height\":500,\"width\":1000},                        {\"responsive\": true}                    ).then(function(){\n",
              "                            \n",
              "var gd = document.getElementById('d477262a-a2e4-4014-9a48-08ed6698e61e');\n",
              "var x = new MutationObserver(function (mutations, observer) {{\n",
              "        var display = window.getComputedStyle(gd).display;\n",
              "        if (!display || display === 'none') {{\n",
              "            console.log([gd, 'removed!']);\n",
              "            Plotly.purge(gd);\n",
              "            observer.disconnect();\n",
              "        }}\n",
              "}});\n",
              "\n",
              "// Listen for the removal of the full notebook cells\n",
              "var notebookContainer = gd.closest('#notebook-container');\n",
              "if (notebookContainer) {{\n",
              "    x.observe(notebookContainer, {childList: true});\n",
              "}}\n",
              "\n",
              "// Listen for the clearing of the current output cell\n",
              "var outputEl = gd.closest('.output');\n",
              "if (outputEl) {{\n",
              "    x.observe(outputEl, {childList: true});\n",
              "}}\n",
              "\n",
              "                        })                };                            </script>        </div>\n",
              "</body>\n",
              "</html>"
            ]
          },
          "metadata": {}
        }
      ]
    },
    {
      "cell_type": "markdown",
      "source": [
        "Дохід за джерелами\n",
        "\n",
        "Найбільший дохід генерується через **organic** , що значно перевищує інші джерела.  \n",
        "Джерела **\"none\"**  і **\"referral\"** також мають значний внесок, але менший за **\"organic\"**.  \n",
        "Джерела **\"other\"** , **\"data deleted\"** і **\"cpc\"**  мають значно нижчий дохід, що може вказувати на меншу активність або меншу кількість транзакцій через ці джерела.\n"
      ],
      "metadata": {
        "id": "vmZvm_HyOABK"
      }
    },
    {
      "cell_type": "code",
      "source": [
        "#9 Сума доходу за операційною системою для покупок\n",
        "revenue_by_os = df[df['is_purchase'] == True].groupby('operating_system')['price'].sum().reset_index(name='revenue')\n",
        "revenue_by_os = revenue_by_os.sort_values('revenue', ascending=False)\n",
        "fig = px.bar(\n",
        "    revenue_by_os,\n",
        "    x='operating_system',\n",
        "    y='revenue',\n",
        "    text=revenue_by_os['revenue'].apply(lambda x: f'{x:.2f}'),\n",
        "    title='Дохід за операційними системами',\n",
        "    color='operating_system',\n",
        "    color_discrete_sequence=px.colors.sequential.Teal\n",
        ")\n",
        "fig.update_traces(textposition='outside')\n",
        "fig.update_layout(\n",
        "    xaxis_title='Операційна система',\n",
        "    yaxis_title='Дохід ',\n",
        "    xaxis_tickangle=45,\n",
        "    showlegend=False,\n",
        "    template='plotly_white',\n",
        "    height=500,\n",
        "    width=1000,\n",
        "    yaxis_range=[0, revenue_by_os['revenue'].max() * 1.2]\n",
        ")\n",
        "fig.show()"
      ],
      "metadata": {
        "colab": {
          "base_uri": "https://localhost:8080/",
          "height": 517
        },
        "id": "75WNbsyEoIBa",
        "outputId": "0284506b-7145-43ed-ad62-76f25840a3e6"
      },
      "execution_count": null,
      "outputs": [
        {
          "output_type": "display_data",
          "data": {
            "text/html": [
              "<html>\n",
              "<head><meta charset=\"utf-8\" /></head>\n",
              "<body>\n",
              "    <div>            <script src=\"https://cdnjs.cloudflare.com/ajax/libs/mathjax/2.7.5/MathJax.js?config=TeX-AMS-MML_SVG\"></script><script type=\"text/javascript\">if (window.MathJax && window.MathJax.Hub && window.MathJax.Hub.Config) {window.MathJax.Hub.Config({SVG: {font: \"STIX-Web\"}});}</script>                <script type=\"text/javascript\">window.PlotlyConfig = {MathJaxConfig: 'local'};</script>\n",
              "        <script charset=\"utf-8\" src=\"https://cdn.plot.ly/plotly-2.35.2.min.js\"></script>                <div id=\"dbeaaccd-e318-4d42-95ee-7a53497d0db9\" class=\"plotly-graph-div\" style=\"height:500px; width:1000px;\"></div>            <script type=\"text/javascript\">                                    window.PLOTLYENV=window.PLOTLYENV || {};                                    if (document.getElementById(\"dbeaaccd-e318-4d42-95ee-7a53497d0db9\")) {                    Plotly.newPlot(                        \"dbeaaccd-e318-4d42-95ee-7a53497d0db9\",                        [{\"alignmentgroup\":\"True\",\"hovertemplate\":\"operating_system=%{x}\\u003cbr\\u003erevenue=%{y}\\u003cbr\\u003etext=%{text}\\u003cextra\\u003e\\u003c\\u002fextra\\u003e\",\"legendgroup\":\"Web\",\"marker\":{\"color\":\"rgb(209, 238, 234)\",\"pattern\":{\"shape\":\"\"}},\"name\":\"Web\",\"offsetgroup\":\"Web\",\"orientation\":\"v\",\"showlegend\":true,\"text\":[\"18445904.50\"],\"textposition\":\"outside\",\"x\":[\"Web\"],\"xaxis\":\"x\",\"y\":[18445904.5],\"yaxis\":\"y\",\"type\":\"bar\"},{\"alignmentgroup\":\"True\",\"hovertemplate\":\"operating_system=%{x}\\u003cbr\\u003erevenue=%{y}\\u003cbr\\u003etext=%{text}\\u003cextra\\u003e\\u003c\\u002fextra\\u003e\",\"legendgroup\":\"Windows\",\"marker\":{\"color\":\"rgb(168, 219, 217)\",\"pattern\":{\"shape\":\"\"}},\"name\":\"Windows\",\"offsetgroup\":\"Windows\",\"orientation\":\"v\",\"showlegend\":true,\"text\":[\"3804989.00\"],\"textposition\":\"outside\",\"x\":[\"Windows\"],\"xaxis\":\"x\",\"y\":[3804989.0],\"yaxis\":\"y\",\"type\":\"bar\"},{\"alignmentgroup\":\"True\",\"hovertemplate\":\"operating_system=%{x}\\u003cbr\\u003erevenue=%{y}\\u003cbr\\u003etext=%{text}\\u003cextra\\u003e\\u003c\\u002fextra\\u003e\",\"legendgroup\":\"iOS\",\"marker\":{\"color\":\"rgb(133, 196, 201)\",\"pattern\":{\"shape\":\"\"}},\"name\":\"iOS\",\"offsetgroup\":\"iOS\",\"orientation\":\"v\",\"showlegend\":true,\"text\":[\"3603329.40\"],\"textposition\":\"outside\",\"x\":[\"iOS\"],\"xaxis\":\"x\",\"y\":[3603329.4],\"yaxis\":\"y\",\"type\":\"bar\"},{\"alignmentgroup\":\"True\",\"hovertemplate\":\"operating_system=%{x}\\u003cbr\\u003erevenue=%{y}\\u003cbr\\u003etext=%{text}\\u003cextra\\u003e\\u003c\\u002fextra\\u003e\",\"legendgroup\":\"Android\",\"marker\":{\"color\":\"rgb(104, 171, 184)\",\"pattern\":{\"shape\":\"\"}},\"name\":\"Android\",\"offsetgroup\":\"Android\",\"orientation\":\"v\",\"showlegend\":true,\"text\":[\"2789985.10\"],\"textposition\":\"outside\",\"x\":[\"Android\"],\"xaxis\":\"x\",\"y\":[2789985.1],\"yaxis\":\"y\",\"type\":\"bar\"},{\"alignmentgroup\":\"True\",\"hovertemplate\":\"operating_system=%{x}\\u003cbr\\u003erevenue=%{y}\\u003cbr\\u003etext=%{text}\\u003cextra\\u003e\\u003c\\u002fextra\\u003e\",\"legendgroup\":\"Macintosh\",\"marker\":{\"color\":\"rgb(79, 144, 166)\",\"pattern\":{\"shape\":\"\"}},\"name\":\"Macintosh\",\"offsetgroup\":\"Macintosh\",\"orientation\":\"v\",\"showlegend\":true,\"text\":[\"2504967.30\"],\"textposition\":\"outside\",\"x\":[\"Macintosh\"],\"xaxis\":\"x\",\"y\":[2504967.3],\"yaxis\":\"y\",\"type\":\"bar\"},{\"alignmentgroup\":\"True\",\"hovertemplate\":\"operating_system=%{x}\\u003cbr\\u003erevenue=%{y}\\u003cbr\\u003etext=%{text}\\u003cextra\\u003e\\u003c\\u002fextra\\u003e\",\"legendgroup\":\"\\u003cOther\\u003e\",\"marker\":{\"color\":\"rgb(59, 115, 143)\",\"pattern\":{\"shape\":\"\"}},\"name\":\"\\u003cOther\\u003e\",\"offsetgroup\":\"\\u003cOther\\u003e\",\"orientation\":\"v\",\"showlegend\":true,\"text\":[\"822555.80\"],\"textposition\":\"outside\",\"x\":[\"\\u003cOther\\u003e\"],\"xaxis\":\"x\",\"y\":[822555.8],\"yaxis\":\"y\",\"type\":\"bar\"}],                        {\"template\":{\"data\":{\"barpolar\":[{\"marker\":{\"line\":{\"color\":\"white\",\"width\":0.5},\"pattern\":{\"fillmode\":\"overlay\",\"size\":10,\"solidity\":0.2}},\"type\":\"barpolar\"}],\"bar\":[{\"error_x\":{\"color\":\"#2a3f5f\"},\"error_y\":{\"color\":\"#2a3f5f\"},\"marker\":{\"line\":{\"color\":\"white\",\"width\":0.5},\"pattern\":{\"fillmode\":\"overlay\",\"size\":10,\"solidity\":0.2}},\"type\":\"bar\"}],\"carpet\":[{\"aaxis\":{\"endlinecolor\":\"#2a3f5f\",\"gridcolor\":\"#C8D4E3\",\"linecolor\":\"#C8D4E3\",\"minorgridcolor\":\"#C8D4E3\",\"startlinecolor\":\"#2a3f5f\"},\"baxis\":{\"endlinecolor\":\"#2a3f5f\",\"gridcolor\":\"#C8D4E3\",\"linecolor\":\"#C8D4E3\",\"minorgridcolor\":\"#C8D4E3\",\"startlinecolor\":\"#2a3f5f\"},\"type\":\"carpet\"}],\"choropleth\":[{\"colorbar\":{\"outlinewidth\":0,\"ticks\":\"\"},\"type\":\"choropleth\"}],\"contourcarpet\":[{\"colorbar\":{\"outlinewidth\":0,\"ticks\":\"\"},\"type\":\"contourcarpet\"}],\"contour\":[{\"colorbar\":{\"outlinewidth\":0,\"ticks\":\"\"},\"colorscale\":[[0.0,\"#0d0887\"],[0.1111111111111111,\"#46039f\"],[0.2222222222222222,\"#7201a8\"],[0.3333333333333333,\"#9c179e\"],[0.4444444444444444,\"#bd3786\"],[0.5555555555555556,\"#d8576b\"],[0.6666666666666666,\"#ed7953\"],[0.7777777777777778,\"#fb9f3a\"],[0.8888888888888888,\"#fdca26\"],[1.0,\"#f0f921\"]],\"type\":\"contour\"}],\"heatmapgl\":[{\"colorbar\":{\"outlinewidth\":0,\"ticks\":\"\"},\"colorscale\":[[0.0,\"#0d0887\"],[0.1111111111111111,\"#46039f\"],[0.2222222222222222,\"#7201a8\"],[0.3333333333333333,\"#9c179e\"],[0.4444444444444444,\"#bd3786\"],[0.5555555555555556,\"#d8576b\"],[0.6666666666666666,\"#ed7953\"],[0.7777777777777778,\"#fb9f3a\"],[0.8888888888888888,\"#fdca26\"],[1.0,\"#f0f921\"]],\"type\":\"heatmapgl\"}],\"heatmap\":[{\"colorbar\":{\"outlinewidth\":0,\"ticks\":\"\"},\"colorscale\":[[0.0,\"#0d0887\"],[0.1111111111111111,\"#46039f\"],[0.2222222222222222,\"#7201a8\"],[0.3333333333333333,\"#9c179e\"],[0.4444444444444444,\"#bd3786\"],[0.5555555555555556,\"#d8576b\"],[0.6666666666666666,\"#ed7953\"],[0.7777777777777778,\"#fb9f3a\"],[0.8888888888888888,\"#fdca26\"],[1.0,\"#f0f921\"]],\"type\":\"heatmap\"}],\"histogram2dcontour\":[{\"colorbar\":{\"outlinewidth\":0,\"ticks\":\"\"},\"colorscale\":[[0.0,\"#0d0887\"],[0.1111111111111111,\"#46039f\"],[0.2222222222222222,\"#7201a8\"],[0.3333333333333333,\"#9c179e\"],[0.4444444444444444,\"#bd3786\"],[0.5555555555555556,\"#d8576b\"],[0.6666666666666666,\"#ed7953\"],[0.7777777777777778,\"#fb9f3a\"],[0.8888888888888888,\"#fdca26\"],[1.0,\"#f0f921\"]],\"type\":\"histogram2dcontour\"}],\"histogram2d\":[{\"colorbar\":{\"outlinewidth\":0,\"ticks\":\"\"},\"colorscale\":[[0.0,\"#0d0887\"],[0.1111111111111111,\"#46039f\"],[0.2222222222222222,\"#7201a8\"],[0.3333333333333333,\"#9c179e\"],[0.4444444444444444,\"#bd3786\"],[0.5555555555555556,\"#d8576b\"],[0.6666666666666666,\"#ed7953\"],[0.7777777777777778,\"#fb9f3a\"],[0.8888888888888888,\"#fdca26\"],[1.0,\"#f0f921\"]],\"type\":\"histogram2d\"}],\"histogram\":[{\"marker\":{\"pattern\":{\"fillmode\":\"overlay\",\"size\":10,\"solidity\":0.2}},\"type\":\"histogram\"}],\"mesh3d\":[{\"colorbar\":{\"outlinewidth\":0,\"ticks\":\"\"},\"type\":\"mesh3d\"}],\"parcoords\":[{\"line\":{\"colorbar\":{\"outlinewidth\":0,\"ticks\":\"\"}},\"type\":\"parcoords\"}],\"pie\":[{\"automargin\":true,\"type\":\"pie\"}],\"scatter3d\":[{\"line\":{\"colorbar\":{\"outlinewidth\":0,\"ticks\":\"\"}},\"marker\":{\"colorbar\":{\"outlinewidth\":0,\"ticks\":\"\"}},\"type\":\"scatter3d\"}],\"scattercarpet\":[{\"marker\":{\"colorbar\":{\"outlinewidth\":0,\"ticks\":\"\"}},\"type\":\"scattercarpet\"}],\"scattergeo\":[{\"marker\":{\"colorbar\":{\"outlinewidth\":0,\"ticks\":\"\"}},\"type\":\"scattergeo\"}],\"scattergl\":[{\"marker\":{\"colorbar\":{\"outlinewidth\":0,\"ticks\":\"\"}},\"type\":\"scattergl\"}],\"scattermapbox\":[{\"marker\":{\"colorbar\":{\"outlinewidth\":0,\"ticks\":\"\"}},\"type\":\"scattermapbox\"}],\"scatterpolargl\":[{\"marker\":{\"colorbar\":{\"outlinewidth\":0,\"ticks\":\"\"}},\"type\":\"scatterpolargl\"}],\"scatterpolar\":[{\"marker\":{\"colorbar\":{\"outlinewidth\":0,\"ticks\":\"\"}},\"type\":\"scatterpolar\"}],\"scatter\":[{\"fillpattern\":{\"fillmode\":\"overlay\",\"size\":10,\"solidity\":0.2},\"type\":\"scatter\"}],\"scatterternary\":[{\"marker\":{\"colorbar\":{\"outlinewidth\":0,\"ticks\":\"\"}},\"type\":\"scatterternary\"}],\"surface\":[{\"colorbar\":{\"outlinewidth\":0,\"ticks\":\"\"},\"colorscale\":[[0.0,\"#0d0887\"],[0.1111111111111111,\"#46039f\"],[0.2222222222222222,\"#7201a8\"],[0.3333333333333333,\"#9c179e\"],[0.4444444444444444,\"#bd3786\"],[0.5555555555555556,\"#d8576b\"],[0.6666666666666666,\"#ed7953\"],[0.7777777777777778,\"#fb9f3a\"],[0.8888888888888888,\"#fdca26\"],[1.0,\"#f0f921\"]],\"type\":\"surface\"}],\"table\":[{\"cells\":{\"fill\":{\"color\":\"#EBF0F8\"},\"line\":{\"color\":\"white\"}},\"header\":{\"fill\":{\"color\":\"#C8D4E3\"},\"line\":{\"color\":\"white\"}},\"type\":\"table\"}]},\"layout\":{\"annotationdefaults\":{\"arrowcolor\":\"#2a3f5f\",\"arrowhead\":0,\"arrowwidth\":1},\"autotypenumbers\":\"strict\",\"coloraxis\":{\"colorbar\":{\"outlinewidth\":0,\"ticks\":\"\"}},\"colorscale\":{\"diverging\":[[0,\"#8e0152\"],[0.1,\"#c51b7d\"],[0.2,\"#de77ae\"],[0.3,\"#f1b6da\"],[0.4,\"#fde0ef\"],[0.5,\"#f7f7f7\"],[0.6,\"#e6f5d0\"],[0.7,\"#b8e186\"],[0.8,\"#7fbc41\"],[0.9,\"#4d9221\"],[1,\"#276419\"]],\"sequential\":[[0.0,\"#0d0887\"],[0.1111111111111111,\"#46039f\"],[0.2222222222222222,\"#7201a8\"],[0.3333333333333333,\"#9c179e\"],[0.4444444444444444,\"#bd3786\"],[0.5555555555555556,\"#d8576b\"],[0.6666666666666666,\"#ed7953\"],[0.7777777777777778,\"#fb9f3a\"],[0.8888888888888888,\"#fdca26\"],[1.0,\"#f0f921\"]],\"sequentialminus\":[[0.0,\"#0d0887\"],[0.1111111111111111,\"#46039f\"],[0.2222222222222222,\"#7201a8\"],[0.3333333333333333,\"#9c179e\"],[0.4444444444444444,\"#bd3786\"],[0.5555555555555556,\"#d8576b\"],[0.6666666666666666,\"#ed7953\"],[0.7777777777777778,\"#fb9f3a\"],[0.8888888888888888,\"#fdca26\"],[1.0,\"#f0f921\"]]},\"colorway\":[\"#636efa\",\"#EF553B\",\"#00cc96\",\"#ab63fa\",\"#FFA15A\",\"#19d3f3\",\"#FF6692\",\"#B6E880\",\"#FF97FF\",\"#FECB52\"],\"font\":{\"color\":\"#2a3f5f\"},\"geo\":{\"bgcolor\":\"white\",\"lakecolor\":\"white\",\"landcolor\":\"white\",\"showlakes\":true,\"showland\":true,\"subunitcolor\":\"#C8D4E3\"},\"hoverlabel\":{\"align\":\"left\"},\"hovermode\":\"closest\",\"mapbox\":{\"style\":\"light\"},\"paper_bgcolor\":\"white\",\"plot_bgcolor\":\"white\",\"polar\":{\"angularaxis\":{\"gridcolor\":\"#EBF0F8\",\"linecolor\":\"#EBF0F8\",\"ticks\":\"\"},\"bgcolor\":\"white\",\"radialaxis\":{\"gridcolor\":\"#EBF0F8\",\"linecolor\":\"#EBF0F8\",\"ticks\":\"\"}},\"scene\":{\"xaxis\":{\"backgroundcolor\":\"white\",\"gridcolor\":\"#DFE8F3\",\"gridwidth\":2,\"linecolor\":\"#EBF0F8\",\"showbackground\":true,\"ticks\":\"\",\"zerolinecolor\":\"#EBF0F8\"},\"yaxis\":{\"backgroundcolor\":\"white\",\"gridcolor\":\"#DFE8F3\",\"gridwidth\":2,\"linecolor\":\"#EBF0F8\",\"showbackground\":true,\"ticks\":\"\",\"zerolinecolor\":\"#EBF0F8\"},\"zaxis\":{\"backgroundcolor\":\"white\",\"gridcolor\":\"#DFE8F3\",\"gridwidth\":2,\"linecolor\":\"#EBF0F8\",\"showbackground\":true,\"ticks\":\"\",\"zerolinecolor\":\"#EBF0F8\"}},\"shapedefaults\":{\"line\":{\"color\":\"#2a3f5f\"}},\"ternary\":{\"aaxis\":{\"gridcolor\":\"#DFE8F3\",\"linecolor\":\"#A2B1C6\",\"ticks\":\"\"},\"baxis\":{\"gridcolor\":\"#DFE8F3\",\"linecolor\":\"#A2B1C6\",\"ticks\":\"\"},\"bgcolor\":\"white\",\"caxis\":{\"gridcolor\":\"#DFE8F3\",\"linecolor\":\"#A2B1C6\",\"ticks\":\"\"}},\"title\":{\"x\":0.05},\"xaxis\":{\"automargin\":true,\"gridcolor\":\"#EBF0F8\",\"linecolor\":\"#EBF0F8\",\"ticks\":\"\",\"title\":{\"standoff\":15},\"zerolinecolor\":\"#EBF0F8\",\"zerolinewidth\":2},\"yaxis\":{\"automargin\":true,\"gridcolor\":\"#EBF0F8\",\"linecolor\":\"#EBF0F8\",\"ticks\":\"\",\"title\":{\"standoff\":15},\"zerolinecolor\":\"#EBF0F8\",\"zerolinewidth\":2}}},\"xaxis\":{\"anchor\":\"y\",\"domain\":[0.0,1.0],\"title\":{\"text\":\"Операційна система\"},\"categoryorder\":\"array\",\"categoryarray\":[\"Web\",\"Windows\",\"iOS\",\"Android\",\"Macintosh\",\"\\u003cOther\\u003e\"],\"tickangle\":45},\"yaxis\":{\"anchor\":\"x\",\"domain\":[0.0,1.0],\"title\":{\"text\":\"Дохід \"},\"range\":[0,22135085.4]},\"legend\":{\"title\":{\"text\":\"operating_system\"},\"tracegroupgap\":0},\"title\":{\"text\":\"Дохід за операційними системами\"},\"barmode\":\"relative\",\"showlegend\":false,\"height\":500,\"width\":1000},                        {\"responsive\": true}                    ).then(function(){\n",
              "                            \n",
              "var gd = document.getElementById('dbeaaccd-e318-4d42-95ee-7a53497d0db9');\n",
              "var x = new MutationObserver(function (mutations, observer) {{\n",
              "        var display = window.getComputedStyle(gd).display;\n",
              "        if (!display || display === 'none') {{\n",
              "            console.log([gd, 'removed!']);\n",
              "            Plotly.purge(gd);\n",
              "            observer.disconnect();\n",
              "        }}\n",
              "}});\n",
              "\n",
              "// Listen for the removal of the full notebook cells\n",
              "var notebookContainer = gd.closest('#notebook-container');\n",
              "if (notebookContainer) {{\n",
              "    x.observe(notebookContainer, {childList: true});\n",
              "}}\n",
              "\n",
              "// Listen for the clearing of the current output cell\n",
              "var outputEl = gd.closest('.output');\n",
              "if (outputEl) {{\n",
              "    x.observe(outputEl, {childList: true});\n",
              "}}\n",
              "\n",
              "                        })                };                            </script>        </div>\n",
              "</body>\n",
              "</html>"
            ]
          },
          "metadata": {}
        }
      ]
    },
    {
      "cell_type": "markdown",
      "source": [
        " Дохід за видами пристроїв\n",
        "\n",
        "Найбільший дохід генерується через **Mobile (15.68M)**, що значно перевищує інші типи пристроїв.  \n",
        "Пристрій **Desktop (8.92M )** також має суттєвий внесок, але менший за Mobile.  \n",
        "Типи пристроїв **Tablet (3.45M)** і **Other (1.23M)** мають значно нижчий дохід, що може свідчити про меншу популярність або меншу кількість транзакцій через ці пристрої.\n"
      ],
      "metadata": {
        "id": "_5A4G1zwORUk"
      }
    },
    {
      "cell_type": "code",
      "source": [
        "#10 Сума доходу за браузером для покупок\n",
        "revenue_by_browser = df[df['is_purchase'] == True].groupby('browser')['price'].sum().reset_index(name='revenue')\n",
        "revenue_by_browser = revenue_by_browser.sort_values('revenue', ascending=False)\n",
        "fig = px.bar(\n",
        "    revenue_by_browser,\n",
        "    x='browser',\n",
        "    y='revenue',\n",
        "    text=revenue_by_browser['revenue'].apply(lambda x: f'{x:.2f}'),\n",
        "    title='Дохід за браузерами',\n",
        "    color='browser',\n",
        "    color_discrete_sequence=px.colors.sequential.Teal\n",
        ")\n",
        "\n",
        "fig.update_traces(textposition='outside')\n",
        "fig.update_layout(\n",
        "    xaxis_title='Браузер',\n",
        "    yaxis_title='Дохід',\n",
        "    xaxis_tickangle=45,\n",
        "    showlegend=False,\n",
        "    template='plotly_white',\n",
        "    height=500,\n",
        "    width=1000,\n",
        "    yaxis_range=[0, revenue_by_browser['revenue'].max() * 1.2]\n",
        ")\n",
        "fig.show()"
      ],
      "metadata": {
        "colab": {
          "base_uri": "https://localhost:8080/",
          "height": 517
        },
        "id": "rFWypZF0oQ7Y",
        "outputId": "d1d6c321-3aa6-4790-d083-781c28caab94"
      },
      "execution_count": null,
      "outputs": [
        {
          "output_type": "display_data",
          "data": {
            "text/html": [
              "<html>\n",
              "<head><meta charset=\"utf-8\" /></head>\n",
              "<body>\n",
              "    <div>            <script src=\"https://cdnjs.cloudflare.com/ajax/libs/mathjax/2.7.5/MathJax.js?config=TeX-AMS-MML_SVG\"></script><script type=\"text/javascript\">if (window.MathJax && window.MathJax.Hub && window.MathJax.Hub.Config) {window.MathJax.Hub.Config({SVG: {font: \"STIX-Web\"}});}</script>                <script type=\"text/javascript\">window.PlotlyConfig = {MathJaxConfig: 'local'};</script>\n",
              "        <script charset=\"utf-8\" src=\"https://cdn.plot.ly/plotly-2.35.2.min.js\"></script>                <div id=\"58f0ec00-40d8-41af-a7ed-d3d88318ba61\" class=\"plotly-graph-div\" style=\"height:500px; width:1000px;\"></div>            <script type=\"text/javascript\">                                    window.PLOTLYENV=window.PLOTLYENV || {};                                    if (document.getElementById(\"58f0ec00-40d8-41af-a7ed-d3d88318ba61\")) {                    Plotly.newPlot(                        \"58f0ec00-40d8-41af-a7ed-d3d88318ba61\",                        [{\"alignmentgroup\":\"True\",\"hovertemplate\":\"browser=%{x}\\u003cbr\\u003erevenue=%{y}\\u003cbr\\u003etext=%{text}\\u003cextra\\u003e\\u003c\\u002fextra\\u003e\",\"legendgroup\":\"Chrome\",\"marker\":{\"color\":\"rgb(209, 238, 234)\",\"pattern\":{\"shape\":\"\"}},\"name\":\"Chrome\",\"offsetgroup\":\"Chrome\",\"orientation\":\"v\",\"showlegend\":true,\"text\":[\"21826850.00\"],\"textposition\":\"outside\",\"x\":[\"Chrome\"],\"xaxis\":\"x\",\"y\":[21826850.0],\"yaxis\":\"y\",\"type\":\"bar\"},{\"alignmentgroup\":\"True\",\"hovertemplate\":\"browser=%{x}\\u003cbr\\u003erevenue=%{y}\\u003cbr\\u003etext=%{text}\\u003cextra\\u003e\\u003c\\u002fextra\\u003e\",\"legendgroup\":\"Safari\",\"marker\":{\"color\":\"rgb(168, 219, 217)\",\"pattern\":{\"shape\":\"\"}},\"name\":\"Safari\",\"offsetgroup\":\"Safari\",\"orientation\":\"v\",\"showlegend\":true,\"text\":[\"7526544.00\"],\"textposition\":\"outside\",\"x\":[\"Safari\"],\"xaxis\":\"x\",\"y\":[7526544.0],\"yaxis\":\"y\",\"type\":\"bar\"},{\"alignmentgroup\":\"True\",\"hovertemplate\":\"browser=%{x}\\u003cbr\\u003erevenue=%{y}\\u003cbr\\u003etext=%{text}\\u003cextra\\u003e\\u003c\\u002fextra\\u003e\",\"legendgroup\":\"\\u003cOther\\u003e\",\"marker\":{\"color\":\"rgb(133, 196, 201)\",\"pattern\":{\"shape\":\"\"}},\"name\":\"\\u003cOther\\u003e\",\"offsetgroup\":\"\\u003cOther\\u003e\",\"orientation\":\"v\",\"showlegend\":true,\"text\":[\"923354.80\"],\"textposition\":\"outside\",\"x\":[\"\\u003cOther\\u003e\"],\"xaxis\":\"x\",\"y\":[923354.8],\"yaxis\":\"y\",\"type\":\"bar\"},{\"alignmentgroup\":\"True\",\"hovertemplate\":\"browser=%{x}\\u003cbr\\u003erevenue=%{y}\\u003cbr\\u003etext=%{text}\\u003cextra\\u003e\\u003c\\u002fextra\\u003e\",\"legendgroup\":\"Edge\",\"marker\":{\"color\":\"rgb(104, 171, 184)\",\"pattern\":{\"shape\":\"\"}},\"name\":\"Edge\",\"offsetgroup\":\"Edge\",\"orientation\":\"v\",\"showlegend\":true,\"text\":[\"716444.30\"],\"textposition\":\"outside\",\"x\":[\"Edge\"],\"xaxis\":\"x\",\"y\":[716444.3],\"yaxis\":\"y\",\"type\":\"bar\"},{\"alignmentgroup\":\"True\",\"hovertemplate\":\"browser=%{x}\\u003cbr\\u003erevenue=%{y}\\u003cbr\\u003etext=%{text}\\u003cextra\\u003e\\u003c\\u002fextra\\u003e\",\"legendgroup\":\"Firefox\",\"marker\":{\"color\":\"rgb(79, 144, 166)\",\"pattern\":{\"shape\":\"\"}},\"name\":\"Firefox\",\"offsetgroup\":\"Firefox\",\"orientation\":\"v\",\"showlegend\":true,\"text\":[\"567523.60\"],\"textposition\":\"outside\",\"x\":[\"Firefox\"],\"xaxis\":\"x\",\"y\":[567523.6],\"yaxis\":\"y\",\"type\":\"bar\"},{\"alignmentgroup\":\"True\",\"hovertemplate\":\"browser=%{x}\\u003cbr\\u003erevenue=%{y}\\u003cbr\\u003etext=%{text}\\u003cextra\\u003e\\u003c\\u002fextra\\u003e\",\"legendgroup\":\"Android Webview\",\"marker\":{\"color\":\"rgb(59, 115, 143)\",\"pattern\":{\"shape\":\"\"}},\"name\":\"Android Webview\",\"offsetgroup\":\"Android Webview\",\"orientation\":\"v\",\"showlegend\":true,\"text\":[\"411014.40\"],\"textposition\":\"outside\",\"x\":[\"Android Webview\"],\"xaxis\":\"x\",\"y\":[411014.4],\"yaxis\":\"y\",\"type\":\"bar\"}],                        {\"template\":{\"data\":{\"barpolar\":[{\"marker\":{\"line\":{\"color\":\"white\",\"width\":0.5},\"pattern\":{\"fillmode\":\"overlay\",\"size\":10,\"solidity\":0.2}},\"type\":\"barpolar\"}],\"bar\":[{\"error_x\":{\"color\":\"#2a3f5f\"},\"error_y\":{\"color\":\"#2a3f5f\"},\"marker\":{\"line\":{\"color\":\"white\",\"width\":0.5},\"pattern\":{\"fillmode\":\"overlay\",\"size\":10,\"solidity\":0.2}},\"type\":\"bar\"}],\"carpet\":[{\"aaxis\":{\"endlinecolor\":\"#2a3f5f\",\"gridcolor\":\"#C8D4E3\",\"linecolor\":\"#C8D4E3\",\"minorgridcolor\":\"#C8D4E3\",\"startlinecolor\":\"#2a3f5f\"},\"baxis\":{\"endlinecolor\":\"#2a3f5f\",\"gridcolor\":\"#C8D4E3\",\"linecolor\":\"#C8D4E3\",\"minorgridcolor\":\"#C8D4E3\",\"startlinecolor\":\"#2a3f5f\"},\"type\":\"carpet\"}],\"choropleth\":[{\"colorbar\":{\"outlinewidth\":0,\"ticks\":\"\"},\"type\":\"choropleth\"}],\"contourcarpet\":[{\"colorbar\":{\"outlinewidth\":0,\"ticks\":\"\"},\"type\":\"contourcarpet\"}],\"contour\":[{\"colorbar\":{\"outlinewidth\":0,\"ticks\":\"\"},\"colorscale\":[[0.0,\"#0d0887\"],[0.1111111111111111,\"#46039f\"],[0.2222222222222222,\"#7201a8\"],[0.3333333333333333,\"#9c179e\"],[0.4444444444444444,\"#bd3786\"],[0.5555555555555556,\"#d8576b\"],[0.6666666666666666,\"#ed7953\"],[0.7777777777777778,\"#fb9f3a\"],[0.8888888888888888,\"#fdca26\"],[1.0,\"#f0f921\"]],\"type\":\"contour\"}],\"heatmapgl\":[{\"colorbar\":{\"outlinewidth\":0,\"ticks\":\"\"},\"colorscale\":[[0.0,\"#0d0887\"],[0.1111111111111111,\"#46039f\"],[0.2222222222222222,\"#7201a8\"],[0.3333333333333333,\"#9c179e\"],[0.4444444444444444,\"#bd3786\"],[0.5555555555555556,\"#d8576b\"],[0.6666666666666666,\"#ed7953\"],[0.7777777777777778,\"#fb9f3a\"],[0.8888888888888888,\"#fdca26\"],[1.0,\"#f0f921\"]],\"type\":\"heatmapgl\"}],\"heatmap\":[{\"colorbar\":{\"outlinewidth\":0,\"ticks\":\"\"},\"colorscale\":[[0.0,\"#0d0887\"],[0.1111111111111111,\"#46039f\"],[0.2222222222222222,\"#7201a8\"],[0.3333333333333333,\"#9c179e\"],[0.4444444444444444,\"#bd3786\"],[0.5555555555555556,\"#d8576b\"],[0.6666666666666666,\"#ed7953\"],[0.7777777777777778,\"#fb9f3a\"],[0.8888888888888888,\"#fdca26\"],[1.0,\"#f0f921\"]],\"type\":\"heatmap\"}],\"histogram2dcontour\":[{\"colorbar\":{\"outlinewidth\":0,\"ticks\":\"\"},\"colorscale\":[[0.0,\"#0d0887\"],[0.1111111111111111,\"#46039f\"],[0.2222222222222222,\"#7201a8\"],[0.3333333333333333,\"#9c179e\"],[0.4444444444444444,\"#bd3786\"],[0.5555555555555556,\"#d8576b\"],[0.6666666666666666,\"#ed7953\"],[0.7777777777777778,\"#fb9f3a\"],[0.8888888888888888,\"#fdca26\"],[1.0,\"#f0f921\"]],\"type\":\"histogram2dcontour\"}],\"histogram2d\":[{\"colorbar\":{\"outlinewidth\":0,\"ticks\":\"\"},\"colorscale\":[[0.0,\"#0d0887\"],[0.1111111111111111,\"#46039f\"],[0.2222222222222222,\"#7201a8\"],[0.3333333333333333,\"#9c179e\"],[0.4444444444444444,\"#bd3786\"],[0.5555555555555556,\"#d8576b\"],[0.6666666666666666,\"#ed7953\"],[0.7777777777777778,\"#fb9f3a\"],[0.8888888888888888,\"#fdca26\"],[1.0,\"#f0f921\"]],\"type\":\"histogram2d\"}],\"histogram\":[{\"marker\":{\"pattern\":{\"fillmode\":\"overlay\",\"size\":10,\"solidity\":0.2}},\"type\":\"histogram\"}],\"mesh3d\":[{\"colorbar\":{\"outlinewidth\":0,\"ticks\":\"\"},\"type\":\"mesh3d\"}],\"parcoords\":[{\"line\":{\"colorbar\":{\"outlinewidth\":0,\"ticks\":\"\"}},\"type\":\"parcoords\"}],\"pie\":[{\"automargin\":true,\"type\":\"pie\"}],\"scatter3d\":[{\"line\":{\"colorbar\":{\"outlinewidth\":0,\"ticks\":\"\"}},\"marker\":{\"colorbar\":{\"outlinewidth\":0,\"ticks\":\"\"}},\"type\":\"scatter3d\"}],\"scattercarpet\":[{\"marker\":{\"colorbar\":{\"outlinewidth\":0,\"ticks\":\"\"}},\"type\":\"scattercarpet\"}],\"scattergeo\":[{\"marker\":{\"colorbar\":{\"outlinewidth\":0,\"ticks\":\"\"}},\"type\":\"scattergeo\"}],\"scattergl\":[{\"marker\":{\"colorbar\":{\"outlinewidth\":0,\"ticks\":\"\"}},\"type\":\"scattergl\"}],\"scattermapbox\":[{\"marker\":{\"colorbar\":{\"outlinewidth\":0,\"ticks\":\"\"}},\"type\":\"scattermapbox\"}],\"scatterpolargl\":[{\"marker\":{\"colorbar\":{\"outlinewidth\":0,\"ticks\":\"\"}},\"type\":\"scatterpolargl\"}],\"scatterpolar\":[{\"marker\":{\"colorbar\":{\"outlinewidth\":0,\"ticks\":\"\"}},\"type\":\"scatterpolar\"}],\"scatter\":[{\"fillpattern\":{\"fillmode\":\"overlay\",\"size\":10,\"solidity\":0.2},\"type\":\"scatter\"}],\"scatterternary\":[{\"marker\":{\"colorbar\":{\"outlinewidth\":0,\"ticks\":\"\"}},\"type\":\"scatterternary\"}],\"surface\":[{\"colorbar\":{\"outlinewidth\":0,\"ticks\":\"\"},\"colorscale\":[[0.0,\"#0d0887\"],[0.1111111111111111,\"#46039f\"],[0.2222222222222222,\"#7201a8\"],[0.3333333333333333,\"#9c179e\"],[0.4444444444444444,\"#bd3786\"],[0.5555555555555556,\"#d8576b\"],[0.6666666666666666,\"#ed7953\"],[0.7777777777777778,\"#fb9f3a\"],[0.8888888888888888,\"#fdca26\"],[1.0,\"#f0f921\"]],\"type\":\"surface\"}],\"table\":[{\"cells\":{\"fill\":{\"color\":\"#EBF0F8\"},\"line\":{\"color\":\"white\"}},\"header\":{\"fill\":{\"color\":\"#C8D4E3\"},\"line\":{\"color\":\"white\"}},\"type\":\"table\"}]},\"layout\":{\"annotationdefaults\":{\"arrowcolor\":\"#2a3f5f\",\"arrowhead\":0,\"arrowwidth\":1},\"autotypenumbers\":\"strict\",\"coloraxis\":{\"colorbar\":{\"outlinewidth\":0,\"ticks\":\"\"}},\"colorscale\":{\"diverging\":[[0,\"#8e0152\"],[0.1,\"#c51b7d\"],[0.2,\"#de77ae\"],[0.3,\"#f1b6da\"],[0.4,\"#fde0ef\"],[0.5,\"#f7f7f7\"],[0.6,\"#e6f5d0\"],[0.7,\"#b8e186\"],[0.8,\"#7fbc41\"],[0.9,\"#4d9221\"],[1,\"#276419\"]],\"sequential\":[[0.0,\"#0d0887\"],[0.1111111111111111,\"#46039f\"],[0.2222222222222222,\"#7201a8\"],[0.3333333333333333,\"#9c179e\"],[0.4444444444444444,\"#bd3786\"],[0.5555555555555556,\"#d8576b\"],[0.6666666666666666,\"#ed7953\"],[0.7777777777777778,\"#fb9f3a\"],[0.8888888888888888,\"#fdca26\"],[1.0,\"#f0f921\"]],\"sequentialminus\":[[0.0,\"#0d0887\"],[0.1111111111111111,\"#46039f\"],[0.2222222222222222,\"#7201a8\"],[0.3333333333333333,\"#9c179e\"],[0.4444444444444444,\"#bd3786\"],[0.5555555555555556,\"#d8576b\"],[0.6666666666666666,\"#ed7953\"],[0.7777777777777778,\"#fb9f3a\"],[0.8888888888888888,\"#fdca26\"],[1.0,\"#f0f921\"]]},\"colorway\":[\"#636efa\",\"#EF553B\",\"#00cc96\",\"#ab63fa\",\"#FFA15A\",\"#19d3f3\",\"#FF6692\",\"#B6E880\",\"#FF97FF\",\"#FECB52\"],\"font\":{\"color\":\"#2a3f5f\"},\"geo\":{\"bgcolor\":\"white\",\"lakecolor\":\"white\",\"landcolor\":\"white\",\"showlakes\":true,\"showland\":true,\"subunitcolor\":\"#C8D4E3\"},\"hoverlabel\":{\"align\":\"left\"},\"hovermode\":\"closest\",\"mapbox\":{\"style\":\"light\"},\"paper_bgcolor\":\"white\",\"plot_bgcolor\":\"white\",\"polar\":{\"angularaxis\":{\"gridcolor\":\"#EBF0F8\",\"linecolor\":\"#EBF0F8\",\"ticks\":\"\"},\"bgcolor\":\"white\",\"radialaxis\":{\"gridcolor\":\"#EBF0F8\",\"linecolor\":\"#EBF0F8\",\"ticks\":\"\"}},\"scene\":{\"xaxis\":{\"backgroundcolor\":\"white\",\"gridcolor\":\"#DFE8F3\",\"gridwidth\":2,\"linecolor\":\"#EBF0F8\",\"showbackground\":true,\"ticks\":\"\",\"zerolinecolor\":\"#EBF0F8\"},\"yaxis\":{\"backgroundcolor\":\"white\",\"gridcolor\":\"#DFE8F3\",\"gridwidth\":2,\"linecolor\":\"#EBF0F8\",\"showbackground\":true,\"ticks\":\"\",\"zerolinecolor\":\"#EBF0F8\"},\"zaxis\":{\"backgroundcolor\":\"white\",\"gridcolor\":\"#DFE8F3\",\"gridwidth\":2,\"linecolor\":\"#EBF0F8\",\"showbackground\":true,\"ticks\":\"\",\"zerolinecolor\":\"#EBF0F8\"}},\"shapedefaults\":{\"line\":{\"color\":\"#2a3f5f\"}},\"ternary\":{\"aaxis\":{\"gridcolor\":\"#DFE8F3\",\"linecolor\":\"#A2B1C6\",\"ticks\":\"\"},\"baxis\":{\"gridcolor\":\"#DFE8F3\",\"linecolor\":\"#A2B1C6\",\"ticks\":\"\"},\"bgcolor\":\"white\",\"caxis\":{\"gridcolor\":\"#DFE8F3\",\"linecolor\":\"#A2B1C6\",\"ticks\":\"\"}},\"title\":{\"x\":0.05},\"xaxis\":{\"automargin\":true,\"gridcolor\":\"#EBF0F8\",\"linecolor\":\"#EBF0F8\",\"ticks\":\"\",\"title\":{\"standoff\":15},\"zerolinecolor\":\"#EBF0F8\",\"zerolinewidth\":2},\"yaxis\":{\"automargin\":true,\"gridcolor\":\"#EBF0F8\",\"linecolor\":\"#EBF0F8\",\"ticks\":\"\",\"title\":{\"standoff\":15},\"zerolinecolor\":\"#EBF0F8\",\"zerolinewidth\":2}}},\"xaxis\":{\"anchor\":\"y\",\"domain\":[0.0,1.0],\"title\":{\"text\":\"Браузер\"},\"categoryorder\":\"array\",\"categoryarray\":[\"Chrome\",\"Safari\",\"\\u003cOther\\u003e\",\"Edge\",\"Firefox\",\"Android Webview\"],\"tickangle\":45},\"yaxis\":{\"anchor\":\"x\",\"domain\":[0.0,1.0],\"title\":{\"text\":\"Дохід\"},\"range\":[0,26192220.0]},\"legend\":{\"title\":{\"text\":\"browser\"},\"tracegroupgap\":0},\"title\":{\"text\":\"Дохід за браузерами\"},\"barmode\":\"relative\",\"showlegend\":false,\"height\":500,\"width\":1000},                        {\"responsive\": true}                    ).then(function(){\n",
              "                            \n",
              "var gd = document.getElementById('58f0ec00-40d8-41af-a7ed-d3d88318ba61');\n",
              "var x = new MutationObserver(function (mutations, observer) {{\n",
              "        var display = window.getComputedStyle(gd).display;\n",
              "        if (!display || display === 'none') {{\n",
              "            console.log([gd, 'removed!']);\n",
              "            Plotly.purge(gd);\n",
              "            observer.disconnect();\n",
              "        }}\n",
              "}});\n",
              "\n",
              "// Listen for the removal of the full notebook cells\n",
              "var notebookContainer = gd.closest('#notebook-container');\n",
              "if (notebookContainer) {{\n",
              "    x.observe(notebookContainer, {childList: true});\n",
              "}}\n",
              "\n",
              "// Listen for the clearing of the current output cell\n",
              "var outputEl = gd.closest('.output');\n",
              "if (outputEl) {{\n",
              "    x.observe(outputEl, {childList: true});\n",
              "}}\n",
              "\n",
              "                        })                };                            </script>        </div>\n",
              "</body>\n",
              "</html>"
            ]
          },
          "metadata": {}
        }
      ]
    },
    {
      "cell_type": "markdown",
      "source": [
        "Графік \"Дохід за браузерами\" відображає загальний дохід за різними браузерами за певний період. **Найбільший дохід** в сумі 21,826,850.00 генерується через браузер **Chrome**, за ним іде** Safari** з 7,526,544.00. Інші браузери, такі як \"Other\" , Edge, Firefox та Android Webview  мають значно менший внесок. Це вказує на домінування Chrome та Safari у генеруванні доходу."
      ],
      "metadata": {
        "id": "8tbCBWbz7mSG"
      }
    },
    {
      "cell_type": "code",
      "source": [
        "#11 Сума доходу за пристроєм для покупок\n",
        "revenue_by_device = df[df['is_purchase'] == True].groupby('device')['price'].sum().reset_index(name='revenue')\n",
        "revenue_by_device = revenue_by_device.sort_values('revenue', ascending=False)\n",
        "fig = px.bar(\n",
        "    revenue_by_device,\n",
        "    x='device',\n",
        "    y='revenue',\n",
        "    text=revenue_by_device['revenue'].apply(lambda x: f'{x:.2f}'),\n",
        "    title='Дохід за пристроями',\n",
        "    color='device',\n",
        "    color_discrete_sequence=px.colors.sequential.Teal\n",
        ")\n",
        "fig.update_traces(textposition='outside')\n",
        "fig.update_layout(\n",
        "    xaxis_title='Пристрій',\n",
        "    yaxis_title='Дохід (грн)',\n",
        "    xaxis_tickangle=45,\n",
        "    showlegend=False,\n",
        "    template='plotly_white',\n",
        "    height=500,\n",
        "    width=1000,\n",
        "    yaxis_range=[0, revenue_by_device['revenue'].max() * 1.2]\n",
        ")\n",
        "fig.show()"
      ],
      "metadata": {
        "colab": {
          "base_uri": "https://localhost:8080/",
          "height": 517
        },
        "id": "IHUAmn9EoU7h",
        "outputId": "835aea4a-7e15-491c-c9c8-24f0af00ee1a"
      },
      "execution_count": null,
      "outputs": [
        {
          "output_type": "display_data",
          "data": {
            "text/html": [
              "<html>\n",
              "<head><meta charset=\"utf-8\" /></head>\n",
              "<body>\n",
              "    <div>            <script src=\"https://cdnjs.cloudflare.com/ajax/libs/mathjax/2.7.5/MathJax.js?config=TeX-AMS-MML_SVG\"></script><script type=\"text/javascript\">if (window.MathJax && window.MathJax.Hub && window.MathJax.Hub.Config) {window.MathJax.Hub.Config({SVG: {font: \"STIX-Web\"}});}</script>                <script type=\"text/javascript\">window.PlotlyConfig = {MathJaxConfig: 'local'};</script>\n",
              "        <script charset=\"utf-8\" src=\"https://cdn.plot.ly/plotly-2.35.2.min.js\"></script>                <div id=\"12277682-f926-4273-afe7-edc7eb0607a1\" class=\"plotly-graph-div\" style=\"height:500px; width:1000px;\"></div>            <script type=\"text/javascript\">                                    window.PLOTLYENV=window.PLOTLYENV || {};                                    if (document.getElementById(\"12277682-f926-4273-afe7-edc7eb0607a1\")) {                    Plotly.newPlot(                        \"12277682-f926-4273-afe7-edc7eb0607a1\",                        [{\"alignmentgroup\":\"True\",\"hovertemplate\":\"device=%{x}\\u003cbr\\u003erevenue=%{y}\\u003cbr\\u003etext=%{text}\\u003cextra\\u003e\\u003c\\u002fextra\\u003e\",\"legendgroup\":\"desktop\",\"marker\":{\"color\":\"rgb(209, 238, 234)\",\"pattern\":{\"shape\":\"\"}},\"name\":\"desktop\",\"offsetgroup\":\"desktop\",\"orientation\":\"v\",\"showlegend\":true,\"text\":[\"18864039.00\"],\"textposition\":\"outside\",\"x\":[\"desktop\"],\"xaxis\":\"x\",\"y\":[18864039.0],\"yaxis\":\"y\",\"type\":\"bar\"},{\"alignmentgroup\":\"True\",\"hovertemplate\":\"device=%{x}\\u003cbr\\u003erevenue=%{y}\\u003cbr\\u003etext=%{text}\\u003cextra\\u003e\\u003c\\u002fextra\\u003e\",\"legendgroup\":\"mobile\",\"marker\":{\"color\":\"rgb(168, 219, 217)\",\"pattern\":{\"shape\":\"\"}},\"name\":\"mobile\",\"offsetgroup\":\"mobile\",\"orientation\":\"v\",\"showlegend\":true,\"text\":[\"12384225.80\"],\"textposition\":\"outside\",\"x\":[\"mobile\"],\"xaxis\":\"x\",\"y\":[12384225.8],\"yaxis\":\"y\",\"type\":\"bar\"},{\"alignmentgroup\":\"True\",\"hovertemplate\":\"device=%{x}\\u003cbr\\u003erevenue=%{y}\\u003cbr\\u003etext=%{text}\\u003cextra\\u003e\\u003c\\u002fextra\\u003e\",\"legendgroup\":\"tablet\",\"marker\":{\"color\":\"rgb(133, 196, 201)\",\"pattern\":{\"shape\":\"\"}},\"name\":\"tablet\",\"offsetgroup\":\"tablet\",\"orientation\":\"v\",\"showlegend\":true,\"text\":[\"723466.30\"],\"textposition\":\"outside\",\"x\":[\"tablet\"],\"xaxis\":\"x\",\"y\":[723466.3],\"yaxis\":\"y\",\"type\":\"bar\"}],                        {\"template\":{\"data\":{\"barpolar\":[{\"marker\":{\"line\":{\"color\":\"white\",\"width\":0.5},\"pattern\":{\"fillmode\":\"overlay\",\"size\":10,\"solidity\":0.2}},\"type\":\"barpolar\"}],\"bar\":[{\"error_x\":{\"color\":\"#2a3f5f\"},\"error_y\":{\"color\":\"#2a3f5f\"},\"marker\":{\"line\":{\"color\":\"white\",\"width\":0.5},\"pattern\":{\"fillmode\":\"overlay\",\"size\":10,\"solidity\":0.2}},\"type\":\"bar\"}],\"carpet\":[{\"aaxis\":{\"endlinecolor\":\"#2a3f5f\",\"gridcolor\":\"#C8D4E3\",\"linecolor\":\"#C8D4E3\",\"minorgridcolor\":\"#C8D4E3\",\"startlinecolor\":\"#2a3f5f\"},\"baxis\":{\"endlinecolor\":\"#2a3f5f\",\"gridcolor\":\"#C8D4E3\",\"linecolor\":\"#C8D4E3\",\"minorgridcolor\":\"#C8D4E3\",\"startlinecolor\":\"#2a3f5f\"},\"type\":\"carpet\"}],\"choropleth\":[{\"colorbar\":{\"outlinewidth\":0,\"ticks\":\"\"},\"type\":\"choropleth\"}],\"contourcarpet\":[{\"colorbar\":{\"outlinewidth\":0,\"ticks\":\"\"},\"type\":\"contourcarpet\"}],\"contour\":[{\"colorbar\":{\"outlinewidth\":0,\"ticks\":\"\"},\"colorscale\":[[0.0,\"#0d0887\"],[0.1111111111111111,\"#46039f\"],[0.2222222222222222,\"#7201a8\"],[0.3333333333333333,\"#9c179e\"],[0.4444444444444444,\"#bd3786\"],[0.5555555555555556,\"#d8576b\"],[0.6666666666666666,\"#ed7953\"],[0.7777777777777778,\"#fb9f3a\"],[0.8888888888888888,\"#fdca26\"],[1.0,\"#f0f921\"]],\"type\":\"contour\"}],\"heatmapgl\":[{\"colorbar\":{\"outlinewidth\":0,\"ticks\":\"\"},\"colorscale\":[[0.0,\"#0d0887\"],[0.1111111111111111,\"#46039f\"],[0.2222222222222222,\"#7201a8\"],[0.3333333333333333,\"#9c179e\"],[0.4444444444444444,\"#bd3786\"],[0.5555555555555556,\"#d8576b\"],[0.6666666666666666,\"#ed7953\"],[0.7777777777777778,\"#fb9f3a\"],[0.8888888888888888,\"#fdca26\"],[1.0,\"#f0f921\"]],\"type\":\"heatmapgl\"}],\"heatmap\":[{\"colorbar\":{\"outlinewidth\":0,\"ticks\":\"\"},\"colorscale\":[[0.0,\"#0d0887\"],[0.1111111111111111,\"#46039f\"],[0.2222222222222222,\"#7201a8\"],[0.3333333333333333,\"#9c179e\"],[0.4444444444444444,\"#bd3786\"],[0.5555555555555556,\"#d8576b\"],[0.6666666666666666,\"#ed7953\"],[0.7777777777777778,\"#fb9f3a\"],[0.8888888888888888,\"#fdca26\"],[1.0,\"#f0f921\"]],\"type\":\"heatmap\"}],\"histogram2dcontour\":[{\"colorbar\":{\"outlinewidth\":0,\"ticks\":\"\"},\"colorscale\":[[0.0,\"#0d0887\"],[0.1111111111111111,\"#46039f\"],[0.2222222222222222,\"#7201a8\"],[0.3333333333333333,\"#9c179e\"],[0.4444444444444444,\"#bd3786\"],[0.5555555555555556,\"#d8576b\"],[0.6666666666666666,\"#ed7953\"],[0.7777777777777778,\"#fb9f3a\"],[0.8888888888888888,\"#fdca26\"],[1.0,\"#f0f921\"]],\"type\":\"histogram2dcontour\"}],\"histogram2d\":[{\"colorbar\":{\"outlinewidth\":0,\"ticks\":\"\"},\"colorscale\":[[0.0,\"#0d0887\"],[0.1111111111111111,\"#46039f\"],[0.2222222222222222,\"#7201a8\"],[0.3333333333333333,\"#9c179e\"],[0.4444444444444444,\"#bd3786\"],[0.5555555555555556,\"#d8576b\"],[0.6666666666666666,\"#ed7953\"],[0.7777777777777778,\"#fb9f3a\"],[0.8888888888888888,\"#fdca26\"],[1.0,\"#f0f921\"]],\"type\":\"histogram2d\"}],\"histogram\":[{\"marker\":{\"pattern\":{\"fillmode\":\"overlay\",\"size\":10,\"solidity\":0.2}},\"type\":\"histogram\"}],\"mesh3d\":[{\"colorbar\":{\"outlinewidth\":0,\"ticks\":\"\"},\"type\":\"mesh3d\"}],\"parcoords\":[{\"line\":{\"colorbar\":{\"outlinewidth\":0,\"ticks\":\"\"}},\"type\":\"parcoords\"}],\"pie\":[{\"automargin\":true,\"type\":\"pie\"}],\"scatter3d\":[{\"line\":{\"colorbar\":{\"outlinewidth\":0,\"ticks\":\"\"}},\"marker\":{\"colorbar\":{\"outlinewidth\":0,\"ticks\":\"\"}},\"type\":\"scatter3d\"}],\"scattercarpet\":[{\"marker\":{\"colorbar\":{\"outlinewidth\":0,\"ticks\":\"\"}},\"type\":\"scattercarpet\"}],\"scattergeo\":[{\"marker\":{\"colorbar\":{\"outlinewidth\":0,\"ticks\":\"\"}},\"type\":\"scattergeo\"}],\"scattergl\":[{\"marker\":{\"colorbar\":{\"outlinewidth\":0,\"ticks\":\"\"}},\"type\":\"scattergl\"}],\"scattermapbox\":[{\"marker\":{\"colorbar\":{\"outlinewidth\":0,\"ticks\":\"\"}},\"type\":\"scattermapbox\"}],\"scatterpolargl\":[{\"marker\":{\"colorbar\":{\"outlinewidth\":0,\"ticks\":\"\"}},\"type\":\"scatterpolargl\"}],\"scatterpolar\":[{\"marker\":{\"colorbar\":{\"outlinewidth\":0,\"ticks\":\"\"}},\"type\":\"scatterpolar\"}],\"scatter\":[{\"fillpattern\":{\"fillmode\":\"overlay\",\"size\":10,\"solidity\":0.2},\"type\":\"scatter\"}],\"scatterternary\":[{\"marker\":{\"colorbar\":{\"outlinewidth\":0,\"ticks\":\"\"}},\"type\":\"scatterternary\"}],\"surface\":[{\"colorbar\":{\"outlinewidth\":0,\"ticks\":\"\"},\"colorscale\":[[0.0,\"#0d0887\"],[0.1111111111111111,\"#46039f\"],[0.2222222222222222,\"#7201a8\"],[0.3333333333333333,\"#9c179e\"],[0.4444444444444444,\"#bd3786\"],[0.5555555555555556,\"#d8576b\"],[0.6666666666666666,\"#ed7953\"],[0.7777777777777778,\"#fb9f3a\"],[0.8888888888888888,\"#fdca26\"],[1.0,\"#f0f921\"]],\"type\":\"surface\"}],\"table\":[{\"cells\":{\"fill\":{\"color\":\"#EBF0F8\"},\"line\":{\"color\":\"white\"}},\"header\":{\"fill\":{\"color\":\"#C8D4E3\"},\"line\":{\"color\":\"white\"}},\"type\":\"table\"}]},\"layout\":{\"annotationdefaults\":{\"arrowcolor\":\"#2a3f5f\",\"arrowhead\":0,\"arrowwidth\":1},\"autotypenumbers\":\"strict\",\"coloraxis\":{\"colorbar\":{\"outlinewidth\":0,\"ticks\":\"\"}},\"colorscale\":{\"diverging\":[[0,\"#8e0152\"],[0.1,\"#c51b7d\"],[0.2,\"#de77ae\"],[0.3,\"#f1b6da\"],[0.4,\"#fde0ef\"],[0.5,\"#f7f7f7\"],[0.6,\"#e6f5d0\"],[0.7,\"#b8e186\"],[0.8,\"#7fbc41\"],[0.9,\"#4d9221\"],[1,\"#276419\"]],\"sequential\":[[0.0,\"#0d0887\"],[0.1111111111111111,\"#46039f\"],[0.2222222222222222,\"#7201a8\"],[0.3333333333333333,\"#9c179e\"],[0.4444444444444444,\"#bd3786\"],[0.5555555555555556,\"#d8576b\"],[0.6666666666666666,\"#ed7953\"],[0.7777777777777778,\"#fb9f3a\"],[0.8888888888888888,\"#fdca26\"],[1.0,\"#f0f921\"]],\"sequentialminus\":[[0.0,\"#0d0887\"],[0.1111111111111111,\"#46039f\"],[0.2222222222222222,\"#7201a8\"],[0.3333333333333333,\"#9c179e\"],[0.4444444444444444,\"#bd3786\"],[0.5555555555555556,\"#d8576b\"],[0.6666666666666666,\"#ed7953\"],[0.7777777777777778,\"#fb9f3a\"],[0.8888888888888888,\"#fdca26\"],[1.0,\"#f0f921\"]]},\"colorway\":[\"#636efa\",\"#EF553B\",\"#00cc96\",\"#ab63fa\",\"#FFA15A\",\"#19d3f3\",\"#FF6692\",\"#B6E880\",\"#FF97FF\",\"#FECB52\"],\"font\":{\"color\":\"#2a3f5f\"},\"geo\":{\"bgcolor\":\"white\",\"lakecolor\":\"white\",\"landcolor\":\"white\",\"showlakes\":true,\"showland\":true,\"subunitcolor\":\"#C8D4E3\"},\"hoverlabel\":{\"align\":\"left\"},\"hovermode\":\"closest\",\"mapbox\":{\"style\":\"light\"},\"paper_bgcolor\":\"white\",\"plot_bgcolor\":\"white\",\"polar\":{\"angularaxis\":{\"gridcolor\":\"#EBF0F8\",\"linecolor\":\"#EBF0F8\",\"ticks\":\"\"},\"bgcolor\":\"white\",\"radialaxis\":{\"gridcolor\":\"#EBF0F8\",\"linecolor\":\"#EBF0F8\",\"ticks\":\"\"}},\"scene\":{\"xaxis\":{\"backgroundcolor\":\"white\",\"gridcolor\":\"#DFE8F3\",\"gridwidth\":2,\"linecolor\":\"#EBF0F8\",\"showbackground\":true,\"ticks\":\"\",\"zerolinecolor\":\"#EBF0F8\"},\"yaxis\":{\"backgroundcolor\":\"white\",\"gridcolor\":\"#DFE8F3\",\"gridwidth\":2,\"linecolor\":\"#EBF0F8\",\"showbackground\":true,\"ticks\":\"\",\"zerolinecolor\":\"#EBF0F8\"},\"zaxis\":{\"backgroundcolor\":\"white\",\"gridcolor\":\"#DFE8F3\",\"gridwidth\":2,\"linecolor\":\"#EBF0F8\",\"showbackground\":true,\"ticks\":\"\",\"zerolinecolor\":\"#EBF0F8\"}},\"shapedefaults\":{\"line\":{\"color\":\"#2a3f5f\"}},\"ternary\":{\"aaxis\":{\"gridcolor\":\"#DFE8F3\",\"linecolor\":\"#A2B1C6\",\"ticks\":\"\"},\"baxis\":{\"gridcolor\":\"#DFE8F3\",\"linecolor\":\"#A2B1C6\",\"ticks\":\"\"},\"bgcolor\":\"white\",\"caxis\":{\"gridcolor\":\"#DFE8F3\",\"linecolor\":\"#A2B1C6\",\"ticks\":\"\"}},\"title\":{\"x\":0.05},\"xaxis\":{\"automargin\":true,\"gridcolor\":\"#EBF0F8\",\"linecolor\":\"#EBF0F8\",\"ticks\":\"\",\"title\":{\"standoff\":15},\"zerolinecolor\":\"#EBF0F8\",\"zerolinewidth\":2},\"yaxis\":{\"automargin\":true,\"gridcolor\":\"#EBF0F8\",\"linecolor\":\"#EBF0F8\",\"ticks\":\"\",\"title\":{\"standoff\":15},\"zerolinecolor\":\"#EBF0F8\",\"zerolinewidth\":2}}},\"xaxis\":{\"anchor\":\"y\",\"domain\":[0.0,1.0],\"title\":{\"text\":\"Пристрій\"},\"categoryorder\":\"array\",\"categoryarray\":[\"desktop\",\"mobile\",\"tablet\"],\"tickangle\":45},\"yaxis\":{\"anchor\":\"x\",\"domain\":[0.0,1.0],\"title\":{\"text\":\"Дохід (грн)\"},\"range\":[0,22636846.8]},\"legend\":{\"title\":{\"text\":\"device\"},\"tracegroupgap\":0},\"title\":{\"text\":\"Дохід за пристроями\"},\"barmode\":\"relative\",\"showlegend\":false,\"height\":500,\"width\":1000},                        {\"responsive\": true}                    ).then(function(){\n",
              "                            \n",
              "var gd = document.getElementById('12277682-f926-4273-afe7-edc7eb0607a1');\n",
              "var x = new MutationObserver(function (mutations, observer) {{\n",
              "        var display = window.getComputedStyle(gd).display;\n",
              "        if (!display || display === 'none') {{\n",
              "            console.log([gd, 'removed!']);\n",
              "            Plotly.purge(gd);\n",
              "            observer.disconnect();\n",
              "        }}\n",
              "}});\n",
              "\n",
              "// Listen for the removal of the full notebook cells\n",
              "var notebookContainer = gd.closest('#notebook-container');\n",
              "if (notebookContainer) {{\n",
              "    x.observe(notebookContainer, {childList: true});\n",
              "}}\n",
              "\n",
              "// Listen for the clearing of the current output cell\n",
              "var outputEl = gd.closest('.output');\n",
              "if (outputEl) {{\n",
              "    x.observe(outputEl, {childList: true});\n",
              "}}\n",
              "\n",
              "                        })                };                            </script>        </div>\n",
              "</body>\n",
              "</html>"
            ]
          },
          "metadata": {}
        }
      ]
    },
    {
      "cell_type": "markdown",
      "source": [
        "Графік \"Дохід за пристроями\" демонструє, що найбільший дохід, в сумі18,864 039 генерується з десктопних пристроїв, що становить значну частину загального доходу. Мобільні пристрої також мають суттєвий внесок із 12,384,225.80, тоді як планшети приносять значно менше — 723,466.30  Це вказує на **домінування десктопів і мобільних пристроїв у генеруванні доходу**, тоді як планшети мають мінімальний вплив"
      ],
      "metadata": {
        "id": "gonKF1i68JMU"
      }
    },
    {
      "cell_type": "markdown",
      "source": [
        "# Статистичний аналіз взаємозв'язків\n",
        "\n",
        "\n",
        "\n",
        "1.   Кількість сесій та загальні продажі за кожну дату, візуалізація, кореляція та статистична значущість\n",
        "2.  Кореляція продажів між топ-3 континентами та статистична значущість\n",
        "\n",
        "\n",
        "2.   Кореляція продажів між каналами трафіку та статистична значущість\n",
        "\n",
        "\n",
        "\n",
        "1.   Аналіз кореляції між продажами топ-5 категорій товарів\n",
        "2.   Пункт списку\n",
        "\n",
        "\n",
        "\n"
      ],
      "metadata": {
        "id": "5AO5NOS5CgSz"
      }
    },
    {
      "cell_type": "code",
      "source": [
        "# 1 ОКількість сесій та загальні продажі за кожну дату, візуалізація, кореляція та статистична значущість\n",
        "daily_data = df.groupby('date').agg(\n",
        "    sessions=('session_id', 'nunique'),\n",
        "    sales=('price', 'sum')\n",
        ").reset_index()\n",
        "\n",
        "# Візуалізація: scatter plot для кореляції з лінією тренду\n",
        "plt.figure(figsize=(8, 6))\n",
        "plt.scatter(daily_data['sessions'], daily_data['sales'], color='green', label='Дані')\n",
        "# Обчислення лінійної регресії\n",
        "coefficients = np.polyfit(daily_data['sessions'], daily_data['sales'], 1)\n",
        "polynomial = np.poly1d(coefficients)\n",
        "# лінія тренду\n",
        "trendline_x = np.array([daily_data['sessions'].min(), daily_data['sessions'].max()])\n",
        "trendline_y = polynomial(trendline_x)\n",
        "plt.plot(trendline_x, trendline_y, color='red', linestyle='--', label='Лінія тренду')\n",
        "plt.xlabel('Кількість сесій')\n",
        "plt.ylabel('Загальні продажі')\n",
        "plt.title('Взаємозв’язок між сесіями та продажами')\n",
        "plt.grid(True)\n",
        "plt.legend()\n",
        "plt.show()\n",
        "\n",
        "# Обчислення коефіцієнта кореляції Пірсона та p-value\n",
        "corr, p_value = pearsonr(daily_data['sessions'], daily_data['sales'])\n",
        "print(f\"Коефіцієнт кореляції Пірсона: {corr:.4f}\")\n",
        "print(f\"P-value: {p_value:.4f}\")\n",
        "if p_value < 0.05:\n",
        "    print(\"Кореляція статистично значуща (p < 0.05).\")\n",
        "else:\n",
        "    print(\"Кореляція не є статистично значущою (p >= 0.05).\")"
      ],
      "metadata": {
        "colab": {
          "base_uri": "https://localhost:8080/",
          "height": 625
        },
        "id": "BEuiJ_BouPUo",
        "outputId": "a76ed90a-fc4b-43af-d5f9-a6c85a1c31ed"
      },
      "execution_count": null,
      "outputs": [
        {
          "output_type": "display_data",
          "data": {
            "text/plain": [
              "<Figure size 800x600 with 1 Axes>"
            ],
            "image/png": "[encoded data removed]"
          },
          "metadata": {}
        },
        {
          "output_type": "stream",
          "name": "stdout",
          "text": [
            "Коефіцієнт кореляції Пірсона: 0.7911\n",
            "P-value: 0.0000\n",
            "Кореляція статистично значуща (p < 0.05).\n"
          ]
        }
      ]
    },
    {
      "cell_type": "markdown",
      "source": [
        "Графік \"Взаємозв’язок між сесіями та продажами\" показує **сильну позитивну кореляцію** (коефіцієнт Пірсона 0.7911) між кількістю сесій та загальними продажами, що підтверджується статистично значущим p-value (0.0000 < 0.05). Це вказує на те, **що зростання сесій, як правило, супроводжується підвищенням продажів**."
      ],
      "metadata": {
        "id": "rE4w7F0e9Int"
      }
    },
    {
      "cell_type": "code",
      "source": [
        "# 2 Кореляція продажів між топ-3 континентами та статистична значущість\n",
        "total_sales_continent = df.groupby('continent')['price'].sum().sort_values(ascending=False)\n",
        "top3_continents = total_sales_continent.head(3).index.tolist()\n",
        "print(f\"Топ-3 континенти: {top3_continents}\")\n",
        "daily_sales_cont = df[df['continent'].isin(top3_continents)].pivot_table(\n",
        "    index='date', columns='continent', values='price', aggfunc='sum'\n",
        ").fillna(0)\n",
        "# Матриця кореляцій\n",
        "corr_matrix = daily_sales_cont.corr()\n",
        "print(\"Матриця кореляцій:\")\n",
        "print(corr_matrix)\n",
        "# пари континентів\n",
        "pairs = []\n",
        "for i in range(len(top3_continents)):\n",
        "    for j in range(i + 1, len(top3_continents)):\n",
        "        pairs.append((top3_continents[i], top3_continents[j]))\n",
        "# Аналіз статистичної значущості для кожної пари\n",
        "for cont1, cont2 in pairs:\n",
        "    corr, p_value = pearsonr(daily_sales_cont[cont1], daily_sales_cont[cont2])\n",
        "    print(f\"\\nПара: {cont1} - {cont2}\")\n",
        "    print(f\"Коефіцієнт кореляції Пірсона: {corr:.4f}\")\n",
        "    print(f\"P-value: {p_value:.4f}\")\n",
        "    if p_value < 0.05:\n",
        "        print(\"Кореляція статистично значуща (p < 0.05).\")\n",
        "    else:\n",
        "        print(\"Кореляція не є статистично значущою (p >= 0.05).\")"
      ],
      "metadata": {
        "colab": {
          "base_uri": "https://localhost:8080/"
        },
        "id": "3-RTCYiGuwZ2",
        "outputId": "e9b86dde-8208-4f78-f974-ac8cb4470dd7"
      },
      "execution_count": null,
      "outputs": [
        {
          "output_type": "stream",
          "name": "stdout",
          "text": [
            "Топ-3 континенти: ['Americas', 'Asia', 'Europe']\n",
            "Матриця кореляцій:\n",
            "continent  Americas      Asia    Europe\n",
            "continent                              \n",
            "Americas   1.000000  0.792025  0.770586\n",
            "Asia       0.792025  1.000000  0.768427\n",
            "Europe     0.770586  0.768427  1.000000\n",
            "\n",
            "Пара: Americas - Asia\n",
            "Коефіцієнт кореляції Пірсона: 0.7920\n",
            "P-value: 0.0000\n",
            "Кореляція статистично значуща (p < 0.05).\n",
            "\n",
            "Пара: Americas - Europe\n",
            "Коефіцієнт кореляції Пірсона: 0.7706\n",
            "P-value: 0.0000\n",
            "Кореляція статистично значуща (p < 0.05).\n",
            "\n",
            "Пара: Asia - Europe\n",
            "Коефіцієнт кореляції Пірсона: 0.7684\n",
            "P-value: 0.0000\n",
            "Кореляція статистично значуща (p < 0.05).\n"
          ]
        }
      ]
    },
    {
      "cell_type": "code",
      "source": [
        "# 3 Кореляція продажів між каналами трафіку та статистична значущість\n",
        "channels = df['channel'].unique().tolist()\n",
        "print(f\"Канали трафіку: {channels}\")\n",
        "# Щоденні продажі за каналами\n",
        "daily_sales_chan = df.pivot_table(\n",
        "    index='date', columns='channel', values='price', aggfunc='sum'\n",
        ").fillna(0)\n",
        "# Матриця кореляцій\n",
        "corr_matrix = daily_sales_chan.corr()\n",
        "print(\"Матриця кореляцій:\")\n",
        "print(corr_matrix)\n",
        "# пари каналів\n",
        "pairs = []\n",
        "for i in range(len(channels)):\n",
        "    for j in range(i + 1, len(channels)):\n",
        "        pairs.append((channels[i], channels[j]))\n",
        "\n",
        "# Аналіз статистичної значущості для кожної пари\n",
        "for chan1, chan2 in pairs:\n",
        "    corr, p_value = pearsonr(daily_sales_chan[chan1], daily_sales_chan[chan2])\n",
        "    print(f\"\\nПара: {chan1} - {chan2}\")\n",
        "    print(f\"Коефіцієнт кореляції Пірсона: {corr:.4f}\")\n",
        "    print(f\"P-value: {p_value:.4f}\")\n",
        "    if p_value < 0.05:\n",
        "        print(\"Кореляція статистично значуща (p < 0.05).\")\n",
        "    else:\n",
        "        print(\"Кореляція не є статистично значущою (p >= 0.05).\")"
      ],
      "metadata": {
        "colab": {
          "base_uri": "https://localhost:8080/"
        },
        "id": "2e3JMFHfu5RH",
        "outputId": "d5e943c0-0230-44cd-cc04-739d1b2fe8ce"
      },
      "execution_count": null,
      "outputs": [
        {
          "output_type": "stream",
          "name": "stdout",
          "text": [
            "Канали трафіку: ['Paid Search', 'Organic Search', 'Direct', 'Undefined', 'Social Search']\n",
            "Матриця кореляцій:\n",
            "channel           Direct  Organic Search  Paid Search  Social Search  \\\n",
            "channel                                                                \n",
            "Direct          1.000000        0.837833     0.814072       0.604060   \n",
            "Organic Search  0.837833        1.000000     0.870086       0.583117   \n",
            "Paid Search     0.814072        0.870086     1.000000       0.596428   \n",
            "Social Search   0.604060        0.583117     0.596428       1.000000   \n",
            "Undefined       0.517505        0.526068     0.521961       0.455126   \n",
            "\n",
            "channel         Undefined  \n",
            "channel                    \n",
            "Direct           0.517505  \n",
            "Organic Search   0.526068  \n",
            "Paid Search      0.521961  \n",
            "Social Search    0.455126  \n",
            "Undefined        1.000000  \n",
            "\n",
            "Пара: Paid Search - Organic Search\n",
            "Коефіцієнт кореляції Пірсона: 0.8701\n",
            "P-value: 0.0000\n",
            "Кореляція статистично значуща (p < 0.05).\n",
            "\n",
            "Пара: Paid Search - Direct\n",
            "Коефіцієнт кореляції Пірсона: 0.8141\n",
            "P-value: 0.0000\n",
            "Кореляція статистично значуща (p < 0.05).\n",
            "\n",
            "Пара: Paid Search - Undefined\n",
            "Коефіцієнт кореляції Пірсона: 0.5220\n",
            "P-value: 0.0000\n",
            "Кореляція статистично значуща (p < 0.05).\n",
            "\n",
            "Пара: Paid Search - Social Search\n",
            "Коефіцієнт кореляції Пірсона: 0.5964\n",
            "P-value: 0.0000\n",
            "Кореляція статистично значуща (p < 0.05).\n",
            "\n",
            "Пара: Organic Search - Direct\n",
            "Коефіцієнт кореляції Пірсона: 0.8378\n",
            "P-value: 0.0000\n",
            "Кореляція статистично значуща (p < 0.05).\n",
            "\n",
            "Пара: Organic Search - Undefined\n",
            "Коефіцієнт кореляції Пірсона: 0.5261\n",
            "P-value: 0.0000\n",
            "Кореляція статистично значуща (p < 0.05).\n",
            "\n",
            "Пара: Organic Search - Social Search\n",
            "Коефіцієнт кореляції Пірсона: 0.5831\n",
            "P-value: 0.0000\n",
            "Кореляція статистично значуща (p < 0.05).\n",
            "\n",
            "Пара: Direct - Undefined\n",
            "Коефіцієнт кореляції Пірсона: 0.5175\n",
            "P-value: 0.0000\n",
            "Кореляція статистично значуща (p < 0.05).\n",
            "\n",
            "Пара: Direct - Social Search\n",
            "Коефіцієнт кореляції Пірсона: 0.6041\n",
            "P-value: 0.0000\n",
            "Кореляція статистично значуща (p < 0.05).\n",
            "\n",
            "Пара: Undefined - Social Search\n",
            "Коефіцієнт кореляції Пірсона: 0.4551\n",
            "P-value: 0.0000\n",
            "Кореляція статистично значуща (p < 0.05).\n"
          ]
        }
      ]
    },
    {
      "cell_type": "markdown",
      "source": [
        "Дивлячись на дані, бачимо, що продажі на континентах Америка, Азія та Європа мають міцний зв’язок між собою. Коефіцієнти кореляції Пірсона — 0.7920 (Америка-Азія), 0.7706 (Америка-Європа) та 0.7684 (Азія-Європа) — свідчать про сильну позитивну залежність. Усі p-value дорівнюють 0.0000, що значно менше 0.05, тож ці кореляції є статистично значущими. Це означає, що зростання продажів на одному континенті, ймовірно, супроводжується підвищенням на інших."
      ],
      "metadata": {
        "id": "FdNkrYzU-iK9"
      }
    },
    {
      "cell_type": "code",
      "source": [
        "# 4 Аналіз кореляції між продажами топ-5 категорій товарів\n",
        "total_sales_category = df.groupby('category')['price'].sum().sort_values(ascending=False)\n",
        "top5_categories = total_sales_category.head(5).index.tolist()\n",
        "print(f\"Топ-5 категорій: {top5_categories}\")\n",
        "\n",
        "# Щоденні продажі за топ-5 категоріями\n",
        "daily_sales_cat = df[df['category'].isin(top5_categories)].pivot_table(\n",
        "    index='date', columns='category', values='price', aggfunc='sum'\n",
        ").fillna(0)\n",
        "\n",
        "# Матриця кореляцій\n",
        "corr_matrix = daily_sales_cat.corr()\n",
        "print(\"Матриця кореляцій:\")\n",
        "print(corr_matrix)\n",
        "\n",
        "# Створюємо пари категорій вручну без itertools\n",
        "pairs = []\n",
        "for i in range(len(top5_categories)):\n",
        "    for j in range(i + 1, len(top5_categories)):\n",
        "        pairs.append((top5_categories[i], top5_categories[j]))\n",
        "\n",
        "# Аналіз статистичної значущості для кожної пари\n",
        "for cat1, cat2 in pairs:\n",
        "    corr, p_value = pearsonr(daily_sales_cat[cat1], daily_sales_cat[cat2])\n",
        "    print(f\"\\nПара: {cat1} - {cat2}\")\n",
        "    print(f\"Коефіцієнт кореляції Пірсона: {corr:.4f}\")\n",
        "    print(f\"P-value: {p_value:.4f}\")\n",
        "    if p_value < 0.05:\n",
        "        print(\"Кореляція статистично значуща (p < 0.05).\")\n",
        "    else:\n",
        "        print(\"Кореляція не є статистично значущою (p >= 0.05).\")"
      ],
      "metadata": {
        "colab": {
          "base_uri": "https://localhost:8080/"
        },
        "id": "S7O1ETAIviYm",
        "outputId": "c7dd961e-3039-4892-de1d-3a6337fa7e09"
      },
      "execution_count": null,
      "outputs": [
        {
          "output_type": "stream",
          "name": "stdout",
          "text": [
            "Топ-5 категорій: ['Sofas & armchairs', 'Chairs', 'Beds', 'Bookcases & shelving units', 'Cabinets & cupboards']\n",
            "Матриця кореляцій:\n",
            "category                        Beds  Bookcases & shelving units  \\\n",
            "category                                                           \n",
            "Beds                        1.000000                    0.592913   \n",
            "Bookcases & shelving units  0.592913                    1.000000   \n",
            "Cabinets & cupboards        0.514609                    0.539428   \n",
            "Chairs                      0.554500                    0.637090   \n",
            "Sofas & armchairs           0.535378                    0.666194   \n",
            "\n",
            "category                    Cabinets & cupboards    Chairs  Sofas & armchairs  \n",
            "category                                                                       \n",
            "Beds                                    0.514609  0.554500           0.535378  \n",
            "Bookcases & shelving units              0.539428  0.637090           0.666194  \n",
            "Cabinets & cupboards                    1.000000  0.572870           0.657563  \n",
            "Chairs                                  0.572870  1.000000           0.578248  \n",
            "Sofas & armchairs                       0.657563  0.578248           1.000000  \n",
            "\n",
            "Пара: Sofas & armchairs - Chairs\n",
            "Коефіцієнт кореляції Пірсона: 0.5782\n",
            "P-value: 0.0000\n",
            "Кореляція статистично значуща (p < 0.05).\n",
            "\n",
            "Пара: Sofas & armchairs - Beds\n",
            "Коефіцієнт кореляції Пірсона: 0.5354\n",
            "P-value: 0.0000\n",
            "Кореляція статистично значуща (p < 0.05).\n",
            "\n",
            "Пара: Sofas & armchairs - Bookcases & shelving units\n",
            "Коефіцієнт кореляції Пірсона: 0.6662\n",
            "P-value: 0.0000\n",
            "Кореляція статистично значуща (p < 0.05).\n",
            "\n",
            "Пара: Sofas & armchairs - Cabinets & cupboards\n",
            "Коефіцієнт кореляції Пірсона: 0.6576\n",
            "P-value: 0.0000\n",
            "Кореляція статистично значуща (p < 0.05).\n",
            "\n",
            "Пара: Chairs - Beds\n",
            "Коефіцієнт кореляції Пірсона: 0.5545\n",
            "P-value: 0.0000\n",
            "Кореляція статистично значуща (p < 0.05).\n",
            "\n",
            "Пара: Chairs - Bookcases & shelving units\n",
            "Коефіцієнт кореляції Пірсона: 0.6371\n",
            "P-value: 0.0000\n",
            "Кореляція статистично значуща (p < 0.05).\n",
            "\n",
            "Пара: Chairs - Cabinets & cupboards\n",
            "Коефіцієнт кореляції Пірсона: 0.5729\n",
            "P-value: 0.0000\n",
            "Кореляція статистично значуща (p < 0.05).\n",
            "\n",
            "Пара: Beds - Bookcases & shelving units\n",
            "Коефіцієнт кореляції Пірсона: 0.5929\n",
            "P-value: 0.0000\n",
            "Кореляція статистично значуща (p < 0.05).\n",
            "\n",
            "Пара: Beds - Cabinets & cupboards\n",
            "Коефіцієнт кореляції Пірсона: 0.5146\n",
            "P-value: 0.0000\n",
            "Кореляція статистично значуща (p < 0.05).\n",
            "\n",
            "Пара: Bookcases & shelving units - Cabinets & cupboards\n",
            "Коефіцієнт кореляції Пірсона: 0.5394\n",
            "P-value: 0.0000\n",
            "Кореляція статистично значуща (p < 0.05).\n"
          ]
        }
      ]
    },
    {
      "cell_type": "markdown",
      "source": [
        "Дані показують кореляційні зв’язки між продажами категорій: \"Sofas & armchairs\", \"Chairs\", \"Beds\", \"Bookcases & shelving units\" та \"Cabinets & cupboards\". Коефіцієнти кореляції Пірсона варіюються від 0.5146 (між \"Beds\" і \"Cabinets & cupboards\") до 0.6662 (між \"Sofas & armchairs\" і \"Bookcases & shelving units\"), усі з p-value = 0.0000, що вказує на статистично значущу позитивну кореляцію (p < 0.05). Найсильніший зв’язок спостерігається між \"Sofas & armchairs\" і \"Bookcases & shelving units\" (0.6662), тоді як найслабший — між \"Beds\" і \"Cabinets & cupboards\" (0.5146). Це може свідчити про те, що попит на ці товари частково синхронізується, можливо, через схожі ринкові тренди чи сезонність"
      ],
      "metadata": {
        "id": "G7LLIU3u_E9k"
      }
    },
    {
      "cell_type": "code",
      "source": [
        "#Знаходимо топ-5 категорій за загальними продажами\n",
        "total_sales_category = df.groupby('category')['price'].sum().sort_values(ascending=False)\n",
        "top5_categories = total_sales_category.head(5).index.tolist()\n",
        "print(f\"Топ-5 категорій: {top5_categories}\")\n",
        "\n",
        "# Щоденні продажі за топ-5 категоріями\n",
        "daily_sales_cat = df[df['category'].isin(top5_categories)].pivot_table(\n",
        "    index='date', columns='category', values='price', aggfunc='sum'\n",
        ").fillna(0)\n",
        "\n",
        "# Матриця кореляцій\n",
        "corr_matrix = daily_sales_cat.corr()\n",
        "print(\"Матриця кореляцій:\")\n",
        "print(corr_matrix)\n",
        "\n",
        "# Візуалізація: Теплова карта матриці кореляцій\n",
        "plt.figure(figsize=(8, 6))\n",
        "sns.heatmap(corr_matrix, annot=True, cmap='coolwarm', vmin=-1, vmax=1, center=0)\n",
        "plt.title('Теплова карта кореляцій між топ-5 категоріями')\n",
        "plt.show()"
      ],
      "metadata": {
        "colab": {
          "base_uri": "https://localhost:8080/",
          "height": 1000
        },
        "id": "jvXH1JdDwSf3",
        "outputId": "5d0558e2-97dd-4edc-ded5-a943ab7c2743"
      },
      "execution_count": null,
      "outputs": [
        {
          "output_type": "stream",
          "name": "stdout",
          "text": [
            "Топ-5 категорій: ['Sofas & armchairs', 'Chairs', 'Beds', 'Bookcases & shelving units', 'Cabinets & cupboards']\n",
            "Матриця кореляцій:\n",
            "category                        Beds  Bookcases & shelving units  \\\n",
            "category                                                           \n",
            "Beds                        1.000000                    0.592913   \n",
            "Bookcases & shelving units  0.592913                    1.000000   \n",
            "Cabinets & cupboards        0.514609                    0.539428   \n",
            "Chairs                      0.554500                    0.637090   \n",
            "Sofas & armchairs           0.535378                    0.666194   \n",
            "\n",
            "category                    Cabinets & cupboards    Chairs  Sofas & armchairs  \n",
            "category                                                                       \n",
            "Beds                                    0.514609  0.554500           0.535378  \n",
            "Bookcases & shelving units              0.539428  0.637090           0.666194  \n",
            "Cabinets & cupboards                    1.000000  0.572870           0.657563  \n",
            "Chairs                                  0.572870  1.000000           0.578248  \n",
            "Sofas & armchairs                       0.657563  0.578248           1.000000  \n"
          ]
        },
        {
          "output_type": "display_data",
          "data": {
            "text/plain": [
              "<Figure size 800x600 with 2 Axes>"
            ],
            "image/png": "[encoded data removed]"
          },
          "metadata": {}
        }
      ]
    },
    {
      "cell_type": "markdown",
      "source": [
        "Поглянувши на теплову карту кореляцій між продажами топ-5 категорій меблів — \"Sofas & armchairs\", \"Chairs\", \"Beds\", \"Bookcases & shelving units\" та \"Cabinets & cupboards\" — ми бачимо цікаву картину. Усі категорії демонструють позитивний зв’язок між собою, що радує, адже це може свідчити про загальний інтерес людей до облаштування оселі. Найсильніша дружба (кореляція 0.67) склалася між \"Sofas & armchairs\" і \"Bookcases & shelving units\" — мабуть, люди люблять поєднувати затишні дивани з стильними полицями. Трохи менше, але все ще помітно, корелюють \"Chairs\" з \"Bookcases & shelving units\" (0.64) і \"Sofas & armchairs\" з \"Cabinets & cupboards\" (0.66) — здається, ці товари часто обирають разом для гармонійного інтер’єру.\n",
        "Трохи слабші зв’язки (від 0.51 до 0.59) ми бачимо між \"Beds\" і \"Cabinets & cupboards\" або \"Beds\" і \"Chairs\", що може означати, що ліжка живуть своїм життям, а інші меблі частіше купують як доповнення до вітальні чи кухні. Загалом, усі ці кореляції виглядають природно, адже меблі часто обирають комплектами, залежно від потреб чи сезону."
      ],
      "metadata": {
        "id": "ZBs4p5iG_tNV"
      }
    },
    {
      "cell_type": "markdown",
      "source": [
        "#Статистичний аналіз відмінностей між групами\n",
        "\n",
        "\n",
        "1.   Аналіз продажів за кожну дату зареєстрованих та незареєстрованих користувачів\n",
        "2.   Аналіз відмінностей щоденних сесій між каналами трафіку\n",
        "\n"
      ],
      "metadata": {
        "id": "ElxCXYYIAdVx"
      }
    },
    {
      "cell_type": "code",
      "source": [
        "# 1 Аналіз продажі за кожну дату зареєстрованих та незареєстрованих користувачів\n",
        "sessions_per_channel = df.groupby('channel')['session_id'].nunique()\n",
        "channels = df['channel'].unique()\n",
        "sessions_by_channel = [df[df['channel'] == ch]['session_id'].nunique() for ch in channels]\n",
        "daily_sessions = df.groupby(['date', 'channel'])['session_id'].nunique().unstack(fill_value=0)\n",
        "\n",
        "# Застосуємо тест Крускала-Валіса для порівняння кількості сесій між каналами\n",
        "stat, p = kruskal(*[daily_sessions[ch] for ch in daily_sessions.columns])\n",
        "print(f\"Статистика тесту Крускала-Валіса: {stat:.2f}, p-значення: {p:.4f}\")\n",
        "if p < 0.05:\n",
        "    print(\"Відмінності між каналами статистично значущі\")\n",
        "else:\n",
        "    print(\"Відмінності не є статистично значущими\")"
      ],
      "metadata": {
        "colab": {
          "base_uri": "https://localhost:8080/"
        },
        "id": "f51Avpn_w0md",
        "outputId": "892e8b87-7fcf-4f76-d949-4e4007163b92"
      },
      "execution_count": null,
      "outputs": [
        {
          "output_type": "stream",
          "name": "stdout",
          "text": [
            "Статистика тесту Крускала-Валіса: 368.98, p-значення: 0.0000\n",
            "Відмінності між каналами статистично значущі\n"
          ]
        }
      ]
    },
    {
      "cell_type": "markdown",
      "source": [
        "Дивлячись на результати, можна сказати, що канали, через які користувачі заходять, справді мають свій характер! Тест Крускала-Валіса показав статистику 368.98 із p-значенням 0.0000, що значно менше 0.05, тож відмінності між кількістю сесій на різних каналах є статистично значущими. Це означає, що деякі канали, мабуть, приваблюють більше відвідувачів."
      ],
      "metadata": {
        "id": "5YZ7sYeICSLZ"
      }
    },
    {
      "cell_type": "code",
      "source": [
        "# 2 Аналіз відмінностей щоденних сесій між каналами трафіку\n",
        "daily_sessions = df.groupby(['date', 'channel'])['session_id'].nunique().unstack(fill_value=0)\n",
        "# Застосуємо тест Крускала-Валіса\n",
        "stat, p = kruskal(*[daily_sessions[col] for col in daily_sessions.columns])\n",
        "print(f\"Статистика Крускала-Валіса: {stat:.2f}, p-значення: {p:.4f}\")\n",
        "if p < 0.05:\n",
        "    print(\"Відмінності між каналами статистично значущі.\")\n",
        "else:\n",
        "    print(\"Відмінності між каналами статистично незначущі.\")"
      ],
      "metadata": {
        "colab": {
          "base_uri": "https://localhost:8080/"
        },
        "id": "Hh7rNeTAxQDj",
        "outputId": "3396c622-2779-4cce-cabd-064cfee0e51c"
      },
      "execution_count": null,
      "outputs": [
        {
          "output_type": "stream",
          "name": "stdout",
          "text": [
            "Статистика Крускала-Валіса: 368.98, p-значення: 0.0000\n",
            "Відмінності між каналами статистично значущі.\n"
          ]
        }
      ]
    },
    {
      "cell_type": "markdown",
      "source": [
        "Результати тесту Крускала-Валіса (статистика 368.98, p-значення 0.0000) чітко показують, що канали трафіку справді відрізняються за кількістю щоденних сесій — і ця різниця статистично значуща (p < 0.05). Деякі канали, ймовірно, приваблюють набагато більше уваги, ніж інші, що дає змогу зосередитися на ефективних і оптимізувати слабкі. Це як перевірка, де \"переможці\" серед каналів, і тепер час їх нагородити додатковими зусиллями!"
      ],
      "metadata": {
        "id": "Cop0Jcc7C_Mo"
      }
    },
    {
      "cell_type": "markdown",
      "source": [
        "Посилання на табло стролі телінг [(https://public.tableau.com/views/Onlinefurniturestore/Revenuebymetrics?:language=en-US&publish=yes&:sid=&:redirect=auth&:display_count=n&:origin=viz_share_link)]"
      ],
      "metadata": {
        "id": "nG5iMzI8DOMP"
      }
    }
  ]
}